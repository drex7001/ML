{
 "cells": [
  {
   "cell_type": "code",
   "execution_count": 2,
   "id": "ea3c610b",
   "metadata": {},
   "outputs": [
    {
     "name": "stdout",
     "output_type": "stream",
     "text": [
      "Rows shuffled and saved to data5.csv\n"
     ]
    }
   ],
   "source": [
    "import pandas as pd\n",
    "\n",
    "# Step 1: Load the CSV file into a DataFrame\n",
    "csv_file_path = 'data4.csv'\n",
    "df = pd.read_csv(csv_file_path)\n",
    "\n",
    "# Step 2: Shuffle the rows of the DataFrame\n",
    "shuffled_df = df.sample(frac=1)  # frac=1 shuffles all rows randomly\n",
    "\n",
    "# Step 3: Save the shuffled DataFrame to a new CSV file\n",
    "shuffled_csv_file_path = 'data5.csv'\n",
    "shuffled_df.to_csv(shuffled_csv_file_path, index=False)\n",
    "\n",
    "print(\"Rows shuffled and saved to\", shuffled_csv_file_path)"
   ]
  }
 ],
 "metadata": {
  "kernelspec": {
   "display_name": "Python 3 (ipykernel)",
   "language": "python",
   "name": "python3"
  },
  "language_info": {
   "codemirror_mode": {
    "name": "ipython",
    "version": 3
   },
   "file_extension": ".py",
   "mimetype": "text/x-python",
   "name": "python",
   "nbconvert_exporter": "python",
   "pygments_lexer": "ipython3",
   "version": "3.9.7"
  }
 },
 "nbformat": 4,
 "nbformat_minor": 5
}
