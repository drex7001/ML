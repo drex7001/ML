{
 "cells": [
  {
   "cell_type": "code",
   "execution_count": 75,
   "id": "45f7b8ee",
   "metadata": {},
   "outputs": [],
   "source": [
    "import os\n",
    "import numpy as np\n",
    "import pandas as pd\n",
    "from sklearn import linear_model\n",
    "from sklearn.preprocessing import LabelEncoder\n",
    "from sklearn.model_selection import train_test_split\n",
    "import seaborn as sns\n",
    "import matplotlib.pyplot as plt\n",
    "import warnings\n",
    "warnings.simplefilter(action='ignore', category=FutureWarning)\n"
   ]
  },
  {
   "cell_type": "code",
   "execution_count": 76,
   "id": "dcb2e1ab",
   "metadata": {},
   "outputs": [
    {
     "data": {
      "text/html": [
       "<div>\n",
       "<style scoped>\n",
       "    .dataframe tbody tr th:only-of-type {\n",
       "        vertical-align: middle;\n",
       "    }\n",
       "\n",
       "    .dataframe tbody tr th {\n",
       "        vertical-align: top;\n",
       "    }\n",
       "\n",
       "    .dataframe thead th {\n",
       "        text-align: right;\n",
       "    }\n",
       "</style>\n",
       "<table border=\"1\" class=\"dataframe\">\n",
       "  <thead>\n",
       "    <tr style=\"text-align: right;\">\n",
       "      <th></th>\n",
       "      <th>Name</th>\n",
       "      <th>Age</th>\n",
       "      <th>Gender</th>\n",
       "      <th>Address</th>\n",
       "      <th>Education</th>\n",
       "      <th>Job ( clerical/forces  /agriculture/ labor/retired/ other)</th>\n",
       "      <th>Monthly Income</th>\n",
       "      <th>Source of water for drinking(tube well/public well/private well/pipe bourn)</th>\n",
       "      <th>Smorking or not</th>\n",
       "      <th>Using alcohol or not</th>\n",
       "      <th>Using betel nut or not</th>\n",
       "      <th>Do you have any of this disorders diabetes/stress/blood pressure</th>\n",
       "      <th>TP</th>\n",
       "      <th>Having kidney disease</th>\n",
       "    </tr>\n",
       "  </thead>\n",
       "  <tbody>\n",
       "    <tr>\n",
       "      <th>0</th>\n",
       "      <td>Yasawathi Karunarathna</td>\n",
       "      <td>46</td>\n",
       "      <td>Female</td>\n",
       "      <td>Abayapura Rd,  Padaviya</td>\n",
       "      <td>Primary</td>\n",
       "      <td>Forces</td>\n",
       "      <td>70000</td>\n",
       "      <td>Public well</td>\n",
       "      <td>Smoking</td>\n",
       "      <td>Yes</td>\n",
       "      <td>Yes</td>\n",
       "      <td>No</td>\n",
       "      <td>746985260.0</td>\n",
       "      <td>Yes</td>\n",
       "    </tr>\n",
       "    <tr>\n",
       "      <th>1</th>\n",
       "      <td>Wimalaweera</td>\n",
       "      <td>66</td>\n",
       "      <td>Male</td>\n",
       "      <td>Ikiriwawa Rd ,Thmbuthegama</td>\n",
       "      <td>05 grade</td>\n",
       "      <td>Other</td>\n",
       "      <td>33500</td>\n",
       "      <td>Public well</td>\n",
       "      <td>Smoking</td>\n",
       "      <td>No</td>\n",
       "      <td>No</td>\n",
       "      <td>No</td>\n",
       "      <td>703569874.0</td>\n",
       "      <td>Yes</td>\n",
       "    </tr>\n",
       "    <tr>\n",
       "      <th>2</th>\n",
       "      <td>Wimalawathi</td>\n",
       "      <td>50</td>\n",
       "      <td>Female</td>\n",
       "      <td>Ambalama Mawatha,Mahadivulwawa, Kakirawa</td>\n",
       "      <td>OL</td>\n",
       "      <td>Other</td>\n",
       "      <td>37000</td>\n",
       "      <td>Public well</td>\n",
       "      <td>Not smoking</td>\n",
       "      <td>No</td>\n",
       "      <td>No</td>\n",
       "      <td>No</td>\n",
       "      <td>758952834.0</td>\n",
       "      <td>Yes</td>\n",
       "    </tr>\n",
       "    <tr>\n",
       "      <th>3</th>\n",
       "      <td>Wijitha Amunugama</td>\n",
       "      <td>57</td>\n",
       "      <td>Male</td>\n",
       "      <td>Labunoruwa ,Thirippane</td>\n",
       "      <td>AL</td>\n",
       "      <td>Retired</td>\n",
       "      <td>24500</td>\n",
       "      <td>Public well</td>\n",
       "      <td>Smoking</td>\n",
       "      <td>No</td>\n",
       "      <td>No</td>\n",
       "      <td>No</td>\n",
       "      <td>745296325.0</td>\n",
       "      <td>Yes</td>\n",
       "    </tr>\n",
       "    <tr>\n",
       "      <th>4</th>\n",
       "      <td>Wasanthi</td>\n",
       "      <td>50</td>\n",
       "      <td>Female</td>\n",
       "      <td>Kala Gama,Thmbuthegama</td>\n",
       "      <td>AL</td>\n",
       "      <td>Retired</td>\n",
       "      <td>25000</td>\n",
       "      <td>Tube well</td>\n",
       "      <td>Smoking</td>\n",
       "      <td>Yes</td>\n",
       "      <td>Yes</td>\n",
       "      <td>No</td>\n",
       "      <td>375832456.0</td>\n",
       "      <td>Yes</td>\n",
       "    </tr>\n",
       "  </tbody>\n",
       "</table>\n",
       "</div>"
      ],
      "text/plain": [
       "                     Name  Age  Gender  \\\n",
       "0  Yasawathi Karunarathna   46  Female   \n",
       "1             Wimalaweera   66    Male   \n",
       "2             Wimalawathi   50  Female   \n",
       "3       Wijitha Amunugama   57    Male   \n",
       "4                Wasanthi   50  Female   \n",
       "\n",
       "                                    Address Education  \\\n",
       "0                   Abayapura Rd,  Padaviya   Primary   \n",
       "1                Ikiriwawa Rd ,Thmbuthegama  05 grade   \n",
       "2  Ambalama Mawatha,Mahadivulwawa, Kakirawa        OL   \n",
       "3                    Labunoruwa ,Thirippane        AL   \n",
       "4                    Kala Gama,Thmbuthegama        AL   \n",
       "\n",
       "  Job ( clerical/forces  /agriculture/ labor/retired/ other)  Monthly Income  \\\n",
       "0                                             Forces                   70000   \n",
       "1                                              Other                   33500   \n",
       "2                                              Other                   37000   \n",
       "3                                            Retired                   24500   \n",
       "4                                            Retired                   25000   \n",
       "\n",
       "  Source of water for drinking(tube well/public well/private well/pipe bourn)  \\\n",
       "0                                        Public well                            \n",
       "1                                        Public well                            \n",
       "2                                        Public well                            \n",
       "3                                        Public well                            \n",
       "4                                          Tube well                            \n",
       "\n",
       "  Smorking or not Using alcohol or not Using betel nut or not  \\\n",
       "0         Smoking                  Yes                    Yes   \n",
       "1         Smoking                   No                     No   \n",
       "2     Not smoking                   No                     No   \n",
       "3         Smoking                   No                     No   \n",
       "4         Smoking                  Yes                    Yes   \n",
       "\n",
       "  Do you have any of this disorders diabetes/stress/blood pressure   \\\n",
       "0                                                 No                  \n",
       "1                                                 No                  \n",
       "2                                                 No                  \n",
       "3                                                 No                  \n",
       "4                                                 No                  \n",
       "\n",
       "            TP Having kidney disease  \n",
       "0  746985260.0                   Yes  \n",
       "1  703569874.0                   Yes  \n",
       "2  758952834.0                   Yes  \n",
       "3  745296325.0                   Yes  \n",
       "4  375832456.0                   Yes  "
      ]
     },
     "execution_count": 76,
     "metadata": {},
     "output_type": "execute_result"
    }
   ],
   "source": [
    "# Read dataset to a dataframe\n",
    "df = pd.read_csv('Kidney Patients Data.csv',encoding='windows-1254')\n",
    "\n",
    "df.head()"
   ]
  },
  {
   "cell_type": "code",
   "execution_count": 77,
   "id": "037f2d40",
   "metadata": {},
   "outputs": [
    {
     "data": {
      "text/plain": [
       "Index(['Name', 'Age', 'Gender', 'Address', 'Education',\n",
       "       'Job ( clerical/forces  /agriculture/ labor/retired/ other)',\n",
       "       'Monthly Income',\n",
       "       'Source of water for drinking(tube well/public well/private well/pipe bourn)',\n",
       "       'Smorking or not', 'Using alcohol or not', 'Using betel nut or not',\n",
       "       'Do you have any of this disorders diabetes/stress/blood pressure ',\n",
       "       'TP', 'Having kidney disease'],\n",
       "      dtype='object')"
      ]
     },
     "execution_count": 77,
     "metadata": {},
     "output_type": "execute_result"
    }
   ],
   "source": [
    "df.columns"
   ]
  },
  {
   "cell_type": "code",
   "execution_count": 78,
   "id": "ac3933e3",
   "metadata": {},
   "outputs": [
    {
     "data": {
      "text/plain": [
       "Name                                                                            object\n",
       "Age                                                                              int64\n",
       "Gender                                                                          object\n",
       "Address                                                                         object\n",
       "Education                                                                       object\n",
       "Job ( clerical/forces  /agriculture/ labor/retired/ other)                      object\n",
       "Monthly Income                                                                   int64\n",
       "Source of water for drinking(tube well/public well/private well/pipe bourn)     object\n",
       "Smorking or not                                                                 object\n",
       "Using alcohol or not                                                            object\n",
       "Using betel nut or not                                                          object\n",
       "Do you have any of this disorders diabetes/stress/blood pressure                object\n",
       "TP                                                                             float64\n",
       "Having kidney disease                                                           object\n",
       "dtype: object"
      ]
     },
     "execution_count": 78,
     "metadata": {},
     "output_type": "execute_result"
    }
   ],
   "source": [
    "df.dtypes"
   ]
  },
  {
   "cell_type": "code",
   "execution_count": 79,
   "id": "76d3944f",
   "metadata": {},
   "outputs": [],
   "source": [
    "df = df.drop(['Name', 'Address','TP'], axis=1)"
   ]
  },
  {
   "cell_type": "code",
   "execution_count": 80,
   "id": "83ceef1f",
   "metadata": {},
   "outputs": [
    {
     "data": {
      "text/plain": [
       "Age                                                                             0\n",
       "Gender                                                                          0\n",
       "Education                                                                       1\n",
       "Job ( clerical/forces  /agriculture/ labor/retired/ other)                      0\n",
       "Monthly Income                                                                  0\n",
       "Source of water for drinking(tube well/public well/private well/pipe bourn)     2\n",
       "Smorking or not                                                                 3\n",
       "Using alcohol or not                                                            0\n",
       "Using betel nut or not                                                          0\n",
       "Do you have any of this disorders diabetes/stress/blood pressure               10\n",
       "Having kidney disease                                                           0\n",
       "dtype: int64"
      ]
     },
     "execution_count": 80,
     "metadata": {},
     "output_type": "execute_result"
    }
   ],
   "source": [
    "df.isnull().sum()"
   ]
  },
  {
   "cell_type": "code",
   "execution_count": 81,
   "id": "8aa388ab",
   "metadata": {},
   "outputs": [],
   "source": [
    "df.dropna(inplace=True)"
   ]
  },
  {
   "cell_type": "code",
   "execution_count": 82,
   "id": "2e4c6d87",
   "metadata": {},
   "outputs": [
    {
     "data": {
      "text/html": [
       "<div>\n",
       "<style scoped>\n",
       "    .dataframe tbody tr th:only-of-type {\n",
       "        vertical-align: middle;\n",
       "    }\n",
       "\n",
       "    .dataframe tbody tr th {\n",
       "        vertical-align: top;\n",
       "    }\n",
       "\n",
       "    .dataframe thead th {\n",
       "        text-align: right;\n",
       "    }\n",
       "</style>\n",
       "<table border=\"1\" class=\"dataframe\">\n",
       "  <thead>\n",
       "    <tr style=\"text-align: right;\">\n",
       "      <th></th>\n",
       "      <th>Age</th>\n",
       "      <th>Gender</th>\n",
       "      <th>Education</th>\n",
       "      <th>Job ( clerical/forces  /agriculture/ labor/retired/ other)</th>\n",
       "      <th>Monthly Income</th>\n",
       "      <th>Source of water for drinking(tube well/public well/private well/pipe bourn)</th>\n",
       "      <th>Smorking or not</th>\n",
       "      <th>Using alcohol or not</th>\n",
       "      <th>Using betel nut or not</th>\n",
       "      <th>Do you have any of this disorders diabetes/stress/blood pressure</th>\n",
       "      <th>Having kidney disease</th>\n",
       "    </tr>\n",
       "  </thead>\n",
       "  <tbody>\n",
       "    <tr>\n",
       "      <th>0</th>\n",
       "      <td>46</td>\n",
       "      <td>0</td>\n",
       "      <td>13</td>\n",
       "      <td>2</td>\n",
       "      <td>70000</td>\n",
       "      <td>2</td>\n",
       "      <td>2</td>\n",
       "      <td>1</td>\n",
       "      <td>1</td>\n",
       "      <td>1</td>\n",
       "      <td>1</td>\n",
       "    </tr>\n",
       "    <tr>\n",
       "      <th>1</th>\n",
       "      <td>66</td>\n",
       "      <td>1</td>\n",
       "      <td>1</td>\n",
       "      <td>4</td>\n",
       "      <td>33500</td>\n",
       "      <td>2</td>\n",
       "      <td>2</td>\n",
       "      <td>0</td>\n",
       "      <td>0</td>\n",
       "      <td>1</td>\n",
       "      <td>1</td>\n",
       "    </tr>\n",
       "    <tr>\n",
       "      <th>2</th>\n",
       "      <td>50</td>\n",
       "      <td>0</td>\n",
       "      <td>12</td>\n",
       "      <td>4</td>\n",
       "      <td>37000</td>\n",
       "      <td>2</td>\n",
       "      <td>1</td>\n",
       "      <td>0</td>\n",
       "      <td>0</td>\n",
       "      <td>1</td>\n",
       "      <td>1</td>\n",
       "    </tr>\n",
       "    <tr>\n",
       "      <th>3</th>\n",
       "      <td>57</td>\n",
       "      <td>1</td>\n",
       "      <td>8</td>\n",
       "      <td>5</td>\n",
       "      <td>24500</td>\n",
       "      <td>2</td>\n",
       "      <td>2</td>\n",
       "      <td>0</td>\n",
       "      <td>0</td>\n",
       "      <td>1</td>\n",
       "      <td>1</td>\n",
       "    </tr>\n",
       "    <tr>\n",
       "      <th>4</th>\n",
       "      <td>50</td>\n",
       "      <td>0</td>\n",
       "      <td>8</td>\n",
       "      <td>5</td>\n",
       "      <td>25000</td>\n",
       "      <td>4</td>\n",
       "      <td>2</td>\n",
       "      <td>1</td>\n",
       "      <td>1</td>\n",
       "      <td>1</td>\n",
       "      <td>1</td>\n",
       "    </tr>\n",
       "  </tbody>\n",
       "</table>\n",
       "</div>"
      ],
      "text/plain": [
       "   Age  Gender  Education  \\\n",
       "0   46       0         13   \n",
       "1   66       1          1   \n",
       "2   50       0         12   \n",
       "3   57       1          8   \n",
       "4   50       0          8   \n",
       "\n",
       "   Job ( clerical/forces  /agriculture/ labor/retired/ other)  Monthly Income  \\\n",
       "0                                                  2                    70000   \n",
       "1                                                  4                    33500   \n",
       "2                                                  4                    37000   \n",
       "3                                                  5                    24500   \n",
       "4                                                  5                    25000   \n",
       "\n",
       "   Source of water for drinking(tube well/public well/private well/pipe bourn)  \\\n",
       "0                                                  2                             \n",
       "1                                                  2                             \n",
       "2                                                  2                             \n",
       "3                                                  2                             \n",
       "4                                                  4                             \n",
       "\n",
       "   Smorking or not  Using alcohol or not  Using betel nut or not  \\\n",
       "0                2                     1                       1   \n",
       "1                2                     0                       0   \n",
       "2                1                     0                       0   \n",
       "3                2                     0                       0   \n",
       "4                2                     1                       1   \n",
       "\n",
       "   Do you have any of this disorders diabetes/stress/blood pressure   \\\n",
       "0                                                  1                   \n",
       "1                                                  1                   \n",
       "2                                                  1                   \n",
       "3                                                  1                   \n",
       "4                                                  1                   \n",
       "\n",
       "   Having kidney disease  \n",
       "0                      1  \n",
       "1                      1  \n",
       "2                      1  \n",
       "3                      1  \n",
       "4                      1  "
      ]
     },
     "execution_count": 82,
     "metadata": {},
     "output_type": "execute_result"
    }
   ],
   "source": [
    "cols = ['Gender', 'Education',\n",
    "       'Job ( clerical/forces  /agriculture/ labor/retired/ other)',\n",
    "       'Source of water for drinking(tube well/public well/private well/pipe bourn)',\n",
    "       'Smorking or not', 'Using alcohol or not', 'Using betel nut or not',\n",
    "       'Do you have any of this disorders diabetes/stress/blood pressure ', 'Having kidney disease']\n",
    "df[cols] = df[cols].apply(LabelEncoder().fit_transform)\n",
    "df.head()"
   ]
  },
  {
   "cell_type": "code",
   "execution_count": 83,
   "id": "1a6ff89f",
   "metadata": {},
   "outputs": [
    {
     "data": {
      "image/png": "[encoded data removed]",
      "text/plain": [
       "<Figure size 1080x720 with 2 Axes>"
      ]
     },
     "metadata": {
      "needs_background": "light"
     },
     "output_type": "display_data"
    }
   ],
   "source": [
    "plt.figure(figsize = (15, 10))\n",
    "sns.heatmap(df.corr(), cmap = 'Blues', square = True, annot = True)\n",
    "plt.title(\"Visualizing Correlations\", size = 20)\n",
    "plt.show()"
   ]
  },
  {
   "cell_type": "code",
   "execution_count": 84,
   "id": "d72c99df",
   "metadata": {},
   "outputs": [],
   "source": [
    "# sns.pairplot(df,hue='Having kidney disease')"
   ]
  },
  {
   "cell_type": "code",
   "execution_count": 85,
   "id": "3343dee2",
   "metadata": {},
   "outputs": [],
   "source": [
    "# columns=df.columns\n",
    "# columns=list(columns)\n",
    "# columns.pop()\n",
    "\n",
    "# sns.set(rc={'figure.figsize':(15,17)})\n",
    "# sns.set_style(style='white')\n",
    "\n",
    "# for i in range(len(columns)):\n",
    "#     plt.subplot(4,3,i+1)\n",
    "#     sns.distplot(df[columns[i]], hist=True, rug=True, color='b')"
   ]
  },
  {
   "cell_type": "code",
   "execution_count": 86,
   "id": "77db7273",
   "metadata": {},
   "outputs": [
    {
     "data": {
      "text/plain": [
       "Index(['Age', 'Gender', 'Education',\n",
       "       'Job ( clerical/forces  /agriculture/ labor/retired/ other)',\n",
       "       'Monthly Income',\n",
       "       'Source of water for drinking(tube well/public well/private well/pipe bourn)',\n",
       "       'Smorking or not', 'Using alcohol or not', 'Using betel nut or not',\n",
       "       'Do you have any of this disorders diabetes/stress/blood pressure ',\n",
       "       'Having kidney disease'],\n",
       "      dtype='object')"
      ]
     },
     "execution_count": 86,
     "metadata": {},
     "output_type": "execute_result"
    }
   ],
   "source": [
    "df.columns"
   ]
  },
  {
   "cell_type": "code",
   "execution_count": 87,
   "id": "7070c9fd",
   "metadata": {},
   "outputs": [],
   "source": [
    "x = df[['Age', 'Gender', 'Education',\n",
    "       'Job ( clerical/forces  /agriculture/ labor/retired/ other)',\n",
    "       'Source of water for drinking(tube well/public well/private well/pipe bourn)',\n",
    "       'Smorking or not', 'Using alcohol or not', 'Using betel nut or not',\n",
    "       'Do you have any of this disorders diabetes/stress/blood pressure ',]].values\n",
    "\n",
    "\n",
    "y = df['Having kidney disease'].values"
   ]
  },
  {
   "cell_type": "code",
   "execution_count": 88,
   "id": "b5e2138c",
   "metadata": {},
   "outputs": [],
   "source": [
    "from sklearn.model_selection import train_test_split\n",
    "x_train, x_test, y_train, y_test = train_test_split(x,y,random_state=100,test_size=0.25)"
   ]
  },
  {
   "cell_type": "code",
   "execution_count": 89,
   "id": "7c590f19",
   "metadata": {},
   "outputs": [
    {
     "data": {
      "text/plain": [
       "(361,)"
      ]
     },
     "execution_count": 89,
     "metadata": {},
     "output_type": "execute_result"
    }
   ],
   "source": [
    "x_train.shape\n",
    "y_train.shape"
   ]
  },
  {
   "cell_type": "code",
   "execution_count": 90,
   "id": "4b912f9f",
   "metadata": {},
   "outputs": [],
   "source": [
    "import xgboost as xgb"
   ]
  },
  {
   "cell_type": "code",
   "execution_count": 91,
   "id": "c044dac1",
   "metadata": {},
   "outputs": [],
   "source": [
    "xgbc = xgb.XGBClassifier() "
   ]
  },
  {
   "cell_type": "code",
   "execution_count": 92,
   "id": "7b3a00ba",
   "metadata": {},
   "outputs": [
    {
     "data": {
      "text/plain": [
       "XGBClassifier(base_score=0.5, booster='gbtree', callbacks=None,\n",
       "              colsample_bylevel=1, colsample_bynode=1, colsample_bytree=1,\n",
       "              early_stopping_rounds=None, enable_categorical=False,\n",
       "              eval_metric=None, gamma=0, gpu_id=-1, grow_policy='depthwise',\n",
       "              importance_type=None, interaction_constraints='',\n",
       "              learning_rate=0.300000012, max_bin=256, max_cat_to_onehot=4,\n",
       "              max_delta_step=0, max_depth=6, max_leaves=0, min_child_weight=1,\n",
       "              missing=nan, monotone_constraints='()', n_estimators=100,\n",
       "              n_jobs=0, num_parallel_tree=1, predictor='auto', random_state=0,\n",
       "              reg_alpha=0, reg_lambda=1, ...)"
      ]
     },
     "execution_count": 92,
     "metadata": {},
     "output_type": "execute_result"
    }
   ],
   "source": [
    "xgbc.fit(x_train, y_train)"
   ]
  },
  {
   "cell_type": "code",
   "execution_count": 104,
   "id": "a81cbfb7",
   "metadata": {},
   "outputs": [
    {
     "name": "stdout",
     "output_type": "stream",
     "text": [
      "Training score:  0.9504132231404959\n"
     ]
    }
   ],
   "source": [
    "score = xgbc.score(x_test, y_test)  \n",
    "print(\"Training score: \", score)"
   ]
  },
  {
   "cell_type": "code",
   "execution_count": 94,
   "id": "4819e032",
   "metadata": {},
   "outputs": [
    {
     "data": {
      "text/plain": [
       "array([1, 0, 0, 1, 0, 0, 1, 0, 1, 1, 1, 0, 1, 1, 0, 1, 1, 0, 0, 0, 1, 1,\n",
       "       0, 1, 0, 1, 0, 0, 1, 1, 0, 0, 0, 1, 1, 1, 0, 0, 0, 0, 0, 0, 0, 1,\n",
       "       0, 1, 0, 1, 1, 0, 1, 1, 1, 0, 0, 0, 1, 1, 1, 0, 0, 0, 1, 0, 1, 0,\n",
       "       0, 1, 0, 0, 0, 1, 1, 0, 1, 0, 0, 1, 0, 1, 0, 1, 1, 0, 1, 0, 1, 1,\n",
       "       0, 1, 1, 0, 0, 0, 0, 1, 0, 1, 0, 1, 1, 0, 0, 0, 1, 1, 1, 0, 1, 0,\n",
       "       1, 0, 0, 1, 0, 1, 1, 1, 0, 1, 0])"
      ]
     },
     "execution_count": 94,
     "metadata": {},
     "output_type": "execute_result"
    }
   ],
   "source": [
    "y_pred = xgbc.predict(x_test)\n",
    "y_pred"
   ]
  },
  {
   "cell_type": "code",
   "execution_count": 95,
   "id": "a0de362c",
   "metadata": {},
   "outputs": [
    {
     "data": {
      "text/plain": [
       "0.049586776859504134"
      ]
     },
     "execution_count": 95,
     "metadata": {},
     "output_type": "execute_result"
    }
   ],
   "source": [
    "from sklearn.metrics import mean_squared_error\n",
    "mean_squared_error(y_test,y_pred)"
   ]
  },
  {
   "cell_type": "code",
   "execution_count": 96,
   "id": "61412b60",
   "metadata": {},
   "outputs": [
    {
     "data": {
      "text/plain": [
       "0.22268088570756164"
      ]
     },
     "execution_count": 96,
     "metadata": {},
     "output_type": "execute_result"
    }
   ],
   "source": [
    "np.sqrt(mean_squared_error(y_test,y_pred))"
   ]
  },
  {
   "cell_type": "code",
   "execution_count": 103,
   "id": "3a0d9884",
   "metadata": {},
   "outputs": [
    {
     "name": "stdout",
     "output_type": "stream",
     "text": [
      "Confusion matrix\n",
      "\n",
      " [[59  2]\n",
      " [ 4 56]]\n"
     ]
    },
    {
     "data": {
      "text/plain": [
       "<AxesSubplot:>"
      ]
     },
     "execution_count": 103,
     "metadata": {},
     "output_type": "execute_result"
    },
    {
     "data": {
      "image/png": "[encoded data removed]",
      "text/plain": [
       "<Figure size 360x360 with 2 Axes>"
      ]
     },
     "metadata": {
      "needs_background": "light"
     },
     "output_type": "display_data"
    }
   ],
   "source": [
    "# visualize confusion matrix with seaborn heatmap\n",
    "from sklearn.metrics import confusion_matrix\n",
    "\n",
    "cm = confusion_matrix(y_test, y_pred)\n",
    "\n",
    "print('Confusion matrix\\n\\n', cm)\n",
    "\n",
    "cm_matrix = pd.DataFrame(data=cm, columns=['Actual Positive:1', 'Actual Negative:0'], \n",
    "                                 index=['Predict Positive:1', 'Predict Negative:0'])\n",
    "\n",
    "f, ax=plt.subplots(figsize=(5,5))\n",
    "sns.heatmap(cm_matrix, annot=True, cmap='YlGnBu',square=True, ax=ax, annot_kws={\"fontsize\":16})"
   ]
  },
  {
   "cell_type": "code",
   "execution_count": 99,
   "id": "0d297ef3",
   "metadata": {},
   "outputs": [
    {
     "data": {
      "text/plain": [
       "<AxesSubplot:title={'center':'Feature importance'}, xlabel='F score', ylabel='Features'>"
      ]
     },
     "execution_count": 99,
     "metadata": {},
     "output_type": "execute_result"
    },
    {
     "data": {
      "image/png": "[encoded data removed]",
      "text/plain": [
       "<Figure size 432x288 with 1 Axes>"
      ]
     },
     "metadata": {
      "needs_background": "light"
     },
     "output_type": "display_data"
    }
   ],
   "source": [
    "xgb.plot_importance(xgbc.fit(x_train,y_train))\n",
    "\n",
    "# Feature Importance refers to techniques that calculate a score for all the input features for a given model — the scores simply represent the “importance” of each feature. A higher score means that the specific feature will have a larger effect on the model that is being used to predict a certain variable."
   ]
  },
  {
   "cell_type": "code",
   "execution_count": 100,
   "id": "8b85e690",
   "metadata": {
    "scrolled": true
   },
   "outputs": [
    {
     "data": {
      "text/html": [
       "<div>\n",
       "<style scoped>\n",
       "    .dataframe tbody tr th:only-of-type {\n",
       "        vertical-align: middle;\n",
       "    }\n",
       "\n",
       "    .dataframe tbody tr th {\n",
       "        vertical-align: top;\n",
       "    }\n",
       "\n",
       "    .dataframe thead th {\n",
       "        text-align: right;\n",
       "    }\n",
       "</style>\n",
       "<table border=\"1\" class=\"dataframe\">\n",
       "  <thead>\n",
       "    <tr style=\"text-align: right;\">\n",
       "      <th></th>\n",
       "      <th>Age</th>\n",
       "      <th>Gender</th>\n",
       "      <th>Education</th>\n",
       "      <th>Job ( clerical/forces  /agriculture/ labor/retired/ other)</th>\n",
       "      <th>Monthly Income</th>\n",
       "      <th>Source of water for drinking(tube well/public well/private well/pipe bourn)</th>\n",
       "      <th>Smorking or not</th>\n",
       "      <th>Using alcohol or not</th>\n",
       "      <th>Using betel nut or not</th>\n",
       "      <th>Do you have any of this disorders diabetes/stress/blood pressure</th>\n",
       "      <th>Having kidney disease</th>\n",
       "    </tr>\n",
       "  </thead>\n",
       "  <tbody>\n",
       "    <tr>\n",
       "      <th>0</th>\n",
       "      <td>46</td>\n",
       "      <td>0</td>\n",
       "      <td>13</td>\n",
       "      <td>2</td>\n",
       "      <td>70000</td>\n",
       "      <td>2</td>\n",
       "      <td>2</td>\n",
       "      <td>1</td>\n",
       "      <td>1</td>\n",
       "      <td>1</td>\n",
       "      <td>1</td>\n",
       "    </tr>\n",
       "    <tr>\n",
       "      <th>1</th>\n",
       "      <td>66</td>\n",
       "      <td>1</td>\n",
       "      <td>1</td>\n",
       "      <td>4</td>\n",
       "      <td>33500</td>\n",
       "      <td>2</td>\n",
       "      <td>2</td>\n",
       "      <td>0</td>\n",
       "      <td>0</td>\n",
       "      <td>1</td>\n",
       "      <td>1</td>\n",
       "    </tr>\n",
       "    <tr>\n",
       "      <th>2</th>\n",
       "      <td>50</td>\n",
       "      <td>0</td>\n",
       "      <td>12</td>\n",
       "      <td>4</td>\n",
       "      <td>37000</td>\n",
       "      <td>2</td>\n",
       "      <td>1</td>\n",
       "      <td>0</td>\n",
       "      <td>0</td>\n",
       "      <td>1</td>\n",
       "      <td>1</td>\n",
       "    </tr>\n",
       "    <tr>\n",
       "      <th>3</th>\n",
       "      <td>57</td>\n",
       "      <td>1</td>\n",
       "      <td>8</td>\n",
       "      <td>5</td>\n",
       "      <td>24500</td>\n",
       "      <td>2</td>\n",
       "      <td>2</td>\n",
       "      <td>0</td>\n",
       "      <td>0</td>\n",
       "      <td>1</td>\n",
       "      <td>1</td>\n",
       "    </tr>\n",
       "    <tr>\n",
       "      <th>4</th>\n",
       "      <td>50</td>\n",
       "      <td>0</td>\n",
       "      <td>8</td>\n",
       "      <td>5</td>\n",
       "      <td>25000</td>\n",
       "      <td>4</td>\n",
       "      <td>2</td>\n",
       "      <td>1</td>\n",
       "      <td>1</td>\n",
       "      <td>1</td>\n",
       "      <td>1</td>\n",
       "    </tr>\n",
       "  </tbody>\n",
       "</table>\n",
       "</div>"
      ],
      "text/plain": [
       "   Age  Gender  Education  \\\n",
       "0   46       0         13   \n",
       "1   66       1          1   \n",
       "2   50       0         12   \n",
       "3   57       1          8   \n",
       "4   50       0          8   \n",
       "\n",
       "   Job ( clerical/forces  /agriculture/ labor/retired/ other)  Monthly Income  \\\n",
       "0                                                  2                    70000   \n",
       "1                                                  4                    33500   \n",
       "2                                                  4                    37000   \n",
       "3                                                  5                    24500   \n",
       "4                                                  5                    25000   \n",
       "\n",
       "   Source of water for drinking(tube well/public well/private well/pipe bourn)  \\\n",
       "0                                                  2                             \n",
       "1                                                  2                             \n",
       "2                                                  2                             \n",
       "3                                                  2                             \n",
       "4                                                  4                             \n",
       "\n",
       "   Smorking or not  Using alcohol or not  Using betel nut or not  \\\n",
       "0                2                     1                       1   \n",
       "1                2                     0                       0   \n",
       "2                1                     0                       0   \n",
       "3                2                     0                       0   \n",
       "4                2                     1                       1   \n",
       "\n",
       "   Do you have any of this disorders diabetes/stress/blood pressure   \\\n",
       "0                                                  1                   \n",
       "1                                                  1                   \n",
       "2                                                  1                   \n",
       "3                                                  1                   \n",
       "4                                                  1                   \n",
       "\n",
       "   Having kidney disease  \n",
       "0                      1  \n",
       "1                      1  \n",
       "2                      1  \n",
       "3                      1  \n",
       "4                      1  "
      ]
     },
     "execution_count": 100,
     "metadata": {},
     "output_type": "execute_result"
    }
   ],
   "source": [
    "df.head()"
   ]
  },
  {
   "cell_type": "code",
   "execution_count": 102,
   "id": "89e40518",
   "metadata": {},
   "outputs": [
    {
     "data": {
      "text/plain": [
       "array([1])"
      ]
     },
     "execution_count": 102,
     "metadata": {},
     "output_type": "execute_result"
    }
   ],
   "source": [
    "xgbc.predict([[46,0,13,2,70000,2,2,1,1]])"
   ]
  },
  {
   "cell_type": "code",
   "execution_count": null,
   "id": "816d5b79",
   "metadata": {},
   "outputs": [],
   "source": [
    "import pickle\n",
    "pickle.dump(clf, open('model.pkl','wb'))"
   ]
  },
  {
   "cell_type": "code",
   "execution_count": null,
   "id": "54da9e64",
   "metadata": {},
   "outputs": [],
   "source": [
    "model = pickle.load(open('model.pkl','rb'))\n",
    "print(clf.predict([[1,1,1,1,1,1,1,1,1]]))"
   ]
  }
 ],
 "metadata": {
  "kernelspec": {
   "display_name": "Python 3",
   "language": "python",
   "name": "python3"
  },
  "language_info": {
   "codemirror_mode": {
    "name": "ipython",
    "version": 3
   },
   "file_extension": ".py",
   "mimetype": "text/x-python",
   "name": "python",
   "nbconvert_exporter": "python",
   "pygments_lexer": "ipython3",
   "version": "3.11.4"
  }
 },
 "nbformat": 4,
 "nbformat_minor": 5
}
