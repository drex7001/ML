{
 "cells": [
  {
   "cell_type": "code",
   "execution_count": 190,
   "metadata": {
    "id": "qEEM2mKbu5xa"
   },
   "outputs": [],
   "source": [
    "# pip install pyspark"
   ]
  },
  {
   "cell_type": "code",
   "execution_count": 1,
   "metadata": {
    "id": "VSM_zGvvvGZq"
   },
   "outputs": [],
   "source": [
    "from pyspark.sql import SparkSession\n",
    "from pyspark.sql.functions import col"
   ]
  },
  {
   "cell_type": "code",
   "execution_count": 2,
   "metadata": {},
   "outputs": [],
   "source": [
    "spark = SparkSession.builder.appName(\"covid\").getOrCreate()"
   ]
  },
  {
   "cell_type": "code",
   "execution_count": 193,
   "metadata": {
    "colab": {
     "base_uri": "https://localhost:8080/"
    },
    "id": "6on2LFUmvRcF",
    "outputId": "214208df-0176-4afa-fd83-5cd99c45409e"
   },
   "outputs": [],
   "source": [
    "# ! wget = https://www.gstatic.com/covid19/mobility/Global_Mobility_Report.csv"
   ]
  },
  {
   "cell_type": "code",
   "execution_count": 3,
   "metadata": {
    "id": "DnDXf0chvRkw"
   },
   "outputs": [],
   "source": [
    "mobility_df = spark.read.csv('Global_Mobility_Report.csv',header=True, inferSchema=True)"
   ]
  },
  {
   "cell_type": "code",
   "execution_count": 4,
   "metadata": {
    "id": "OmjyLWICvRm0"
   },
   "outputs": [],
   "source": [
    "spark = SparkSession.builder.config(\"spark.sql.repl.eagerEval.enabled\", True).getOrCreate()"
   ]
  },
  {
   "cell_type": "markdown",
   "metadata": {
    "id": "coY7jgYjwJvA"
   },
   "source": [
    "owid covid data set"
   ]
  },
  {
   "cell_type": "code",
   "execution_count": 196,
   "metadata": {
    "id": "yCb6IrTcvRpJ"
   },
   "outputs": [],
   "source": [
    "# ! wget = https://raw.githubusercontent.com/owid/covid-19-data/cd2d25ec6b15b12a76c34b7f92f68c92b923cb75/public/data/owid-covid-data.csv"
   ]
  },
  {
   "cell_type": "code",
   "execution_count": 5,
   "metadata": {
    "id": "COqQOfIwvRry"
   },
   "outputs": [],
   "source": [
    "owid_covid_df = spark.read.csv('owid-covid-data.csv',header=True, inferSchema=True)"
   ]
  },
  {
   "cell_type": "code",
   "execution_count": 198,
   "metadata": {},
   "outputs": [],
   "source": [
    "# mobility_df_aus = owid_covid_df.filter(col(\"location\") == \"Australia\")"
   ]
  },
  {
   "cell_type": "code",
   "execution_count": 199,
   "metadata": {},
   "outputs": [],
   "source": [
    "# mobility_df_aus"
   ]
  },
  {
   "cell_type": "code",
   "execution_count": 200,
   "metadata": {},
   "outputs": [],
   "source": [
    "# mobility_df_uae = owid_covid_df.filter(col(\"location\") == \"United Arab Emirates\")"
   ]
  },
  {
   "cell_type": "code",
   "execution_count": 201,
   "metadata": {},
   "outputs": [],
   "source": [
    "# mobility_df_aus_agg = mobility_df_aus.groupBy(\"date\",\"location\").agg(\n",
    "#     {\n",
    "#      \"retail_and_recreation_percent_change_from_baseline\": \"avg\",\n",
    "#      \"grocery_and_pharmacy_percent_change_from_baseline\": \"avg\",\n",
    "#      \"parks_percent_change_from_baseline\": \"avg\",\n",
    "#      \"transit_stations_percent_change_from_baseline\": \"avg\",\n",
    "#      \"workplaces_percent_change_from_baseline\": \"avg\",\n",
    "#      \"residential_percent_change_from_baseline\": \"avg\"}\n",
    "# )"
   ]
  },
  {
   "cell_type": "code",
   "execution_count": 202,
   "metadata": {},
   "outputs": [],
   "source": [
    "# mobility_df_uae_agg = mobility_df_uae.groupBy(\"date\").agg(\n",
    "#     {\n",
    "#      \"retail_and_recreation_percent_change_from_baseline\": \"avg\",\n",
    "#      \"grocery_and_pharmacy_percent_change_from_baseline\": \"avg\",\n",
    "#      \"parks_percent_change_from_baseline\": \"avg\",\n",
    "#      \"transit_stations_percent_change_from_baseline\": \"avg\",\n",
    "#      \"workplaces_percent_change_from_baseline\": \"avg\",\n",
    "#      \"residential_percent_change_from_baseline\": \"avg\"}\n",
    "# )"
   ]
  },
  {
   "cell_type": "code",
   "execution_count": null,
   "metadata": {},
   "outputs": [],
   "source": []
  },
  {
   "cell_type": "code",
   "execution_count": 7,
   "metadata": {},
   "outputs": [
    {
     "data": {
      "text/plain": [
       "['country_region_code',\n",
       " 'country_region',\n",
       " 'sub_region_1',\n",
       " 'sub_region_2',\n",
       " 'metro_area',\n",
       " 'iso_3166_2_code',\n",
       " 'census_fips_code',\n",
       " 'place_id',\n",
       " 'date',\n",
       " 'retail_and_recreation_percent_change_from_baseline',\n",
       " 'grocery_and_pharmacy_percent_change_from_baseline',\n",
       " 'parks_percent_change_from_baseline',\n",
       " 'transit_stations_percent_change_from_baseline',\n",
       " 'workplaces_percent_change_from_baseline',\n",
       " 'residential_percent_change_from_baseline']"
      ]
     },
     "execution_count": 7,
     "metadata": {},
     "output_type": "execute_result"
    }
   ],
   "source": [
    "mobility_df.columns"
   ]
  },
  {
   "cell_type": "markdown",
   "metadata": {
    "id": "EkHzhGgewsVZ"
   },
   "source": [
    "Joined the data set"
   ]
  },
  {
   "cell_type": "code",
   "execution_count": 8,
   "metadata": {
    "id": "i8yHo8zVvRuo"
   },
   "outputs": [],
   "source": [
    "mobility_df_agg = mobility_df.groupBy(\"date\", \"country_region\").agg(\n",
    "    {\n",
    "        \"retail_and_recreation_percent_change_from_baseline\": \"avg\",\n",
    "        \"grocery_and_pharmacy_percent_change_from_baseline\": \"avg\",\n",
    "        \"parks_percent_change_from_baseline\": \"avg\",\n",
    "        \"transit_stations_percent_change_from_baseline\": \"avg\",\n",
    "        \"workplaces_percent_change_from_baseline\": \"avg\",\n",
    "        \"residential_percent_change_from_baseline\": \"avg\"\n",
    "    }\n",
    ")\n"
   ]
  },
  {
   "cell_type": "code",
   "execution_count": 10,
   "metadata": {},
   "outputs": [
    {
     "data": {
      "text/html": [
       "<table border='1'>\n",
       "<tr><th>date</th><th>country_region</th><th>avg(transit_stations_percent_change_from_baseline)</th><th>avg(grocery_and_pharmacy_percent_change_from_baseline)</th><th>avg(retail_and_recreation_percent_change_from_baseline)</th><th>avg(workplaces_percent_change_from_baseline)</th><th>avg(residential_percent_change_from_baseline)</th><th>avg(parks_percent_change_from_baseline)</th></tr>\n",
       "<tr><td>2021-07-13</td><td>United Arab Emirates</td><td>-29.333333333333332</td><td>22.75</td><td>5.125</td><td>-10.875</td><td>5.875</td><td>-25.857142857142858</td></tr>\n",
       "<tr><td>2021-08-01</td><td>United Arab Emirates</td><td>-30.166666666666668</td><td>20.0</td><td>3.625</td><td>-11.0</td><td>5.875</td><td>-26.571428571428573</td></tr>\n",
       "<tr><td>2021-09-10</td><td>United Arab Emirates</td><td>-29.5</td><td>20.625</td><td>4.125</td><td>-5.875</td><td>6.285714285714286</td><td>-31.857142857142858</td></tr>\n",
       "<tr><td>2022-02-24</td><td>United Arab Emirates</td><td>7.666666666666667</td><td>28.625</td><td>14.125</td><td>17.25</td><td>8.0</td><td>3.4285714285714284</td></tr>\n",
       "<tr><td>2022-09-17</td><td>United Arab Emirates</td><td>26.0</td><td>48.75</td><td>30.25</td><td>13.875</td><td>7.5</td><td>15.714285714285714</td></tr>\n",
       "<tr><td>2020-09-03</td><td>Afghanistan</td><td>-2.0</td><td>NULL</td><td>NULL</td><td>-2.0</td><td>3.0</td><td>9.0</td></tr>\n",
       "<tr><td>2021-07-29</td><td>Afghanistan</td><td>6.0</td><td>58.5</td><td>54.0</td><td>7.5</td><td>-3.0</td><td>36.5</td></tr>\n",
       "<tr><td>2022-06-21</td><td>Afghanistan</td><td>15.0</td><td>172.0</td><td>81.0</td><td>31.5</td><td>7.0</td><td>115.5</td></tr>\n",
       "<tr><td>2020-06-03</td><td>Antigua and Barbuda</td><td>-50.333333333333336</td><td>-15.5</td><td>-24.0</td><td>-32.25</td><td>18.0</td><td>-18.5</td></tr>\n",
       "<tr><td>2020-10-11</td><td>Antigua and Barbuda</td><td>-46.0</td><td>-5.0</td><td>-10.0</td><td>-29.5</td><td>3.0</td><td>78.5</td></tr>\n",
       "<tr><td>2021-04-16</td><td>Antigua and Barbuda</td><td>-37.0</td><td>8.0</td><td>-7.0</td><td>-23.75</td><td>-6.0</td><td>67.5</td></tr>\n",
       "<tr><td>2021-11-17</td><td>Antigua and Barbuda</td><td>-29.666666666666668</td><td>17.0</td><td>27.0</td><td>-13.75</td><td>-8.5</td><td>83.0</td></tr>\n",
       "<tr><td>2022-01-18</td><td>Antigua and Barbuda</td><td>-20.666666666666668</td><td>15.5</td><td>21.0</td><td>-8.666666666666666</td><td>0.5</td><td>69.0</td></tr>\n",
       "<tr><td>2022-01-31</td><td>Antigua and Barbuda</td><td>-10.666666666666666</td><td>25.5</td><td>39.0</td><td>-2.6666666666666665</td><td>-3.5</td><td>78.5</td></tr>\n",
       "<tr><td>2022-05-20</td><td>Antigua and Barbuda</td><td>-15.333333333333334</td><td>36.5</td><td>34.0</td><td>-0.6666666666666666</td><td>5.0</td><td>115.5</td></tr>\n",
       "<tr><td>2022-08-21</td><td>Antigua and Barbuda</td><td>0.0</td><td>34.0</td><td>50.0</td><td>-9.5</td><td>6.0</td><td>127.5</td></tr>\n",
       "<tr><td>2022-09-16</td><td>Antigua and Barbuda</td><td>-30.0</td><td>53.5</td><td>6.0</td><td>-27.5</td><td>20.5</td><td>80.0</td></tr>\n",
       "<tr><td>2020-03-29</td><td>Angola</td><td>-64.5</td><td>-45.0</td><td>-64.0</td><td>-15.0</td><td>22.5</td><td>-54.5</td></tr>\n",
       "<tr><td>2020-04-13</td><td>Angola</td><td>-59.666666666666664</td><td>-41.666666666666664</td><td>-56.5</td><td>-41.5</td><td>30.5</td><td>-48.0</td></tr>\n",
       "<tr><td>2021-08-31</td><td>Angola</td><td>31.5</td><td>63.0</td><td>51.0</td><td>0.8333333333333334</td><td>-4.5</td><td>69.0</td></tr>\n",
       "</table>\n",
       "only showing top 20 rows\n"
      ],
      "text/plain": [
       "DataFrame[date: date, country_region: string, avg(transit_stations_percent_change_from_baseline): double, avg(grocery_and_pharmacy_percent_change_from_baseline): double, avg(retail_and_recreation_percent_change_from_baseline): double, avg(workplaces_percent_change_from_baseline): double, avg(residential_percent_change_from_baseline): double, avg(parks_percent_change_from_baseline): double]"
      ]
     },
     "execution_count": 10,
     "metadata": {},
     "output_type": "execute_result"
    }
   ],
   "source": [
    "mobility_df_agg"
   ]
  },
  {
   "cell_type": "code",
   "execution_count": 11,
   "metadata": {
    "id": "yYGliyspvRxU"
   },
   "outputs": [],
   "source": [
    "joined_data = mobility_df_agg.join(owid_covid_df, \"date\")\n",
    "# joined_data.show()"
   ]
  },
  {
   "cell_type": "code",
   "execution_count": 12,
   "metadata": {},
   "outputs": [
    {
     "data": {
      "text/html": [
       "<table border='1'>\n",
       "<tr><th>date</th><th>country_region</th><th>avg(transit_stations_percent_change_from_baseline)</th><th>avg(grocery_and_pharmacy_percent_change_from_baseline)</th><th>avg(retail_and_recreation_percent_change_from_baseline)</th><th>avg(workplaces_percent_change_from_baseline)</th><th>avg(residential_percent_change_from_baseline)</th><th>avg(parks_percent_change_from_baseline)</th><th>iso_code</th><th>continent</th><th>location</th><th>total_cases</th><th>new_cases</th><th>new_cases_smoothed</th><th>total_deaths</th><th>new_deaths</th><th>new_deaths_smoothed</th><th>total_cases_per_million</th><th>new_cases_per_million</th><th>new_cases_smoothed_per_million</th><th>total_deaths_per_million</th><th>new_deaths_per_million</th><th>new_deaths_smoothed_per_million</th><th>reproduction_rate</th><th>icu_patients</th><th>icu_patients_per_million</th><th>hosp_patients</th><th>hosp_patients_per_million</th><th>weekly_icu_admissions</th><th>weekly_icu_admissions_per_million</th><th>weekly_hosp_admissions</th><th>weekly_hosp_admissions_per_million</th><th>total_tests</th><th>new_tests</th><th>total_tests_per_thousand</th><th>new_tests_per_thousand</th><th>new_tests_smoothed</th><th>new_tests_smoothed_per_thousand</th><th>positive_rate</th><th>tests_per_case</th><th>tests_units</th><th>total_vaccinations</th><th>people_vaccinated</th><th>people_fully_vaccinated</th><th>new_vaccinations</th><th>new_vaccinations_smoothed</th><th>total_vaccinations_per_hundred</th><th>people_vaccinated_per_hundred</th><th>people_fully_vaccinated_per_hundred</th><th>new_vaccinations_smoothed_per_million</th><th>stringency_index</th><th>population</th><th>population_density</th><th>median_age</th><th>aged_65_older</th><th>aged_70_older</th><th>gdp_per_capita</th><th>extreme_poverty</th><th>cardiovasc_death_rate</th><th>diabetes_prevalence</th><th>female_smokers</th><th>male_smokers</th><th>handwashing_facilities</th><th>hospital_beds_per_thousand</th><th>life_expectancy</th><th>human_development_index</th></tr>\n",
       "<tr><td>2020-02-15</td><td>United Arab Emirates</td><td>2.8333333333333335</td><td>4.125</td><td>0.625</td><td>2.875</td><td>0.625</td><td>5.142857142857143</td><td>ARG</td><td>South America</td><td>Argentina</td><td>NULL</td><td>NULL</td><td>NULL</td><td>NULL</td><td>NULL</td><td>NULL</td><td>NULL</td><td>NULL</td><td>NULL</td><td>NULL</td><td>NULL</td><td>NULL</td><td>NULL</td><td>NULL</td><td>NULL</td><td>NULL</td><td>NULL</td><td>NULL</td><td>NULL</td><td>NULL</td><td>NULL</td><td>NULL</td><td>NULL</td><td>NULL</td><td>NULL</td><td>2.0</td><td>0.0</td><td>NULL</td><td>NULL</td><td>people tested</td><td>NULL</td><td>NULL</td><td>NULL</td><td>NULL</td><td>NULL</td><td>NULL</td><td>NULL</td><td>NULL</td><td>NULL</td><td>11.11</td><td>4.5195777E7</td><td>16.177</td><td>31.9</td><td>11.198</td><td>7.441</td><td>18933.907</td><td>0.6</td><td>191.032</td><td>5.5</td><td>16.2</td><td>27.7</td><td>NULL</td><td>5.0</td><td>76.67</td><td>0.825</td></tr>\n",
       "<tr><td>2020-02-15</td><td>United Arab Emirates</td><td>2.8333333333333335</td><td>4.125</td><td>0.625</td><td>2.875</td><td>0.625</td><td>5.142857142857143</td><td>AUS</td><td>Oceania</td><td>Australia</td><td>15.0</td><td>0.0</td><td>0.0</td><td>NULL</td><td>NULL</td><td>0.0</td><td>0.588</td><td>0.0</td><td>0.0</td><td>NULL</td><td>NULL</td><td>0.0</td><td>NULL</td><td>NULL</td><td>NULL</td><td>NULL</td><td>NULL</td><td>NULL</td><td>NULL</td><td>NULL</td><td>NULL</td><td>NULL</td><td>NULL</td><td>NULL</td><td>NULL</td><td>NULL</td><td>NULL</td><td>NULL</td><td>NULL</td><td>NULL</td><td>NULL</td><td>NULL</td><td>NULL</td><td>NULL</td><td>NULL</td><td>NULL</td><td>NULL</td><td>NULL</td><td>NULL</td><td>19.44</td><td>2.5499881E7</td><td>3.202</td><td>37.9</td><td>15.504</td><td>10.129</td><td>44648.71</td><td>0.5</td><td>107.791</td><td>5.07</td><td>13.0</td><td>16.5</td><td>NULL</td><td>3.84</td><td>83.44</td><td>0.939</td></tr>\n",
       "<tr><td>2020-02-15</td><td>United Arab Emirates</td><td>2.8333333333333335</td><td>4.125</td><td>0.625</td><td>2.875</td><td>0.625</td><td>5.142857142857143</td><td>BEL</td><td>Europe</td><td>Belgium</td><td>1.0</td><td>0.0</td><td>0.0</td><td>NULL</td><td>NULL</td><td>0.0</td><td>0.086</td><td>0.0</td><td>0.0</td><td>NULL</td><td>NULL</td><td>0.0</td><td>NULL</td><td>NULL</td><td>NULL</td><td>NULL</td><td>NULL</td><td>NULL</td><td>NULL</td><td>NULL</td><td>NULL</td><td>NULL</td><td>NULL</td><td>NULL</td><td>NULL</td><td>NULL</td><td>NULL</td><td>NULL</td><td>NULL</td><td>NULL</td><td>NULL</td><td>NULL</td><td>NULL</td><td>NULL</td><td>NULL</td><td>NULL</td><td>NULL</td><td>NULL</td><td>NULL</td><td>11.11</td><td>1.1589616E7</td><td>375.564</td><td>41.8</td><td>18.571</td><td>12.849</td><td>42658.576</td><td>0.2</td><td>114.898</td><td>4.29</td><td>25.1</td><td>31.4</td><td>NULL</td><td>5.64</td><td>81.63</td><td>0.916</td></tr>\n",
       "<tr><td>2020-02-15</td><td>United Arab Emirates</td><td>2.8333333333333335</td><td>4.125</td><td>0.625</td><td>2.875</td><td>0.625</td><td>5.142857142857143</td><td>KHM</td><td>Asia</td><td>Cambodia</td><td>1.0</td><td>0.0</td><td>0.0</td><td>NULL</td><td>NULL</td><td>0.0</td><td>0.06</td><td>0.0</td><td>0.0</td><td>NULL</td><td>NULL</td><td>0.0</td><td>NULL</td><td>NULL</td><td>NULL</td><td>NULL</td><td>NULL</td><td>NULL</td><td>NULL</td><td>NULL</td><td>NULL</td><td>NULL</td><td>NULL</td><td>NULL</td><td>NULL</td><td>NULL</td><td>NULL</td><td>NULL</td><td>NULL</td><td>NULL</td><td>NULL</td><td>NULL</td><td>NULL</td><td>NULL</td><td>NULL</td><td>NULL</td><td>NULL</td><td>NULL</td><td>NULL</td><td>0.0</td><td>1.6718971E7</td><td>90.672</td><td>25.6</td><td>4.412</td><td>2.385</td><td>3645.07</td><td>NULL</td><td>270.892</td><td>4.0</td><td>2.0</td><td>33.7</td><td>66.229</td><td>0.8</td><td>69.82</td><td>0.582</td></tr>\n",
       "<tr><td>2020-02-15</td><td>United Arab Emirates</td><td>2.8333333333333335</td><td>4.125</td><td>0.625</td><td>2.875</td><td>0.625</td><td>5.142857142857143</td><td>CAN</td><td>North America</td><td>Canada</td><td>7.0</td><td>0.0</td><td>0.0</td><td>NULL</td><td>NULL</td><td>0.0</td><td>0.185</td><td>0.0</td><td>0.0</td><td>NULL</td><td>NULL</td><td>0.0</td><td>NULL</td><td>NULL</td><td>NULL</td><td>NULL</td><td>NULL</td><td>NULL</td><td>NULL</td><td>NULL</td><td>NULL</td><td>NULL</td><td>NULL</td><td>NULL</td><td>NULL</td><td>NULL</td><td>NULL</td><td>NULL</td><td>NULL</td><td>NULL</td><td>NULL</td><td>NULL</td><td>NULL</td><td>NULL</td><td>NULL</td><td>NULL</td><td>NULL</td><td>NULL</td><td>NULL</td><td>2.78</td><td>3.7742157E7</td><td>4.037</td><td>41.4</td><td>16.984</td><td>10.797</td><td>44017.591</td><td>0.5</td><td>105.599</td><td>7.37</td><td>12.0</td><td>16.6</td><td>NULL</td><td>2.5</td><td>82.43</td><td>0.926</td></tr>\n",
       "<tr><td>2020-02-15</td><td>United Arab Emirates</td><td>2.8333333333333335</td><td>4.125</td><td>0.625</td><td>2.875</td><td>0.625</td><td>5.142857142857143</td><td>CHN</td><td>Asia</td><td>China</td><td>68413.0</td><td>2055.0</td><td>4514.143</td><td>1663.0</td><td>142.0</td><td>122.571</td><td>47.531</td><td>1.428</td><td>3.136</td><td>1.155</td><td>0.099</td><td>0.085</td><td>1.17</td><td>NULL</td><td>NULL</td><td>NULL</td><td>NULL</td><td>NULL</td><td>NULL</td><td>NULL</td><td>NULL</td><td>NULL</td><td>NULL</td><td>NULL</td><td>NULL</td><td>NULL</td><td>NULL</td><td>NULL</td><td>NULL</td><td>NULL</td><td>NULL</td><td>NULL</td><td>NULL</td><td>NULL</td><td>NULL</td><td>NULL</td><td>NULL</td><td>NULL</td><td>NULL</td><td>75.46</td><td>1.439323774E9</td><td>147.674</td><td>38.7</td><td>10.641</td><td>5.929</td><td>15308.712</td><td>0.7</td><td>261.899</td><td>9.74</td><td>1.9</td><td>48.4</td><td>NULL</td><td>4.34</td><td>76.91</td><td>0.752</td></tr>\n",
       "<tr><td>2020-02-15</td><td>United Arab Emirates</td><td>2.8333333333333335</td><td>4.125</td><td>0.625</td><td>2.875</td><td>0.625</td><td>5.142857142857143</td><td>CZE</td><td>Europe</td><td>Czechia</td><td>NULL</td><td>NULL</td><td>NULL</td><td>NULL</td><td>NULL</td><td>NULL</td><td>NULL</td><td>NULL</td><td>NULL</td><td>NULL</td><td>NULL</td><td>NULL</td><td>NULL</td><td>NULL</td><td>NULL</td><td>NULL</td><td>NULL</td><td>NULL</td><td>NULL</td><td>NULL</td><td>NULL</td><td>NULL</td><td>NULL</td><td>NULL</td><td>NULL</td><td>NULL</td><td>NULL</td><td>NULL</td><td>NULL</td><td>NULL</td><td>NULL</td><td>NULL</td><td>NULL</td><td>NULL</td><td>NULL</td><td>NULL</td><td>NULL</td><td>NULL</td><td>NULL</td><td>16.67</td><td>1.0708982E7</td><td>137.176</td><td>43.3</td><td>19.027</td><td>11.58</td><td>32605.906</td><td>NULL</td><td>227.485</td><td>6.82</td><td>30.5</td><td>38.3</td><td>NULL</td><td>6.63</td><td>79.38</td><td>0.888</td></tr>\n",
       "<tr><td>2020-02-15</td><td>United Arab Emirates</td><td>2.8333333333333335</td><td>4.125</td><td>0.625</td><td>2.875</td><td>0.625</td><td>5.142857142857143</td><td>DNK</td><td>Europe</td><td>Denmark</td><td>NULL</td><td>NULL</td><td>NULL</td><td>NULL</td><td>NULL</td><td>NULL</td><td>NULL</td><td>NULL</td><td>NULL</td><td>NULL</td><td>NULL</td><td>NULL</td><td>NULL</td><td>NULL</td><td>NULL</td><td>NULL</td><td>NULL</td><td>NULL</td><td>NULL</td><td>NULL</td><td>NULL</td><td>NULL</td><td>NULL</td><td>NULL</td><td>NULL</td><td>1.0</td><td>0.0</td><td>NULL</td><td>NULL</td><td>tests performed</td><td>NULL</td><td>NULL</td><td>NULL</td><td>NULL</td><td>NULL</td><td>NULL</td><td>NULL</td><td>NULL</td><td>NULL</td><td>0.0</td><td>5792203.0</td><td>136.52</td><td>42.3</td><td>19.677</td><td>12.325</td><td>46682.515</td><td>0.2</td><td>114.767</td><td>6.41</td><td>19.3</td><td>18.8</td><td>NULL</td><td>2.5</td><td>80.9</td><td>0.929</td></tr>\n",
       "<tr><td>2020-02-15</td><td>United Arab Emirates</td><td>2.8333333333333335</td><td>4.125</td><td>0.625</td><td>2.875</td><td>0.625</td><td>5.142857142857143</td><td>EGY</td><td>Africa</td><td>Egypt</td><td>1.0</td><td>0.0</td><td>NULL</td><td>NULL</td><td>NULL</td><td>NULL</td><td>0.01</td><td>0.0</td><td>NULL</td><td>NULL</td><td>NULL</td><td>NULL</td><td>NULL</td><td>NULL</td><td>NULL</td><td>NULL</td><td>NULL</td><td>NULL</td><td>NULL</td><td>NULL</td><td>NULL</td><td>NULL</td><td>NULL</td><td>NULL</td><td>NULL</td><td>NULL</td><td>NULL</td><td>NULL</td><td>NULL</td><td>NULL</td><td>NULL</td><td>NULL</td><td>NULL</td><td>NULL</td><td>NULL</td><td>NULL</td><td>NULL</td><td>NULL</td><td>NULL</td><td>0.0</td><td>1.02334403E8</td><td>97.999</td><td>25.3</td><td>5.159</td><td>2.891</td><td>10550.206</td><td>1.3</td><td>525.432</td><td>17.31</td><td>0.2</td><td>50.1</td><td>89.827</td><td>1.6</td><td>71.99</td><td>0.696</td></tr>\n",
       "<tr><td>2020-02-15</td><td>United Arab Emirates</td><td>2.8333333333333335</td><td>4.125</td><td>0.625</td><td>2.875</td><td>0.625</td><td>5.142857142857143</td><td>FJI</td><td>Oceania</td><td>Fiji</td><td>NULL</td><td>NULL</td><td>NULL</td><td>NULL</td><td>NULL</td><td>NULL</td><td>NULL</td><td>NULL</td><td>NULL</td><td>NULL</td><td>NULL</td><td>NULL</td><td>NULL</td><td>NULL</td><td>NULL</td><td>NULL</td><td>NULL</td><td>NULL</td><td>NULL</td><td>NULL</td><td>NULL</td><td>NULL</td><td>NULL</td><td>NULL</td><td>NULL</td><td>0.0</td><td>0.0</td><td>NULL</td><td>NULL</td><td>tests performed</td><td>NULL</td><td>NULL</td><td>NULL</td><td>NULL</td><td>NULL</td><td>NULL</td><td>NULL</td><td>NULL</td><td>NULL</td><td>19.44</td><td>896444.0</td><td>49.562</td><td>28.6</td><td>6.224</td><td>3.284</td><td>8702.975</td><td>1.4</td><td>412.82</td><td>14.49</td><td>10.2</td><td>34.8</td><td>NULL</td><td>2.3</td><td>67.44</td><td>0.741</td></tr>\n",
       "<tr><td>2020-02-15</td><td>United Arab Emirates</td><td>2.8333333333333335</td><td>4.125</td><td>0.625</td><td>2.875</td><td>0.625</td><td>5.142857142857143</td><td>FIN</td><td>Europe</td><td>Finland</td><td>1.0</td><td>0.0</td><td>0.0</td><td>NULL</td><td>NULL</td><td>0.0</td><td>0.18</td><td>0.0</td><td>0.0</td><td>NULL</td><td>NULL</td><td>0.0</td><td>NULL</td><td>NULL</td><td>NULL</td><td>NULL</td><td>NULL</td><td>NULL</td><td>NULL</td><td>NULL</td><td>NULL</td><td>NULL</td><td>NULL</td><td>NULL</td><td>NULL</td><td>NULL</td><td>NULL</td><td>NULL</td><td>NULL</td><td>NULL</td><td>NULL</td><td>NULL</td><td>NULL</td><td>NULL</td><td>NULL</td><td>NULL</td><td>NULL</td><td>NULL</td><td>NULL</td><td>13.89</td><td>5540718.0</td><td>18.136</td><td>42.8</td><td>21.228</td><td>13.264</td><td>40585.721</td><td>NULL</td><td>153.507</td><td>5.76</td><td>18.3</td><td>22.6</td><td>NULL</td><td>3.28</td><td>81.91</td><td>0.92</td></tr>\n",
       "<tr><td>2020-02-15</td><td>United Arab Emirates</td><td>2.8333333333333335</td><td>4.125</td><td>0.625</td><td>2.875</td><td>0.625</td><td>5.142857142857143</td><td>FRA</td><td>Europe</td><td>France</td><td>12.0</td><td>1.0</td><td>0.143</td><td>1.0</td><td>1.0</td><td>0.143</td><td>0.184</td><td>0.015</td><td>0.002</td><td>0.015</td><td>0.015</td><td>0.002</td><td>NULL</td><td>NULL</td><td>NULL</td><td>7.0</td><td>0.107</td><td>NULL</td><td>NULL</td><td>NULL</td><td>NULL</td><td>NULL</td><td>NULL</td><td>NULL</td><td>NULL</td><td>NULL</td><td>NULL</td><td>NULL</td><td>NULL</td><td>NULL</td><td>NULL</td><td>NULL</td><td>NULL</td><td>NULL</td><td>NULL</td><td>NULL</td><td>NULL</td><td>NULL</td><td>NULL</td><td>11.11</td><td>6.5273512E7</td><td>122.578</td><td>42.0</td><td>19.718</td><td>13.079</td><td>38605.671</td><td>NULL</td><td>86.06</td><td>4.77</td><td>30.1</td><td>35.6</td><td>NULL</td><td>5.98</td><td>82.66</td><td>0.901</td></tr>\n",
       "<tr><td>2020-02-15</td><td>United Arab Emirates</td><td>2.8333333333333335</td><td>4.125</td><td>0.625</td><td>2.875</td><td>0.625</td><td>5.142857142857143</td><td>DEU</td><td>Europe</td><td>Germany</td><td>16.0</td><td>0.0</td><td>0.429</td><td>NULL</td><td>NULL</td><td>0.0</td><td>0.191</td><td>0.0</td><td>0.005</td><td>NULL</td><td>NULL</td><td>0.0</td><td>NULL</td><td>NULL</td><td>NULL</td><td>NULL</td><td>NULL</td><td>NULL</td><td>NULL</td><td>35.322</td><td>0.422</td><td>NULL</td><td>NULL</td><td>NULL</td><td>NULL</td><td>NULL</td><td>NULL</td><td>NULL</td><td>NULL</td><td>NULL</td><td>NULL</td><td>NULL</td><td>NULL</td><td>NULL</td><td>NULL</td><td>NULL</td><td>NULL</td><td>NULL</td><td>NULL</td><td>11.11</td><td>8.3783945E7</td><td>237.016</td><td>46.6</td><td>21.453</td><td>15.957</td><td>45229.245</td><td>NULL</td><td>156.139</td><td>8.31</td><td>28.2</td><td>33.1</td><td>NULL</td><td>8.0</td><td>81.33</td><td>0.936</td></tr>\n",
       "<tr><td>2020-02-15</td><td>United Arab Emirates</td><td>2.8333333333333335</td><td>4.125</td><td>0.625</td><td>2.875</td><td>0.625</td><td>5.142857142857143</td><td>GRC</td><td>Europe</td><td>Greece</td><td>NULL</td><td>NULL</td><td>NULL</td><td>NULL</td><td>NULL</td><td>NULL</td><td>NULL</td><td>NULL</td><td>NULL</td><td>NULL</td><td>NULL</td><td>NULL</td><td>NULL</td><td>NULL</td><td>NULL</td><td>NULL</td><td>NULL</td><td>NULL</td><td>NULL</td><td>NULL</td><td>NULL</td><td>NULL</td><td>NULL</td><td>NULL</td><td>NULL</td><td>NULL</td><td>NULL</td><td>NULL</td><td>NULL</td><td>NULL</td><td>NULL</td><td>NULL</td><td>NULL</td><td>NULL</td><td>NULL</td><td>NULL</td><td>NULL</td><td>NULL</td><td>NULL</td><td>0.0</td><td>1.0423056E7</td><td>83.479</td><td>45.3</td><td>20.396</td><td>14.524</td><td>24574.382</td><td>1.5</td><td>175.695</td><td>4.55</td><td>35.3</td><td>52.0</td><td>NULL</td><td>4.21</td><td>82.24</td><td>0.87</td></tr>\n",
       "<tr><td>2020-02-15</td><td>United Arab Emirates</td><td>2.8333333333333335</td><td>4.125</td><td>0.625</td><td>2.875</td><td>0.625</td><td>5.142857142857143</td><td>IND</td><td>Asia</td><td>India</td><td>3.0</td><td>0.0</td><td>0.0</td><td>NULL</td><td>NULL</td><td>0.0</td><td>0.002</td><td>0.0</td><td>0.0</td><td>NULL</td><td>NULL</td><td>0.0</td><td>NULL</td><td>NULL</td><td>NULL</td><td>NULL</td><td>NULL</td><td>NULL</td><td>NULL</td><td>NULL</td><td>NULL</td><td>NULL</td><td>NULL</td><td>NULL</td><td>NULL</td><td>NULL</td><td>NULL</td><td>NULL</td><td>NULL</td><td>NULL</td><td>NULL</td><td>NULL</td><td>NULL</td><td>NULL</td><td>NULL</td><td>NULL</td><td>NULL</td><td>NULL</td><td>NULL</td><td>10.19</td><td>1.380004385E9</td><td>450.419</td><td>28.2</td><td>5.989</td><td>3.414</td><td>6426.674</td><td>21.2</td><td>282.28</td><td>10.39</td><td>1.9</td><td>20.6</td><td>59.55</td><td>0.53</td><td>69.66</td><td>0.64</td></tr>\n",
       "<tr><td>2020-02-15</td><td>United Arab Emirates</td><td>2.8333333333333335</td><td>4.125</td><td>0.625</td><td>2.875</td><td>0.625</td><td>5.142857142857143</td><td>NULL</td><td>NULL</td><td>International</td><td>285.0</td><td>67.0</td><td>32.0</td><td>NULL</td><td>NULL</td><td>0.0</td><td>NULL</td><td>NULL</td><td>NULL</td><td>NULL</td><td>NULL</td><td>NULL</td><td>NULL</td><td>NULL</td><td>NULL</td><td>NULL</td><td>NULL</td><td>NULL</td><td>NULL</td><td>NULL</td><td>NULL</td><td>NULL</td><td>NULL</td><td>NULL</td><td>NULL</td><td>NULL</td><td>NULL</td><td>NULL</td><td>NULL</td><td>NULL</td><td>NULL</td><td>NULL</td><td>NULL</td><td>NULL</td><td>NULL</td><td>NULL</td><td>NULL</td><td>NULL</td><td>NULL</td><td>NULL</td><td>NULL</td><td>NULL</td><td>NULL</td><td>NULL</td><td>NULL</td><td>NULL</td><td>NULL</td><td>NULL</td><td>NULL</td><td>NULL</td><td>NULL</td><td>NULL</td><td>NULL</td><td>NULL</td><td>NULL</td></tr>\n",
       "<tr><td>2020-02-15</td><td>United Arab Emirates</td><td>2.8333333333333335</td><td>4.125</td><td>0.625</td><td>2.875</td><td>0.625</td><td>5.142857142857143</td><td>ITA</td><td>Europe</td><td>Italy</td><td>3.0</td><td>0.0</td><td>0.0</td><td>NULL</td><td>NULL</td><td>0.0</td><td>0.05</td><td>0.0</td><td>0.0</td><td>NULL</td><td>NULL</td><td>0.0</td><td>NULL</td><td>NULL</td><td>NULL</td><td>NULL</td><td>NULL</td><td>NULL</td><td>NULL</td><td>NULL</td><td>NULL</td><td>NULL</td><td>NULL</td><td>NULL</td><td>NULL</td><td>NULL</td><td>NULL</td><td>NULL</td><td>NULL</td><td>NULL</td><td>NULL</td><td>NULL</td><td>NULL</td><td>NULL</td><td>NULL</td><td>NULL</td><td>NULL</td><td>NULL</td><td>NULL</td><td>19.44</td><td>6.0461828E7</td><td>205.859</td><td>47.9</td><td>23.021</td><td>16.24</td><td>35220.084</td><td>2.0</td><td>113.151</td><td>4.78</td><td>19.8</td><td>27.8</td><td>NULL</td><td>3.18</td><td>83.51</td><td>0.88</td></tr>\n",
       "<tr><td>2020-02-15</td><td>United Arab Emirates</td><td>2.8333333333333335</td><td>4.125</td><td>0.625</td><td>2.875</td><td>0.625</td><td>5.142857142857143</td><td>JPN</td><td>Asia</td><td>Japan</td><td>54.0</td><td>11.0</td><td>4.286</td><td>1.0</td><td>0.0</td><td>0.143</td><td>0.427</td><td>0.087</td><td>0.034</td><td>0.008</td><td>0.0</td><td>0.001</td><td>NULL</td><td>NULL</td><td>NULL</td><td>NULL</td><td>NULL</td><td>NULL</td><td>NULL</td><td>NULL</td><td>NULL</td><td>217.0</td><td>86.0</td><td>0.002</td><td>0.001</td><td>26.0</td><td>0.0</td><td>0.165</td><td>6.1</td><td>people tested</td><td>NULL</td><td>NULL</td><td>NULL</td><td>NULL</td><td>NULL</td><td>NULL</td><td>NULL</td><td>NULL</td><td>NULL</td><td>19.44</td><td>1.26476458E8</td><td>347.778</td><td>48.2</td><td>27.049</td><td>18.493</td><td>39002.223</td><td>NULL</td><td>79.37</td><td>5.72</td><td>11.2</td><td>33.7</td><td>NULL</td><td>13.05</td><td>84.63</td><td>0.909</td></tr>\n",
       "<tr><td>2020-02-15</td><td>United Arab Emirates</td><td>2.8333333333333335</td><td>4.125</td><td>0.625</td><td>2.875</td><td>0.625</td><td>5.142857142857143</td><td>LVA</td><td>Europe</td><td>Latvia</td><td>NULL</td><td>NULL</td><td>NULL</td><td>NULL</td><td>NULL</td><td>NULL</td><td>NULL</td><td>NULL</td><td>NULL</td><td>NULL</td><td>NULL</td><td>NULL</td><td>NULL</td><td>NULL</td><td>NULL</td><td>NULL</td><td>NULL</td><td>NULL</td><td>NULL</td><td>0.0</td><td>0.0</td><td>NULL</td><td>NULL</td><td>NULL</td><td>NULL</td><td>NULL</td><td>NULL</td><td>NULL</td><td>NULL</td><td>NULL</td><td>NULL</td><td>NULL</td><td>NULL</td><td>NULL</td><td>NULL</td><td>NULL</td><td>NULL</td><td>NULL</td><td>NULL</td><td>2.78</td><td>1886202.0</td><td>31.212</td><td>43.9</td><td>19.754</td><td>14.136</td><td>25063.846</td><td>0.7</td><td>350.06</td><td>4.91</td><td>25.6</td><td>51.0</td><td>NULL</td><td>5.57</td><td>75.29</td><td>0.847</td></tr>\n",
       "<tr><td>2020-02-15</td><td>United Arab Emirates</td><td>2.8333333333333335</td><td>4.125</td><td>0.625</td><td>2.875</td><td>0.625</td><td>5.142857142857143</td><td>MYS</td><td>Asia</td><td>Malaysia</td><td>22.0</td><td>3.0</td><td>0.857</td><td>NULL</td><td>NULL</td><td>0.0</td><td>0.68</td><td>0.093</td><td>0.026</td><td>NULL</td><td>NULL</td><td>0.0</td><td>NULL</td><td>NULL</td><td>NULL</td><td>NULL</td><td>NULL</td><td>NULL</td><td>NULL</td><td>NULL</td><td>NULL</td><td>NULL</td><td>NULL</td><td>NULL</td><td>NULL</td><td>NULL</td><td>NULL</td><td>NULL</td><td>NULL</td><td>people tested</td><td>NULL</td><td>NULL</td><td>NULL</td><td>NULL</td><td>NULL</td><td>NULL</td><td>NULL</td><td>NULL</td><td>NULL</td><td>19.44</td><td>3.2365998E7</td><td>96.254</td><td>29.9</td><td>6.293</td><td>3.407</td><td>26808.164</td><td>0.1</td><td>260.942</td><td>16.74</td><td>1.0</td><td>42.4</td><td>NULL</td><td>1.9</td><td>76.16</td><td>0.802</td></tr>\n",
       "</table>\n",
       "only showing top 20 rows\n"
      ],
      "text/plain": [
       "+----------+--------------------+--------------------------------------------------+------------------------------------------------------+-------------------------------------------------------+--------------------------------------------+---------------------------------------------+---------------------------------------+--------+-------------+-------------+-----------+---------+------------------+------------+----------+-------------------+-----------------------+---------------------+------------------------------+------------------------+----------------------+-------------------------------+-----------------+------------+------------------------+-------------+-------------------------+---------------------+---------------------------------+----------------------+----------------------------------+-----------+---------+------------------------+----------------------+------------------+-------------------------------+-------------+--------------+---------------+------------------+-----------------+-----------------------+----------------+-------------------------+------------------------------+-----------------------------+-----------------------------------+-------------------------------------+----------------+-------------+------------------+----------+-------------+-------------+--------------+---------------+---------------------+-------------------+--------------+------------+----------------------+--------------------------+---------------+-----------------------+\n",
       "|      date|      country_region|avg(transit_stations_percent_change_from_baseline)|avg(grocery_and_pharmacy_percent_change_from_baseline)|avg(retail_and_recreation_percent_change_from_baseline)|avg(workplaces_percent_change_from_baseline)|avg(residential_percent_change_from_baseline)|avg(parks_percent_change_from_baseline)|iso_code|    continent|     location|total_cases|new_cases|new_cases_smoothed|total_deaths|new_deaths|new_deaths_smoothed|total_cases_per_million|new_cases_per_million|new_cases_smoothed_per_million|total_deaths_per_million|new_deaths_per_million|new_deaths_smoothed_per_million|reproduction_rate|icu_patients|icu_patients_per_million|hosp_patients|hosp_patients_per_million|weekly_icu_admissions|weekly_icu_admissions_per_million|weekly_hosp_admissions|weekly_hosp_admissions_per_million|total_tests|new_tests|total_tests_per_thousand|new_tests_per_thousand|new_tests_smoothed|new_tests_smoothed_per_thousand|positive_rate|tests_per_case|    tests_units|total_vaccinations|people_vaccinated|people_fully_vaccinated|new_vaccinations|new_vaccinations_smoothed|total_vaccinations_per_hundred|people_vaccinated_per_hundred|people_fully_vaccinated_per_hundred|new_vaccinations_smoothed_per_million|stringency_index|   population|population_density|median_age|aged_65_older|aged_70_older|gdp_per_capita|extreme_poverty|cardiovasc_death_rate|diabetes_prevalence|female_smokers|male_smokers|handwashing_facilities|hospital_beds_per_thousand|life_expectancy|human_development_index|\n",
       "+----------+--------------------+--------------------------------------------------+------------------------------------------------------+-------------------------------------------------------+--------------------------------------------+---------------------------------------------+---------------------------------------+--------+-------------+-------------+-----------+---------+------------------+------------+----------+-------------------+-----------------------+---------------------+------------------------------+------------------------+----------------------+-------------------------------+-----------------+------------+------------------------+-------------+-------------------------+---------------------+---------------------------------+----------------------+----------------------------------+-----------+---------+------------------------+----------------------+------------------+-------------------------------+-------------+--------------+---------------+------------------+-----------------+-----------------------+----------------+-------------------------+------------------------------+-----------------------------+-----------------------------------+-------------------------------------+----------------+-------------+------------------+----------+-------------+-------------+--------------+---------------+---------------------+-------------------+--------------+------------+----------------------+--------------------------+---------------+-----------------------+\n",
       "|2020-02-15|United Arab Emirates|                                2.8333333333333335|                                                 4.125|                                                  0.625|                                       2.875|                                        0.625|                      5.142857142857143|     ARG|South America|    Argentina|       NULL|     NULL|              NULL|        NULL|      NULL|               NULL|                   NULL|                 NULL|                          NULL|                    NULL|                  NULL|                           NULL|             NULL|        NULL|                    NULL|         NULL|                     NULL|                 NULL|                             NULL|                  NULL|                              NULL|       NULL|     NULL|                    NULL|                  NULL|               2.0|                            0.0|         NULL|          NULL|  people tested|              NULL|             NULL|                   NULL|            NULL|                     NULL|                          NULL|                         NULL|                               NULL|                                 NULL|           11.11|  4.5195777E7|            16.177|      31.9|       11.198|        7.441|     18933.907|            0.6|              191.032|                5.5|          16.2|        27.7|                  NULL|                       5.0|          76.67|                  0.825|\n",
       "|2020-02-15|United Arab Emirates|                                2.8333333333333335|                                                 4.125|                                                  0.625|                                       2.875|                                        0.625|                      5.142857142857143|     AUS|      Oceania|    Australia|       15.0|      0.0|               0.0|        NULL|      NULL|                0.0|                  0.588|                  0.0|                           0.0|                    NULL|                  NULL|                            0.0|             NULL|        NULL|                    NULL|         NULL|                     NULL|                 NULL|                             NULL|                  NULL|                              NULL|       NULL|     NULL|                    NULL|                  NULL|              NULL|                           NULL|         NULL|          NULL|           NULL|              NULL|             NULL|                   NULL|            NULL|                     NULL|                          NULL|                         NULL|                               NULL|                                 NULL|           19.44|  2.5499881E7|             3.202|      37.9|       15.504|       10.129|      44648.71|            0.5|              107.791|               5.07|          13.0|        16.5|                  NULL|                      3.84|          83.44|                  0.939|\n",
       "|2020-02-15|United Arab Emirates|                                2.8333333333333335|                                                 4.125|                                                  0.625|                                       2.875|                                        0.625|                      5.142857142857143|     BEL|       Europe|      Belgium|        1.0|      0.0|               0.0|        NULL|      NULL|                0.0|                  0.086|                  0.0|                           0.0|                    NULL|                  NULL|                            0.0|             NULL|        NULL|                    NULL|         NULL|                     NULL|                 NULL|                             NULL|                  NULL|                              NULL|       NULL|     NULL|                    NULL|                  NULL|              NULL|                           NULL|         NULL|          NULL|           NULL|              NULL|             NULL|                   NULL|            NULL|                     NULL|                          NULL|                         NULL|                               NULL|                                 NULL|           11.11|  1.1589616E7|           375.564|      41.8|       18.571|       12.849|     42658.576|            0.2|              114.898|               4.29|          25.1|        31.4|                  NULL|                      5.64|          81.63|                  0.916|\n",
       "|2020-02-15|United Arab Emirates|                                2.8333333333333335|                                                 4.125|                                                  0.625|                                       2.875|                                        0.625|                      5.142857142857143|     KHM|         Asia|     Cambodia|        1.0|      0.0|               0.0|        NULL|      NULL|                0.0|                   0.06|                  0.0|                           0.0|                    NULL|                  NULL|                            0.0|             NULL|        NULL|                    NULL|         NULL|                     NULL|                 NULL|                             NULL|                  NULL|                              NULL|       NULL|     NULL|                    NULL|                  NULL|              NULL|                           NULL|         NULL|          NULL|           NULL|              NULL|             NULL|                   NULL|            NULL|                     NULL|                          NULL|                         NULL|                               NULL|                                 NULL|             0.0|  1.6718971E7|            90.672|      25.6|        4.412|        2.385|       3645.07|           NULL|              270.892|                4.0|           2.0|        33.7|                66.229|                       0.8|          69.82|                  0.582|\n",
       "|2020-02-15|United Arab Emirates|                                2.8333333333333335|                                                 4.125|                                                  0.625|                                       2.875|                                        0.625|                      5.142857142857143|     CAN|North America|       Canada|        7.0|      0.0|               0.0|        NULL|      NULL|                0.0|                  0.185|                  0.0|                           0.0|                    NULL|                  NULL|                            0.0|             NULL|        NULL|                    NULL|         NULL|                     NULL|                 NULL|                             NULL|                  NULL|                              NULL|       NULL|     NULL|                    NULL|                  NULL|              NULL|                           NULL|         NULL|          NULL|           NULL|              NULL|             NULL|                   NULL|            NULL|                     NULL|                          NULL|                         NULL|                               NULL|                                 NULL|            2.78|  3.7742157E7|             4.037|      41.4|       16.984|       10.797|     44017.591|            0.5|              105.599|               7.37|          12.0|        16.6|                  NULL|                       2.5|          82.43|                  0.926|\n",
       "|2020-02-15|United Arab Emirates|                                2.8333333333333335|                                                 4.125|                                                  0.625|                                       2.875|                                        0.625|                      5.142857142857143|     CHN|         Asia|        China|    68413.0|   2055.0|          4514.143|      1663.0|     142.0|            122.571|                 47.531|                1.428|                         3.136|                   1.155|                 0.099|                          0.085|             1.17|        NULL|                    NULL|         NULL|                     NULL|                 NULL|                             NULL|                  NULL|                              NULL|       NULL|     NULL|                    NULL|                  NULL|              NULL|                           NULL|         NULL|          NULL|           NULL|              NULL|             NULL|                   NULL|            NULL|                     NULL|                          NULL|                         NULL|                               NULL|                                 NULL|           75.46|1.439323774E9|           147.674|      38.7|       10.641|        5.929|     15308.712|            0.7|              261.899|               9.74|           1.9|        48.4|                  NULL|                      4.34|          76.91|                  0.752|\n",
       "|2020-02-15|United Arab Emirates|                                2.8333333333333335|                                                 4.125|                                                  0.625|                                       2.875|                                        0.625|                      5.142857142857143|     CZE|       Europe|      Czechia|       NULL|     NULL|              NULL|        NULL|      NULL|               NULL|                   NULL|                 NULL|                          NULL|                    NULL|                  NULL|                           NULL|             NULL|        NULL|                    NULL|         NULL|                     NULL|                 NULL|                             NULL|                  NULL|                              NULL|       NULL|     NULL|                    NULL|                  NULL|              NULL|                           NULL|         NULL|          NULL|           NULL|              NULL|             NULL|                   NULL|            NULL|                     NULL|                          NULL|                         NULL|                               NULL|                                 NULL|           16.67|  1.0708982E7|           137.176|      43.3|       19.027|        11.58|     32605.906|           NULL|              227.485|               6.82|          30.5|        38.3|                  NULL|                      6.63|          79.38|                  0.888|\n",
       "|2020-02-15|United Arab Emirates|                                2.8333333333333335|                                                 4.125|                                                  0.625|                                       2.875|                                        0.625|                      5.142857142857143|     DNK|       Europe|      Denmark|       NULL|     NULL|              NULL|        NULL|      NULL|               NULL|                   NULL|                 NULL|                          NULL|                    NULL|                  NULL|                           NULL|             NULL|        NULL|                    NULL|         NULL|                     NULL|                 NULL|                             NULL|                  NULL|                              NULL|       NULL|     NULL|                    NULL|                  NULL|               1.0|                            0.0|         NULL|          NULL|tests performed|              NULL|             NULL|                   NULL|            NULL|                     NULL|                          NULL|                         NULL|                               NULL|                                 NULL|             0.0|    5792203.0|            136.52|      42.3|       19.677|       12.325|     46682.515|            0.2|              114.767|               6.41|          19.3|        18.8|                  NULL|                       2.5|           80.9|                  0.929|\n",
       "|2020-02-15|United Arab Emirates|                                2.8333333333333335|                                                 4.125|                                                  0.625|                                       2.875|                                        0.625|                      5.142857142857143|     EGY|       Africa|        Egypt|        1.0|      0.0|              NULL|        NULL|      NULL|               NULL|                   0.01|                  0.0|                          NULL|                    NULL|                  NULL|                           NULL|             NULL|        NULL|                    NULL|         NULL|                     NULL|                 NULL|                             NULL|                  NULL|                              NULL|       NULL|     NULL|                    NULL|                  NULL|              NULL|                           NULL|         NULL|          NULL|           NULL|              NULL|             NULL|                   NULL|            NULL|                     NULL|                          NULL|                         NULL|                               NULL|                                 NULL|             0.0| 1.02334403E8|            97.999|      25.3|        5.159|        2.891|     10550.206|            1.3|              525.432|              17.31|           0.2|        50.1|                89.827|                       1.6|          71.99|                  0.696|\n",
       "|2020-02-15|United Arab Emirates|                                2.8333333333333335|                                                 4.125|                                                  0.625|                                       2.875|                                        0.625|                      5.142857142857143|     FJI|      Oceania|         Fiji|       NULL|     NULL|              NULL|        NULL|      NULL|               NULL|                   NULL|                 NULL|                          NULL|                    NULL|                  NULL|                           NULL|             NULL|        NULL|                    NULL|         NULL|                     NULL|                 NULL|                             NULL|                  NULL|                              NULL|       NULL|     NULL|                    NULL|                  NULL|               0.0|                            0.0|         NULL|          NULL|tests performed|              NULL|             NULL|                   NULL|            NULL|                     NULL|                          NULL|                         NULL|                               NULL|                                 NULL|           19.44|     896444.0|            49.562|      28.6|        6.224|        3.284|      8702.975|            1.4|               412.82|              14.49|          10.2|        34.8|                  NULL|                       2.3|          67.44|                  0.741|\n",
       "|2020-02-15|United Arab Emirates|                                2.8333333333333335|                                                 4.125|                                                  0.625|                                       2.875|                                        0.625|                      5.142857142857143|     FIN|       Europe|      Finland|        1.0|      0.0|               0.0|        NULL|      NULL|                0.0|                   0.18|                  0.0|                           0.0|                    NULL|                  NULL|                            0.0|             NULL|        NULL|                    NULL|         NULL|                     NULL|                 NULL|                             NULL|                  NULL|                              NULL|       NULL|     NULL|                    NULL|                  NULL|              NULL|                           NULL|         NULL|          NULL|           NULL|              NULL|             NULL|                   NULL|            NULL|                     NULL|                          NULL|                         NULL|                               NULL|                                 NULL|           13.89|    5540718.0|            18.136|      42.8|       21.228|       13.264|     40585.721|           NULL|              153.507|               5.76|          18.3|        22.6|                  NULL|                      3.28|          81.91|                   0.92|\n",
       "|2020-02-15|United Arab Emirates|                                2.8333333333333335|                                                 4.125|                                                  0.625|                                       2.875|                                        0.625|                      5.142857142857143|     FRA|       Europe|       France|       12.0|      1.0|             0.143|         1.0|       1.0|              0.143|                  0.184|                0.015|                         0.002|                   0.015|                 0.015|                          0.002|             NULL|        NULL|                    NULL|          7.0|                    0.107|                 NULL|                             NULL|                  NULL|                              NULL|       NULL|     NULL|                    NULL|                  NULL|              NULL|                           NULL|         NULL|          NULL|           NULL|              NULL|             NULL|                   NULL|            NULL|                     NULL|                          NULL|                         NULL|                               NULL|                                 NULL|           11.11|  6.5273512E7|           122.578|      42.0|       19.718|       13.079|     38605.671|           NULL|                86.06|               4.77|          30.1|        35.6|                  NULL|                      5.98|          82.66|                  0.901|\n",
       "|2020-02-15|United Arab Emirates|                                2.8333333333333335|                                                 4.125|                                                  0.625|                                       2.875|                                        0.625|                      5.142857142857143|     DEU|       Europe|      Germany|       16.0|      0.0|             0.429|        NULL|      NULL|                0.0|                  0.191|                  0.0|                         0.005|                    NULL|                  NULL|                            0.0|             NULL|        NULL|                    NULL|         NULL|                     NULL|                 NULL|                             NULL|                35.322|                             0.422|       NULL|     NULL|                    NULL|                  NULL|              NULL|                           NULL|         NULL|          NULL|           NULL|              NULL|             NULL|                   NULL|            NULL|                     NULL|                          NULL|                         NULL|                               NULL|                                 NULL|           11.11|  8.3783945E7|           237.016|      46.6|       21.453|       15.957|     45229.245|           NULL|              156.139|               8.31|          28.2|        33.1|                  NULL|                       8.0|          81.33|                  0.936|\n",
       "|2020-02-15|United Arab Emirates|                                2.8333333333333335|                                                 4.125|                                                  0.625|                                       2.875|                                        0.625|                      5.142857142857143|     GRC|       Europe|       Greece|       NULL|     NULL|              NULL|        NULL|      NULL|               NULL|                   NULL|                 NULL|                          NULL|                    NULL|                  NULL|                           NULL|             NULL|        NULL|                    NULL|         NULL|                     NULL|                 NULL|                             NULL|                  NULL|                              NULL|       NULL|     NULL|                    NULL|                  NULL|              NULL|                           NULL|         NULL|          NULL|           NULL|              NULL|             NULL|                   NULL|            NULL|                     NULL|                          NULL|                         NULL|                               NULL|                                 NULL|             0.0|  1.0423056E7|            83.479|      45.3|       20.396|       14.524|     24574.382|            1.5|              175.695|               4.55|          35.3|        52.0|                  NULL|                      4.21|          82.24|                   0.87|\n",
       "|2020-02-15|United Arab Emirates|                                2.8333333333333335|                                                 4.125|                                                  0.625|                                       2.875|                                        0.625|                      5.142857142857143|     IND|         Asia|        India|        3.0|      0.0|               0.0|        NULL|      NULL|                0.0|                  0.002|                  0.0|                           0.0|                    NULL|                  NULL|                            0.0|             NULL|        NULL|                    NULL|         NULL|                     NULL|                 NULL|                             NULL|                  NULL|                              NULL|       NULL|     NULL|                    NULL|                  NULL|              NULL|                           NULL|         NULL|          NULL|           NULL|              NULL|             NULL|                   NULL|            NULL|                     NULL|                          NULL|                         NULL|                               NULL|                                 NULL|           10.19|1.380004385E9|           450.419|      28.2|        5.989|        3.414|      6426.674|           21.2|               282.28|              10.39|           1.9|        20.6|                 59.55|                      0.53|          69.66|                   0.64|\n",
       "|2020-02-15|United Arab Emirates|                                2.8333333333333335|                                                 4.125|                                                  0.625|                                       2.875|                                        0.625|                      5.142857142857143|    NULL|         NULL|International|      285.0|     67.0|              32.0|        NULL|      NULL|                0.0|                   NULL|                 NULL|                          NULL|                    NULL|                  NULL|                           NULL|             NULL|        NULL|                    NULL|         NULL|                     NULL|                 NULL|                             NULL|                  NULL|                              NULL|       NULL|     NULL|                    NULL|                  NULL|              NULL|                           NULL|         NULL|          NULL|           NULL|              NULL|             NULL|                   NULL|            NULL|                     NULL|                          NULL|                         NULL|                               NULL|                                 NULL|            NULL|         NULL|              NULL|      NULL|         NULL|         NULL|          NULL|           NULL|                 NULL|               NULL|          NULL|        NULL|                  NULL|                      NULL|           NULL|                   NULL|\n",
       "|2020-02-15|United Arab Emirates|                                2.8333333333333335|                                                 4.125|                                                  0.625|                                       2.875|                                        0.625|                      5.142857142857143|     ITA|       Europe|        Italy|        3.0|      0.0|               0.0|        NULL|      NULL|                0.0|                   0.05|                  0.0|                           0.0|                    NULL|                  NULL|                            0.0|             NULL|        NULL|                    NULL|         NULL|                     NULL|                 NULL|                             NULL|                  NULL|                              NULL|       NULL|     NULL|                    NULL|                  NULL|              NULL|                           NULL|         NULL|          NULL|           NULL|              NULL|             NULL|                   NULL|            NULL|                     NULL|                          NULL|                         NULL|                               NULL|                                 NULL|           19.44|  6.0461828E7|           205.859|      47.9|       23.021|        16.24|     35220.084|            2.0|              113.151|               4.78|          19.8|        27.8|                  NULL|                      3.18|          83.51|                   0.88|\n",
       "|2020-02-15|United Arab Emirates|                                2.8333333333333335|                                                 4.125|                                                  0.625|                                       2.875|                                        0.625|                      5.142857142857143|     JPN|         Asia|        Japan|       54.0|     11.0|             4.286|         1.0|       0.0|              0.143|                  0.427|                0.087|                         0.034|                   0.008|                   0.0|                          0.001|             NULL|        NULL|                    NULL|         NULL|                     NULL|                 NULL|                             NULL|                  NULL|                              NULL|      217.0|     86.0|                   0.002|                 0.001|              26.0|                            0.0|        0.165|           6.1|  people tested|              NULL|             NULL|                   NULL|            NULL|                     NULL|                          NULL|                         NULL|                               NULL|                                 NULL|           19.44| 1.26476458E8|           347.778|      48.2|       27.049|       18.493|     39002.223|           NULL|                79.37|               5.72|          11.2|        33.7|                  NULL|                     13.05|          84.63|                  0.909|\n",
       "|2020-02-15|United Arab Emirates|                                2.8333333333333335|                                                 4.125|                                                  0.625|                                       2.875|                                        0.625|                      5.142857142857143|     LVA|       Europe|       Latvia|       NULL|     NULL|              NULL|        NULL|      NULL|               NULL|                   NULL|                 NULL|                          NULL|                    NULL|                  NULL|                           NULL|             NULL|        NULL|                    NULL|         NULL|                     NULL|                 NULL|                             NULL|                   0.0|                               0.0|       NULL|     NULL|                    NULL|                  NULL|              NULL|                           NULL|         NULL|          NULL|           NULL|              NULL|             NULL|                   NULL|            NULL|                     NULL|                          NULL|                         NULL|                               NULL|                                 NULL|            2.78|    1886202.0|            31.212|      43.9|       19.754|       14.136|     25063.846|            0.7|               350.06|               4.91|          25.6|        51.0|                  NULL|                      5.57|          75.29|                  0.847|\n",
       "|2020-02-15|United Arab Emirates|                                2.8333333333333335|                                                 4.125|                                                  0.625|                                       2.875|                                        0.625|                      5.142857142857143|     MYS|         Asia|     Malaysia|       22.0|      3.0|             0.857|        NULL|      NULL|                0.0|                   0.68|                0.093|                         0.026|                    NULL|                  NULL|                            0.0|             NULL|        NULL|                    NULL|         NULL|                     NULL|                 NULL|                             NULL|                  NULL|                              NULL|       NULL|     NULL|                    NULL|                  NULL|              NULL|                           NULL|         NULL|          NULL|  people tested|              NULL|             NULL|                   NULL|            NULL|                     NULL|                          NULL|                         NULL|                               NULL|                                 NULL|           19.44|  3.2365998E7|            96.254|      29.9|        6.293|        3.407|     26808.164|            0.1|              260.942|              16.74|           1.0|        42.4|                  NULL|                       1.9|          76.16|                  0.802|\n",
       "+----------+--------------------+--------------------------------------------------+------------------------------------------------------+-------------------------------------------------------+--------------------------------------------+---------------------------------------------+---------------------------------------+--------+-------------+-------------+-----------+---------+------------------+------------+----------+-------------------+-----------------------+---------------------+------------------------------+------------------------+----------------------+-------------------------------+-----------------+------------+------------------------+-------------+-------------------------+---------------------+---------------------------------+----------------------+----------------------------------+-----------+---------+------------------------+----------------------+------------------+-------------------------------+-------------+--------------+---------------+------------------+-----------------+-----------------------+----------------+-------------------------+------------------------------+-----------------------------+-----------------------------------+-------------------------------------+----------------+-------------+------------------+----------+-------------+-------------+--------------+---------------+---------------------+-------------------+--------------+------------+----------------------+--------------------------+---------------+-----------------------+\n",
       "only showing top 20 rows"
      ]
     },
     "execution_count": 12,
     "metadata": {},
     "output_type": "execute_result"
    }
   ],
   "source": [
    "joined_data"
   ]
  },
  {
   "cell_type": "code",
   "execution_count": 13,
   "metadata": {
    "id": "hQlz4we-vRzE"
   },
   "outputs": [],
   "source": [
    "# joined_data = joined_data.orderBy(\"date\")"
   ]
  },
  {
   "cell_type": "code",
   "execution_count": 14,
   "metadata": {},
   "outputs": [],
   "source": [
    "# joined_data.show(10, truncate=True)\n",
    "# joined_data.show(n=25, truncate=False, vertical=True)"
   ]
  },
  {
   "cell_type": "markdown",
   "metadata": {
    "id": "_Rc2TQ800eV9"
   },
   "source": [
    "Australia"
   ]
  },
  {
   "cell_type": "code",
   "execution_count": 19,
   "metadata": {
    "id": "qCoiJaMDzS6h"
   },
   "outputs": [],
   "source": [
    "aus_mobility_data = joined_data.filter(col(\"location\") == \"Australia\")\n",
    "uae_mobility_data = joined_data.filter(col(\"location\") == \"United Arab Emirates\")"
   ]
  },
  {
   "cell_type": "code",
   "execution_count": 16,
   "metadata": {},
   "outputs": [],
   "source": [
    "# aus_mobility_data"
   ]
  },
  {
   "cell_type": "code",
   "execution_count": 17,
   "metadata": {},
   "outputs": [],
   "source": [
    "# uae_mobility_data"
   ]
  },
  {
   "cell_type": "code",
   "execution_count": 21,
   "metadata": {
    "id": "NRMyhVYBvR1b"
   },
   "outputs": [
    {
     "ename": "AttributeError",
     "evalue": "'DataFrame' object has no attribute 'orderBy'",
     "output_type": "error",
     "traceback": [
      "\u001b[1;31m---------------------------------------------------------------------------\u001b[0m",
      "\u001b[1;31mAttributeError\u001b[0m                            Traceback (most recent call last)",
      "\u001b[1;32m~\\AppData\\Local\\Temp\\ipykernel_17072\\3447835243.py\u001b[0m in \u001b[0;36m?\u001b[1;34m()\u001b[0m\n\u001b[1;32m----> 9\u001b[1;33m \u001b[1;32mimport\u001b[0m \u001b[0mmatplotlib\u001b[0m\u001b[1;33m.\u001b[0m\u001b[0mpyplot\u001b[0m \u001b[1;32mas\u001b[0m \u001b[0mplt\u001b[0m\u001b[1;33m\u001b[0m\u001b[1;33m\u001b[0m\u001b[0m\n\u001b[0m\u001b[0;32m     10\u001b[0m \u001b[1;32mimport\u001b[0m \u001b[0mpandas\u001b[0m \u001b[1;32mas\u001b[0m \u001b[0mpd\u001b[0m\u001b[1;33m\u001b[0m\u001b[1;33m\u001b[0m\u001b[0m\n\u001b[0;32m     11\u001b[0m \u001b[1;33m\u001b[0m\u001b[0m\n\u001b[0;32m     12\u001b[0m \u001b[1;31m# Convert the aggregated data to a Pandas DataFrame\u001b[0m\u001b[1;33m\u001b[0m\u001b[1;33m\u001b[0m\u001b[0m\n",
      "\u001b[1;32m~\\anaconda3\\envs\\spark\\lib\\site-packages\\pandas\\core\\generic.py\u001b[0m in \u001b[0;36m?\u001b[1;34m(self, name)\u001b[0m\n\u001b[0;32m   6200\u001b[0m             \u001b[1;32mand\u001b[0m \u001b[0mname\u001b[0m \u001b[1;32mnot\u001b[0m \u001b[1;32min\u001b[0m \u001b[0mself\u001b[0m\u001b[1;33m.\u001b[0m\u001b[0m_accessors\u001b[0m\u001b[1;33m\u001b[0m\u001b[1;33m\u001b[0m\u001b[0m\n\u001b[0;32m   6201\u001b[0m             \u001b[1;32mand\u001b[0m \u001b[0mself\u001b[0m\u001b[1;33m.\u001b[0m\u001b[0m_info_axis\u001b[0m\u001b[1;33m.\u001b[0m\u001b[0m_can_hold_identifiers_and_holds_name\u001b[0m\u001b[1;33m(\u001b[0m\u001b[0mname\u001b[0m\u001b[1;33m)\u001b[0m\u001b[1;33m\u001b[0m\u001b[1;33m\u001b[0m\u001b[0m\n\u001b[0;32m   6202\u001b[0m         ):\n\u001b[0;32m   6203\u001b[0m             \u001b[1;32mreturn\u001b[0m \u001b[0mself\u001b[0m\u001b[1;33m[\u001b[0m\u001b[0mname\u001b[0m\u001b[1;33m]\u001b[0m\u001b[1;33m\u001b[0m\u001b[1;33m\u001b[0m\u001b[0m\n\u001b[1;32m-> 6204\u001b[1;33m         \u001b[1;32mreturn\u001b[0m \u001b[0mobject\u001b[0m\u001b[1;33m.\u001b[0m\u001b[0m__getattribute__\u001b[0m\u001b[1;33m(\u001b[0m\u001b[0mself\u001b[0m\u001b[1;33m,\u001b[0m \u001b[0mname\u001b[0m\u001b[1;33m)\u001b[0m\u001b[1;33m\u001b[0m\u001b[1;33m\u001b[0m\u001b[0m\n\u001b[0m",
      "\u001b[1;31mAttributeError\u001b[0m: 'DataFrame' object has no attribute 'orderBy'"
     ]
    }
   ],
   "source": [
    "\n",
    "import matplotlib.pyplot as plt\n",
    "import pandas as pd\n",
    "\n",
    "# Convert the aggregated data to a Pandas DataFrame\n",
    "australia_mobility_pd = aus_mobility_data.toPandas()\n",
    "\n",
    "# Set the 'date' column as a datetime object\n",
    "australia_mobility_pd['date'] = pd.to_datetime(australia_mobility_pd['date'])\n",
    "australia_mobility_pd = australia_mobility_pd.orderBy('date')\n",
    "\n",
    "# Create a figure and axis\n",
    "fig, ax = plt.subplots(figsize=(12, 6))\n",
    "\n",
    "# Plot each mobility category\n",
    "ax.plot(australia_mobility_pd['date'], australia_mobility_pd['avg(retail_and_recreation_percent_change_from_baseline)'], label='Retail & Recreation')\n",
    "ax.plot(australia_mobility_pd['date'], australia_mobility_pd['avg(grocery_and_pharmacy_percent_change_from_baseline)'], label='Grocery & Pharmacy')\n",
    "ax.plot(australia_mobility_pd['date'], australia_mobility_pd['avg(parks_percent_change_from_baseline)'], label='Parks')\n",
    "ax.plot(australia_mobility_pd['date'], australia_mobility_pd['avg(transit_stations_percent_change_from_baseline)'], label='Transit Stations')\n",
    "ax.plot(australia_mobility_pd['date'], australia_mobility_pd['avg(workplaces_percent_change_from_baseline)'], label='Workplaces')\n",
    "ax.plot(australia_mobility_pd['date'], australia_mobility_pd['avg(residential_percent_change_from_baseline)'], label='Residential')\n",
    "\n",
    "\n",
    "# Set the x-axis label\n",
    "ax.set_xlabel('Date')\n",
    "\n",
    "# Set the y-axis label\n",
    "ax.set_ylabel('Average Percent Change from Baseline')\n",
    "\n",
    "# Set the title\n",
    "ax.set_title('Mobility Trends in Australia')\n",
    "\n",
    "# Rotate x-axis labels for better readability\n",
    "plt.xticks(rotation=45)\n",
    "\n",
    "# Add a legend\n",
    "ax.legend()\n",
    "\n",
    "# Display the plot\n",
    "plt.tight_layout()\n",
    "plt.show()\n"
   ]
  },
  {
   "cell_type": "code",
   "execution_count": null,
   "metadata": {
    "id": "rr_ImojVvR3f"
   },
   "outputs": [],
   "source": [
    "import matplotlib.pyplot as plt\n",
    "\n",
    "# Create a figure and axis for each subplot\n",
    "fig, axs = plt.subplots(6, 1, figsize=(10, 12), sharex=True)\n",
    "\n",
    "# Define the labels for each category\n",
    "categories = ['retail_and_recreation', 'grocery_and_pharmacy', 'parks', 'transit_stations', 'workplaces', 'residential']\n",
    "\n",
    "# Loop through the categories and create a subplot for each\n",
    "for i, category in enumerate(categories):\n",
    "    axs[i].plot(australia_mobility_pd['date'], australia_mobility_pd[f'avg({category.lower()}_percent_change_from_baseline)'])\n",
    "    axs[i].set_title(category)\n",
    "    axs[i].grid(True)\n",
    "\n",
    "# Add labels and adjust layout\n",
    "plt.xlabel('Date')\n",
    "plt.tight_layout()\n",
    "plt.show()"
   ]
  },
  {
   "cell_type": "markdown",
   "metadata": {
    "id": "s5R7kJju0jBn"
   },
   "source": [
    "UAE"
   ]
  },
  {
   "cell_type": "code",
   "execution_count": null,
   "metadata": {
    "id": "OL3RU3ZPvR6E"
   },
   "outputs": [],
   "source": [
    "uae_mobility_data = joined_data.filter(col(\"location\") == \"United Arab Emirates\")\n",
    "\n",
    "import matplotlib.pyplot as plt\n",
    "import pandas as pd\n",
    "\n",
    "# Convert the aggregated data to a Pandas DataFrame\n",
    "uae_mobility_pd = uae_mobility_data.toPandas()\n",
    "\n",
    "# Set the 'date' column as a datetime object\n",
    "uae_mobility_pd['date'] = pd.to_datetime(uae_mobility_pd['date'])\n",
    "\n",
    "# Create a figure and axis\n",
    "fig, ax = plt.subplots(figsize=(12, 6))\n",
    "\n",
    "# Plot each mobility category\n",
    "ax.plot(uae_mobility_pd['date'], uae_mobility_pd['avg(retail_and_recreation_percent_change_from_baseline)'], label='Retail & Recreation')\n",
    "ax.plot(uae_mobility_pd['date'], uae_mobility_pd['avg(grocery_and_pharmacy_percent_change_from_baseline)'], label='Grocery & Pharmacy')\n",
    "ax.plot(uae_mobility_pd['date'], uae_mobility_pd['avg(parks_percent_change_from_baseline)'], label='Parks')\n",
    "ax.plot(uae_mobility_pd['date'], uae_mobility_pd['avg(transit_stations_percent_change_from_baseline)'], label='Transit Stations')\n",
    "ax.plot(uae_mobility_pd['date'], uae_mobility_pd['avg(workplaces_percent_change_from_baseline)'], label='Workplaces')\n",
    "ax.plot(uae_mobility_pd['date'], uae_mobility_pd['avg(residential_percent_change_from_baseline)'], label='Residential')\n",
    "\n",
    "\n",
    "# Set the x-axis label\n",
    "ax.set_xlabel('Date')\n",
    "\n",
    "# Set the y-axis label\n",
    "ax.set_ylabel('Average Percent Change from Baseline')\n",
    "\n",
    "# Set the title\n",
    "ax.set_title('Mobility Trends in UAE')\n",
    "\n",
    "# Rotate x-axis labels for better readability\n",
    "plt.xticks(rotation=45)\n",
    "\n",
    "# Add a legend\n",
    "ax.legend()\n",
    "\n",
    "# Display the plot\n",
    "plt.tight_layout()\n",
    "plt.show()\n"
   ]
  },
  {
   "cell_type": "code",
   "execution_count": null,
   "metadata": {},
   "outputs": [],
   "source": [
    "uae_mobility_data"
   ]
  },
  {
   "cell_type": "code",
   "execution_count": null,
   "metadata": {
    "id": "O0fdb5WIvR7q"
   },
   "outputs": [],
   "source": [
    "import matplotlib.pyplot as plt\n",
    "\n",
    "# Create a figure and axis for each subplot\n",
    "fig, axs = plt.subplots(6, 1, figsize=(10, 12), sharex=True)\n",
    "\n",
    "# Define the labels for each category\n",
    "categories = ['retail_and_recreation', 'grocery_and_pharmacy', 'parks', 'transit_stations', 'workplaces', 'residential']\n",
    "\n",
    "# Loop through the categories and create a subplot for each\n",
    "for i, category in enumerate(categories):\n",
    "    axs[i].plot(uae_mobility_pd['date'], uae_mobility_pd[f'avg({category.lower()}_percent_change_from_baseline)'])\n",
    "    axs[i].set_title(category)\n",
    "    axs[i].grid(True)\n",
    "\n",
    "# Add labels and adjust layout\n",
    "plt.xlabel('Date')\n",
    "plt.tight_layout()\n",
    "plt.show()"
   ]
  },
  {
   "cell_type": "code",
   "execution_count": null,
   "metadata": {},
   "outputs": [],
   "source": [
    "import matplotlib.pyplot as plt\n",
    "\n",
    "# Create a figure and axis for each subplot\n",
    "fig, axs = plt.subplots(6, 1, figsize=(10, 12), sharex=True)\n",
    "\n",
    "# Define the labels for each category\n",
    "categories = ['retail_and_recreation', 'grocery_and_pharmacy', 'parks', 'transit_stations', 'workplaces', 'residential']\n",
    "\n",
    "# Loop through the categories and create a subplot for each\n",
    "for i, category in enumerate(categories):\n",
    "    # Plot data for Australia\n",
    "    axs[i].plot(australia_mobility_pd['date'], australia_mobility_pd[f'avg({category.lower()}_percent_change_from_baseline)'],\n",
    "                label='Australia')\n",
    "    \n",
    "    # Plot data for UAE\n",
    "    axs[i].plot(uae_mobility_pd['date'], uae_mobility_pd[f'avg({category.lower()}_percent_change_from_baseline)'],\n",
    "                label='UAE')\n",
    "    \n",
    "    axs[i].set_title(category)\n",
    "    axs[i].grid(True)\n",
    "    axs[i].legend()  # Add a legend to distinguish Australia and UAE\n",
    "\n",
    "# Add labels and adjust layout\n",
    "plt.xlabel('Date')\n",
    "plt.tight_layout()\n",
    "plt.show()"
   ]
  },
  {
   "cell_type": "code",
   "execution_count": null,
   "metadata": {},
   "outputs": [],
   "source": []
  },
  {
   "cell_type": "code",
   "execution_count": null,
   "metadata": {},
   "outputs": [],
   "source": []
  },
  {
   "cell_type": "code",
   "execution_count": null,
   "metadata": {},
   "outputs": [],
   "source": []
  },
  {
   "cell_type": "code",
   "execution_count": null,
   "metadata": {},
   "outputs": [],
   "source": []
  },
  {
   "cell_type": "code",
   "execution_count": null,
   "metadata": {},
   "outputs": [],
   "source": []
  },
  {
   "cell_type": "code",
   "execution_count": null,
   "metadata": {},
   "outputs": [],
   "source": []
  },
  {
   "cell_type": "code",
   "execution_count": null,
   "metadata": {},
   "outputs": [],
   "source": []
  },
  {
   "cell_type": "code",
   "execution_count": null,
   "metadata": {},
   "outputs": [],
   "source": []
  },
  {
   "cell_type": "code",
   "execution_count": null,
   "metadata": {},
   "outputs": [],
   "source": []
  },
  {
   "cell_type": "code",
   "execution_count": null,
   "metadata": {},
   "outputs": [],
   "source": []
  },
  {
   "cell_type": "code",
   "execution_count": null,
   "metadata": {},
   "outputs": [],
   "source": []
  },
  {
   "cell_type": "code",
   "execution_count": null,
   "metadata": {},
   "outputs": [],
   "source": []
  },
  {
   "cell_type": "code",
   "execution_count": null,
   "metadata": {},
   "outputs": [],
   "source": []
  },
  {
   "cell_type": "code",
   "execution_count": null,
   "metadata": {},
   "outputs": [],
   "source": []
  },
  {
   "cell_type": "code",
   "execution_count": null,
   "metadata": {},
   "outputs": [],
   "source": []
  },
  {
   "cell_type": "code",
   "execution_count": null,
   "metadata": {},
   "outputs": [],
   "source": []
  },
  {
   "cell_type": "code",
   "execution_count": null,
   "metadata": {
    "id": "IkthBuEKvR9x"
   },
   "outputs": [],
   "source": []
  }
 ],
 "metadata": {
  "colab": {
   "provenance": []
  },
  "kernelspec": {
   "display_name": "Python 3 (ipykernel)",
   "language": "python",
   "name": "python3"
  },
  "language_info": {
   "codemirror_mode": {
    "name": "ipython",
    "version": 3
   },
   "file_extension": ".py",
   "mimetype": "text/x-python",
   "name": "python",
   "nbconvert_exporter": "python",
   "pygments_lexer": "ipython3",
   "version": "3.9.18"
  }
 },
 "nbformat": 4,
 "nbformat_minor": 1
}
