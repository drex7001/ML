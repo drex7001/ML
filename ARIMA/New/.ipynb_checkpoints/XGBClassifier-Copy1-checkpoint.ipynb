{
 "cells": [
  {
   "cell_type": "code",
   "execution_count": 20,
   "id": "45f7b8ee",
   "metadata": {},
   "outputs": [],
   "source": [
    "import os\n",
    "import numpy as np\n",
    "import pandas as pd\n",
    "from sklearn import linear_model\n",
    "from sklearn.preprocessing import LabelEncoder\n",
    "from sklearn.model_selection import train_test_split\n",
    "import seaborn as sns\n",
    "import matplotlib.pyplot as plt\n",
    "import warnings\n",
    "warnings.simplefilter(action='ignore', category=FutureWarning)\n"
   ]
  },
  {
   "cell_type": "code",
   "execution_count": 21,
   "id": "dcb2e1ab",
   "metadata": {},
   "outputs": [
    {
     "data": {
      "text/html": [
       "<div>\n",
       "<style scoped>\n",
       "    .dataframe tbody tr th:only-of-type {\n",
       "        vertical-align: middle;\n",
       "    }\n",
       "\n",
       "    .dataframe tbody tr th {\n",
       "        vertical-align: top;\n",
       "    }\n",
       "\n",
       "    .dataframe thead th {\n",
       "        text-align: right;\n",
       "    }\n",
       "</style>\n",
       "<table border=\"1\" class=\"dataframe\">\n",
       "  <thead>\n",
       "    <tr style=\"text-align: right;\">\n",
       "      <th></th>\n",
       "      <th>Unnamed: 0</th>\n",
       "      <th>YEAR-MONTH</th>\n",
       "      <th>COASTAL KARNATAKA</th>\n",
       "      <th>KERALA</th>\n",
       "      <th>RAYALSEEMA</th>\n",
       "      <th>SOUTH INTERIOR KARNATAKA</th>\n",
       "      <th>TAMIL NADU</th>\n",
       "    </tr>\n",
       "  </thead>\n",
       "  <tbody>\n",
       "    <tr>\n",
       "      <th>0</th>\n",
       "      <td>0</td>\n",
       "      <td>1901-APR</td>\n",
       "      <td>52.4</td>\n",
       "      <td>160.0</td>\n",
       "      <td>12.1</td>\n",
       "      <td>32.7</td>\n",
       "      <td>36.0</td>\n",
       "    </tr>\n",
       "    <tr>\n",
       "      <th>1</th>\n",
       "      <td>1</td>\n",
       "      <td>1901-AUG</td>\n",
       "      <td>606.4</td>\n",
       "      <td>357.5</td>\n",
       "      <td>60.3</td>\n",
       "      <td>109.2</td>\n",
       "      <td>67.9</td>\n",
       "    </tr>\n",
       "    <tr>\n",
       "      <th>2</th>\n",
       "      <td>2</td>\n",
       "      <td>1901-DEC</td>\n",
       "      <td>17.8</td>\n",
       "      <td>48.4</td>\n",
       "      <td>91.3</td>\n",
       "      <td>12.3</td>\n",
       "      <td>80.4</td>\n",
       "    </tr>\n",
       "    <tr>\n",
       "      <th>3</th>\n",
       "      <td>3</td>\n",
       "      <td>1901-FEB</td>\n",
       "      <td>0.6</td>\n",
       "      <td>44.7</td>\n",
       "      <td>50.2</td>\n",
       "      <td>31.8</td>\n",
       "      <td>39.1</td>\n",
       "    </tr>\n",
       "    <tr>\n",
       "      <th>4</th>\n",
       "      <td>4</td>\n",
       "      <td>1901-JAN</td>\n",
       "      <td>1.8</td>\n",
       "      <td>28.7</td>\n",
       "      <td>7.0</td>\n",
       "      <td>4.9</td>\n",
       "      <td>24.5</td>\n",
       "    </tr>\n",
       "  </tbody>\n",
       "</table>\n",
       "</div>"
      ],
      "text/plain": [
       "   Unnamed: 0 YEAR-MONTH  COASTAL KARNATAKA  KERALA  RAYALSEEMA  \\\n",
       "0           0   1901-APR               52.4   160.0        12.1   \n",
       "1           1   1901-AUG              606.4   357.5        60.3   \n",
       "2           2   1901-DEC               17.8    48.4        91.3   \n",
       "3           3   1901-FEB                0.6    44.7        50.2   \n",
       "4           4   1901-JAN                1.8    28.7         7.0   \n",
       "\n",
       "   SOUTH INTERIOR KARNATAKA  TAMIL NADU  \n",
       "0                      32.7        36.0  \n",
       "1                     109.2        67.9  \n",
       "2                      12.3        80.4  \n",
       "3                      31.8        39.1  \n",
       "4                       4.9        24.5  "
      ]
     },
     "execution_count": 21,
     "metadata": {},
     "output_type": "execute_result"
    }
   ],
   "source": [
    "# Read dataset to a dataframe\n",
    "df = pd.read_csv('pivot.csv',encoding='windows-1254')\n",
    "\n",
    "df.head()"
   ]
  },
  {
   "cell_type": "code",
   "execution_count": 22,
   "id": "037f2d40",
   "metadata": {},
   "outputs": [
    {
     "data": {
      "text/plain": [
       "Index(['Unnamed: 0', 'YEAR-MONTH', 'COASTAL KARNATAKA', 'KERALA', 'RAYALSEEMA',\n",
       "       'SOUTH INTERIOR KARNATAKA', 'TAMIL NADU'],\n",
       "      dtype='object')"
      ]
     },
     "execution_count": 22,
     "metadata": {},
     "output_type": "execute_result"
    }
   ],
   "source": [
    "df.columns"
   ]
  },
  {
   "cell_type": "code",
   "execution_count": 23,
   "id": "ac3933e3",
   "metadata": {},
   "outputs": [
    {
     "data": {
      "text/plain": [
       "Unnamed: 0                    int64\n",
       "YEAR-MONTH                   object\n",
       "COASTAL KARNATAKA           float64\n",
       "KERALA                      float64\n",
       "RAYALSEEMA                  float64\n",
       "SOUTH INTERIOR KARNATAKA    float64\n",
       "TAMIL NADU                  float64\n",
       "dtype: object"
      ]
     },
     "execution_count": 23,
     "metadata": {},
     "output_type": "execute_result"
    }
   ],
   "source": [
    "df.dtypes"
   ]
  },
  {
   "cell_type": "code",
   "execution_count": 24,
   "id": "76d3944f",
   "metadata": {},
   "outputs": [],
   "source": [
    "df = df.drop(['Unnamed: 0', 'YEAR-MONTH'], axis=1)"
   ]
  },
  {
   "cell_type": "code",
   "execution_count": 25,
   "id": "83ceef1f",
   "metadata": {},
   "outputs": [
    {
     "data": {
      "text/plain": [
       "COASTAL KARNATAKA           1\n",
       "KERALA                      0\n",
       "RAYALSEEMA                  0\n",
       "SOUTH INTERIOR KARNATAKA    0\n",
       "TAMIL NADU                  0\n",
       "dtype: int64"
      ]
     },
     "execution_count": 25,
     "metadata": {},
     "output_type": "execute_result"
    }
   ],
   "source": [
    "df.isnull().sum()"
   ]
  },
  {
   "cell_type": "code",
   "execution_count": 26,
   "id": "8aa388ab",
   "metadata": {},
   "outputs": [],
   "source": [
    "df.dropna(inplace=True)"
   ]
  },
  {
   "cell_type": "code",
   "execution_count": 27,
   "id": "2e4c6d87",
   "metadata": {},
   "outputs": [
    {
     "data": {
      "text/html": [
       "<div>\n",
       "<style scoped>\n",
       "    .dataframe tbody tr th:only-of-type {\n",
       "        vertical-align: middle;\n",
       "    }\n",
       "\n",
       "    .dataframe tbody tr th {\n",
       "        vertical-align: top;\n",
       "    }\n",
       "\n",
       "    .dataframe thead th {\n",
       "        text-align: right;\n",
       "    }\n",
       "</style>\n",
       "<table border=\"1\" class=\"dataframe\">\n",
       "  <thead>\n",
       "    <tr style=\"text-align: right;\">\n",
       "      <th></th>\n",
       "      <th>COASTAL KARNATAKA</th>\n",
       "      <th>KERALA</th>\n",
       "      <th>RAYALSEEMA</th>\n",
       "      <th>SOUTH INTERIOR KARNATAKA</th>\n",
       "      <th>TAMIL NADU</th>\n",
       "    </tr>\n",
       "  </thead>\n",
       "  <tbody>\n",
       "    <tr>\n",
       "      <th>0</th>\n",
       "      <td>52.4</td>\n",
       "      <td>160.0</td>\n",
       "      <td>12.1</td>\n",
       "      <td>32.7</td>\n",
       "      <td>36.0</td>\n",
       "    </tr>\n",
       "    <tr>\n",
       "      <th>1</th>\n",
       "      <td>606.4</td>\n",
       "      <td>357.5</td>\n",
       "      <td>60.3</td>\n",
       "      <td>109.2</td>\n",
       "      <td>67.9</td>\n",
       "    </tr>\n",
       "    <tr>\n",
       "      <th>2</th>\n",
       "      <td>17.8</td>\n",
       "      <td>48.4</td>\n",
       "      <td>91.3</td>\n",
       "      <td>12.3</td>\n",
       "      <td>80.4</td>\n",
       "    </tr>\n",
       "    <tr>\n",
       "      <th>3</th>\n",
       "      <td>0.6</td>\n",
       "      <td>44.7</td>\n",
       "      <td>50.2</td>\n",
       "      <td>31.8</td>\n",
       "      <td>39.1</td>\n",
       "    </tr>\n",
       "    <tr>\n",
       "      <th>4</th>\n",
       "      <td>1.8</td>\n",
       "      <td>28.7</td>\n",
       "      <td>7.0</td>\n",
       "      <td>4.9</td>\n",
       "      <td>24.5</td>\n",
       "    </tr>\n",
       "    <tr>\n",
       "      <th>...</th>\n",
       "      <td>...</td>\n",
       "      <td>...</td>\n",
       "      <td>...</td>\n",
       "      <td>...</td>\n",
       "      <td>...</td>\n",
       "    </tr>\n",
       "    <tr>\n",
       "      <th>1375</th>\n",
       "      <td>32.3</td>\n",
       "      <td>50.1</td>\n",
       "      <td>13.4</td>\n",
       "      <td>24.4</td>\n",
       "      <td>21.7</td>\n",
       "    </tr>\n",
       "    <tr>\n",
       "      <th>1376</th>\n",
       "      <td>150.3</td>\n",
       "      <td>201.8</td>\n",
       "      <td>39.7</td>\n",
       "      <td>125.3</td>\n",
       "      <td>112.4</td>\n",
       "    </tr>\n",
       "    <tr>\n",
       "      <th>1377</th>\n",
       "      <td>124.2</td>\n",
       "      <td>223.6</td>\n",
       "      <td>383.8</td>\n",
       "      <td>138.1</td>\n",
       "      <td>379.8</td>\n",
       "    </tr>\n",
       "    <tr>\n",
       "      <th>1378</th>\n",
       "      <td>208.5</td>\n",
       "      <td>308.1</td>\n",
       "      <td>106.7</td>\n",
       "      <td>106.1</td>\n",
       "      <td>132.6</td>\n",
       "    </tr>\n",
       "    <tr>\n",
       "      <th>1379</th>\n",
       "      <td>260.3</td>\n",
       "      <td>292.9</td>\n",
       "      <td>136.3</td>\n",
       "      <td>164.5</td>\n",
       "      <td>98.4</td>\n",
       "    </tr>\n",
       "  </tbody>\n",
       "</table>\n",
       "<p>1379 rows × 5 columns</p>\n",
       "</div>"
      ],
      "text/plain": [
       "      COASTAL KARNATAKA  KERALA  RAYALSEEMA  SOUTH INTERIOR KARNATAKA  \\\n",
       "0                  52.4   160.0        12.1                      32.7   \n",
       "1                 606.4   357.5        60.3                     109.2   \n",
       "2                  17.8    48.4        91.3                      12.3   \n",
       "3                   0.6    44.7        50.2                      31.8   \n",
       "4                   1.8    28.7         7.0                       4.9   \n",
       "...                 ...     ...         ...                       ...   \n",
       "1375               32.3    50.1        13.4                      24.4   \n",
       "1376              150.3   201.8        39.7                     125.3   \n",
       "1377              124.2   223.6       383.8                     138.1   \n",
       "1378              208.5   308.1       106.7                     106.1   \n",
       "1379              260.3   292.9       136.3                     164.5   \n",
       "\n",
       "      TAMIL NADU  \n",
       "0           36.0  \n",
       "1           67.9  \n",
       "2           80.4  \n",
       "3           39.1  \n",
       "4           24.5  \n",
       "...          ...  \n",
       "1375        21.7  \n",
       "1376       112.4  \n",
       "1377       379.8  \n",
       "1378       132.6  \n",
       "1379        98.4  \n",
       "\n",
       "[1379 rows x 5 columns]"
      ]
     },
     "execution_count": 27,
     "metadata": {},
     "output_type": "execute_result"
    }
   ],
   "source": [
    "# cols = ['Gender', 'Education',\n",
    "#        'Job ( clerical/forces  /agriculture/ labor/retired/ other)',\n",
    "#        'Source of water for drinking(tube well/public well/private well/pipe bourn)',\n",
    "#        'Smorking or not', 'Using alcohol or not', 'Using betel nut or not',\n",
    "#        'Do you have any of this disorders diabetes/stress/blood pressure ', 'Having kidney disease']\n",
    "# df[cols] = df[cols].apply(LabelEncoder().fit_transform)\n",
    "# df.head()\n",
    "df"
   ]
  },
  {
   "cell_type": "code",
   "execution_count": 28,
   "id": "1a6ff89f",
   "metadata": {},
   "outputs": [
    {
     "data": {
      "image/png": "[encoded data removed]",
      "text/plain": [
       "<Figure size 1500x1000 with 2 Axes>"
      ]
     },
     "metadata": {},
     "output_type": "display_data"
    }
   ],
   "source": [
    "plt.figure(figsize = (15, 10))\n",
    "sns.heatmap(df.corr(), cmap = 'Blues', square = True, annot = True)\n",
    "plt.title(\"Visualizing Correlations\", size = 20)\n",
    "plt.show()"
   ]
  },
  {
   "cell_type": "code",
   "execution_count": 29,
   "id": "d72c99df",
   "metadata": {},
   "outputs": [],
   "source": [
    "# sns.pairplot(df,hue='Having kidney disease')"
   ]
  },
  {
   "cell_type": "code",
   "execution_count": 30,
   "id": "3343dee2",
   "metadata": {},
   "outputs": [],
   "source": [
    "# columns=df.columns\n",
    "# columns=list(columns)\n",
    "# columns.pop()\n",
    "\n",
    "# sns.set(rc={'figure.figsize':(15,17)})\n",
    "# sns.set_style(style='white')\n",
    "\n",
    "# for i in range(len(columns)):\n",
    "#     plt.subplot(4,3,i+1)\n",
    "#     sns.distplot(df[columns[i]], hist=True, rug=True, color='b')"
   ]
  },
  {
   "cell_type": "code",
   "execution_count": 31,
   "id": "77db7273",
   "metadata": {},
   "outputs": [
    {
     "data": {
      "text/plain": [
       "Index(['COASTAL KARNATAKA', 'KERALA', 'RAYALSEEMA', 'SOUTH INTERIOR KARNATAKA',\n",
       "       'TAMIL NADU'],\n",
       "      dtype='object')"
      ]
     },
     "execution_count": 31,
     "metadata": {},
     "output_type": "execute_result"
    }
   ],
   "source": [
    "df.columns"
   ]
  },
  {
   "cell_type": "code",
   "execution_count": 32,
   "id": "7070c9fd",
   "metadata": {},
   "outputs": [],
   "source": [
    "x = df[['COASTAL KARNATAKA', 'KERALA', 'RAYALSEEMA',\n",
    "       'TAMIL NADU']].values\n",
    "\n",
    "\n",
    "y = df['SOUTH INTERIOR KARNATAKA'].values"
   ]
  },
  {
   "cell_type": "code",
   "execution_count": 33,
   "id": "b5e2138c",
   "metadata": {},
   "outputs": [],
   "source": [
    "from sklearn.model_selection import train_test_split\n",
    "x_train, x_test, y_train, y_test = train_test_split(x,y,random_state=100,test_size=0.25)"
   ]
  },
  {
   "cell_type": "code",
   "execution_count": 34,
   "id": "7c590f19",
   "metadata": {},
   "outputs": [
    {
     "data": {
      "text/plain": [
       "(1034,)"
      ]
     },
     "execution_count": 34,
     "metadata": {},
     "output_type": "execute_result"
    }
   ],
   "source": [
    "x_train.shape\n",
    "y_train.shape"
   ]
  },
  {
   "cell_type": "code",
   "execution_count": 35,
   "id": "4b912f9f",
   "metadata": {},
   "outputs": [],
   "source": [
    "import xgboost as xgb"
   ]
  },
  {
   "cell_type": "code",
   "execution_count": 36,
   "id": "c044dac1",
   "metadata": {},
   "outputs": [],
   "source": [
    "xgbc = xgb.XGBClassifier() "
   ]
  },
  {
   "cell_type": "code",
   "execution_count": 37,
   "id": "7b3a00ba",
   "metadata": {},
   "outputs": [
    {
     "ename": "ValueError",
     "evalue": "Invalid classes inferred from unique values of `y`.  Expected: [  0   1   2   3   4   5   6   7   8   9  10  11  12  13  14  15  16  17\n  18  19  20  21  22  23  24  25  26  27  28  29  30  31  32  33  34  35\n  36  37  38  39  40  41  42  43  44  45  46  47  48  49  50  51  52  53\n  54  55  56  57  58  59  60  61  62  63  64  65  66  67  68  69  70  71\n  72  73  74  75  76  77  78  79  80  81  82  83  84  85  86  87  88  89\n  90  91  92  93  94  95  96  97  98  99 100 101 102 103 104 105 106 107\n 108 109 110 111 112 113 114 115 116 117 118 119 120 121 122 123 124 125\n 126 127 128 129 130 131 132 133 134 135 136 137 138 139 140 141 142 143\n 144 145 146 147 148 149 150 151 152 153 154 155 156 157 158 159 160 161\n 162 163 164 165 166 167 168 169 170 171 172 173 174 175 176 177 178 179\n 180 181 182 183 184 185 186 187 188 189 190 191 192 193 194 195 196 197\n 198 199 200 201 202 203 204 205 206 207 208 209 210 211 212 213 214 215\n 216 217 218 219 220 221 222 223 224 225 226 227 228 229 230 231 232 233\n 234 235 236 237 238 239 240 241 242 243 244 245 246 247 248 249 250 251\n 252 253 254 255 256 257 258 259 260 261 262 263 264 265 266 267 268 269\n 270 271 272 273 274 275 276 277 278 279 280 281 282 283 284 285 286 287\n 288 289 290 291 292 293 294 295 296 297 298 299 300 301 302 303 304 305\n 306 307 308 309 310 311 312 313 314 315 316 317 318 319 320 321 322 323\n 324 325 326 327 328 329 330 331 332 333 334 335 336 337 338 339 340 341\n 342 343 344 345 346 347 348 349 350 351 352 353 354 355 356 357 358 359\n 360 361 362 363 364 365 366 367 368 369 370 371 372 373 374 375 376 377\n 378 379 380 381 382 383 384 385 386 387 388 389 390 391 392 393 394 395\n 396 397 398 399 400 401 402 403 404 405 406 407 408 409 410 411 412 413\n 414 415 416 417 418 419 420 421 422 423 424 425 426 427 428 429 430 431\n 432 433 434 435 436 437 438 439 440 441 442 443 444 445 446 447 448 449\n 450 451 452 453 454 455 456 457 458 459 460 461 462 463 464 465 466 467\n 468 469 470 471 472 473 474 475 476 477 478 479 480 481 482 483 484 485\n 486 487 488 489 490 491 492 493 494 495 496 497 498 499 500 501 502 503\n 504 505 506 507 508 509 510 511 512 513 514 515 516 517 518 519 520 521\n 522 523 524 525 526 527 528 529 530 531 532 533 534 535 536 537 538 539\n 540 541 542 543 544 545 546 547 548 549 550 551 552 553 554 555 556 557\n 558 559 560 561 562 563 564 565 566 567 568 569 570 571 572 573 574 575\n 576 577 578 579 580 581 582 583 584 585 586 587 588 589 590 591 592 593\n 594 595 596 597 598 599 600 601 602 603 604 605 606 607 608 609 610 611\n 612 613 614 615 616 617 618 619 620 621 622 623 624 625 626 627 628 629\n 630 631 632 633 634 635 636 637 638 639 640 641 642 643 644 645 646 647\n 648 649 650 651 652 653 654 655 656 657 658 659 660 661 662 663 664 665\n 666 667 668 669 670 671 672 673 674 675 676 677 678 679 680 681 682 683\n 684 685 686 687 688 689 690 691 692 693 694 695 696 697 698 699 700 701\n 702 703 704 705 706 707 708 709 710 711 712 713 714 715 716 717 718 719\n 720 721 722 723 724 725 726], got [0.000e+00 1.000e-01 2.000e-01 3.000e-01 4.000e-01 5.000e-01 6.000e-01\n 7.000e-01 8.000e-01 9.000e-01 1.000e+00 1.100e+00 1.200e+00 1.300e+00\n 1.400e+00 1.500e+00 1.700e+00 1.800e+00 1.900e+00 2.000e+00 2.100e+00\n 2.200e+00 2.300e+00 2.400e+00 2.500e+00 2.600e+00 2.700e+00 2.800e+00\n 2.900e+00 3.000e+00 3.100e+00 3.200e+00 3.400e+00 3.500e+00 3.600e+00\n 3.800e+00 3.900e+00 4.000e+00 4.100e+00 4.200e+00 4.300e+00 4.400e+00\n 4.500e+00 4.600e+00 4.700e+00 4.800e+00 4.900e+00 5.000e+00 5.200e+00\n 5.300e+00 5.400e+00 5.500e+00 5.700e+00 5.800e+00 5.900e+00 6.200e+00\n 6.300e+00 6.500e+00 6.600e+00 6.700e+00 6.800e+00 6.900e+00 7.100e+00\n 7.200e+00 7.300e+00 7.400e+00 7.500e+00 7.600e+00 7.900e+00 8.000e+00\n 8.100e+00 8.300e+00 8.400e+00 8.700e+00 8.900e+00 9.000e+00 9.100e+00\n 9.200e+00 9.400e+00 9.600e+00 9.700e+00 9.800e+00 1.000e+01 1.030e+01\n 1.040e+01 1.050e+01 1.070e+01 1.090e+01 1.110e+01 1.120e+01 1.140e+01\n 1.150e+01 1.160e+01 1.170e+01 1.190e+01 1.210e+01 1.230e+01 1.240e+01\n 1.250e+01 1.270e+01 1.280e+01 1.300e+01 1.310e+01 1.330e+01 1.370e+01\n 1.380e+01 1.390e+01 1.410e+01 1.420e+01 1.430e+01 1.460e+01 1.480e+01\n 1.520e+01 1.550e+01 1.570e+01 1.580e+01 1.590e+01 1.600e+01 1.640e+01\n 1.740e+01 1.760e+01 1.770e+01 1.810e+01 1.830e+01 1.840e+01 1.860e+01\n 1.920e+01 1.940e+01 1.950e+01 1.960e+01 1.980e+01 1.990e+01 2.010e+01\n 2.060e+01 2.090e+01 2.110e+01 2.170e+01 2.180e+01 2.230e+01 2.240e+01\n 2.300e+01 2.340e+01 2.370e+01 2.390e+01 2.400e+01 2.410e+01 2.440e+01\n 2.460e+01 2.470e+01 2.480e+01 2.490e+01 2.500e+01 2.540e+01 2.550e+01\n 2.570e+01 2.580e+01 2.600e+01 2.620e+01 2.630e+01 2.650e+01 2.670e+01\n 2.690e+01 2.700e+01 2.720e+01 2.770e+01 2.840e+01 2.860e+01 2.880e+01\n 2.890e+01 2.930e+01 3.010e+01 3.040e+01 3.060e+01 3.080e+01 3.130e+01\n 3.160e+01 3.180e+01 3.190e+01 3.210e+01 3.230e+01 3.270e+01 3.280e+01\n 3.310e+01 3.330e+01 3.360e+01 3.370e+01 3.440e+01 3.450e+01 3.470e+01\n 3.540e+01 3.580e+01 3.640e+01 3.700e+01 3.750e+01 3.780e+01 3.790e+01\n 3.850e+01 3.870e+01 3.890e+01 3.900e+01 3.980e+01 4.000e+01 4.010e+01\n 4.070e+01 4.090e+01 4.150e+01 4.170e+01 4.200e+01 4.210e+01 4.220e+01\n 4.240e+01 4.290e+01 4.310e+01 4.340e+01 4.350e+01 4.380e+01 4.390e+01\n 4.430e+01 4.440e+01 4.460e+01 4.470e+01 4.500e+01 4.560e+01 4.570e+01\n 4.580e+01 4.610e+01 4.650e+01 4.660e+01 4.700e+01 4.720e+01 4.750e+01\n 4.820e+01 4.830e+01 4.870e+01 4.900e+01 4.950e+01 4.960e+01 4.980e+01\n 5.080e+01 5.100e+01 5.120e+01 5.140e+01 5.160e+01 5.170e+01 5.260e+01\n 5.280e+01 5.340e+01 5.460e+01 5.490e+01 5.500e+01 5.540e+01 5.570e+01\n 5.670e+01 5.690e+01 5.760e+01 5.780e+01 5.840e+01 5.860e+01 5.900e+01\n 5.930e+01 5.960e+01 6.000e+01 6.010e+01 6.020e+01 6.090e+01 6.110e+01\n 6.130e+01 6.170e+01 6.220e+01 6.250e+01 6.260e+01 6.330e+01 6.400e+01\n 6.410e+01 6.420e+01 6.530e+01 6.590e+01 6.610e+01 6.670e+01 6.690e+01\n 6.740e+01 6.750e+01 6.800e+01 6.850e+01 6.940e+01 6.960e+01 7.010e+01\n 7.050e+01 7.070e+01 7.090e+01 7.100e+01 7.140e+01 7.160e+01 7.240e+01\n 7.250e+01 7.260e+01 7.320e+01 7.380e+01 7.470e+01 7.490e+01 7.540e+01\n 7.630e+01 7.650e+01 7.670e+01 7.680e+01 7.700e+01 7.710e+01 7.750e+01\n 7.780e+01 7.790e+01 7.800e+01 7.810e+01 7.840e+01 7.890e+01 7.960e+01\n 7.990e+01 8.020e+01 8.050e+01 8.100e+01 8.130e+01 8.140e+01 8.150e+01\n 8.160e+01 8.180e+01 8.190e+01 8.210e+01 8.230e+01 8.240e+01 8.260e+01\n 8.350e+01 8.400e+01 8.430e+01 8.460e+01 8.470e+01 8.490e+01 8.520e+01\n 8.550e+01 8.690e+01 8.800e+01 8.840e+01 8.850e+01 8.880e+01 8.890e+01\n 8.950e+01 8.960e+01 8.970e+01 8.980e+01 9.060e+01 9.080e+01 9.090e+01\n 9.100e+01 9.120e+01 9.170e+01 9.210e+01 9.220e+01 9.260e+01 9.300e+01\n 9.340e+01 9.490e+01 9.560e+01 9.600e+01 9.620e+01 9.640e+01 9.760e+01\n 9.770e+01 9.780e+01 9.800e+01 9.850e+01 9.870e+01 9.900e+01 9.930e+01\n 9.980e+01 1.000e+02 1.005e+02 1.006e+02 1.009e+02 1.013e+02 1.015e+02\n 1.016e+02 1.019e+02 1.021e+02 1.024e+02 1.027e+02 1.037e+02 1.044e+02\n 1.045e+02 1.052e+02 1.053e+02 1.060e+02 1.061e+02 1.065e+02 1.068e+02\n 1.071e+02 1.078e+02 1.079e+02 1.080e+02 1.084e+02 1.085e+02 1.086e+02\n 1.087e+02 1.089e+02 1.090e+02 1.092e+02 1.095e+02 1.096e+02 1.099e+02\n 1.101e+02 1.112e+02 1.116e+02 1.120e+02 1.128e+02 1.129e+02 1.130e+02\n 1.135e+02 1.139e+02 1.143e+02 1.149e+02 1.151e+02 1.153e+02 1.158e+02\n 1.165e+02 1.168e+02 1.171e+02 1.175e+02 1.177e+02 1.180e+02 1.181e+02\n 1.182e+02 1.185e+02 1.201e+02 1.204e+02 1.215e+02 1.217e+02 1.219e+02\n 1.222e+02 1.223e+02 1.224e+02 1.227e+02 1.231e+02 1.232e+02 1.235e+02\n 1.238e+02 1.245e+02 1.249e+02 1.251e+02 1.253e+02 1.257e+02 1.269e+02\n 1.272e+02 1.281e+02 1.285e+02 1.290e+02 1.291e+02 1.295e+02 1.296e+02\n 1.298e+02 1.301e+02 1.305e+02 1.312e+02 1.319e+02 1.326e+02 1.328e+02\n 1.329e+02 1.330e+02 1.336e+02 1.337e+02 1.344e+02 1.345e+02 1.350e+02\n 1.351e+02 1.352e+02 1.356e+02 1.357e+02 1.359e+02 1.363e+02 1.366e+02\n 1.368e+02 1.371e+02 1.374e+02 1.375e+02 1.381e+02 1.382e+02 1.383e+02\n 1.387e+02 1.388e+02 1.389e+02 1.393e+02 1.397e+02 1.399e+02 1.405e+02\n 1.406e+02 1.408e+02 1.411e+02 1.414e+02 1.423e+02 1.428e+02 1.432e+02\n 1.446e+02 1.447e+02 1.448e+02 1.450e+02 1.455e+02 1.465e+02 1.468e+02\n 1.470e+02 1.472e+02 1.483e+02 1.484e+02 1.485e+02 1.487e+02 1.489e+02\n 1.490e+02 1.491e+02 1.494e+02 1.497e+02 1.498e+02 1.503e+02 1.505e+02\n 1.507e+02 1.510e+02 1.516e+02 1.518e+02 1.520e+02 1.522e+02 1.525e+02\n 1.532e+02 1.538e+02 1.539e+02 1.542e+02 1.545e+02 1.549e+02 1.551e+02\n 1.556e+02 1.557e+02 1.562e+02 1.567e+02 1.573e+02 1.600e+02 1.616e+02\n 1.617e+02 1.618e+02 1.627e+02 1.632e+02 1.641e+02 1.654e+02 1.655e+02\n 1.667e+02 1.671e+02 1.675e+02 1.679e+02 1.681e+02 1.682e+02 1.683e+02\n 1.684e+02 1.685e+02 1.701e+02 1.712e+02 1.722e+02 1.723e+02 1.729e+02\n 1.734e+02 1.735e+02 1.742e+02 1.748e+02 1.749e+02 1.751e+02 1.753e+02\n 1.760e+02 1.762e+02 1.771e+02 1.779e+02 1.787e+02 1.789e+02 1.795e+02\n 1.796e+02 1.798e+02 1.802e+02 1.813e+02 1.835e+02 1.840e+02 1.849e+02\n 1.850e+02 1.852e+02 1.859e+02 1.863e+02 1.865e+02 1.866e+02 1.868e+02\n 1.874e+02 1.881e+02 1.883e+02 1.885e+02 1.886e+02 1.887e+02 1.891e+02\n 1.893e+02 1.894e+02 1.899e+02 1.905e+02 1.915e+02 1.916e+02 1.917e+02\n 1.918e+02 1.925e+02 1.928e+02 1.933e+02 1.938e+02 1.951e+02 1.962e+02\n 1.966e+02 1.971e+02 1.975e+02 1.981e+02 1.992e+02 1.995e+02 2.005e+02\n 2.012e+02 2.024e+02 2.034e+02 2.037e+02 2.044e+02 2.045e+02 2.047e+02\n 2.055e+02 2.057e+02 2.062e+02 2.064e+02 2.066e+02 2.077e+02 2.079e+02\n 2.082e+02 2.096e+02 2.097e+02 2.100e+02 2.101e+02 2.110e+02 2.111e+02\n 2.113e+02 2.149e+02 2.153e+02 2.159e+02 2.163e+02 2.167e+02 2.168e+02\n 2.170e+02 2.176e+02 2.178e+02 2.194e+02 2.213e+02 2.240e+02 2.246e+02\n 2.248e+02 2.250e+02 2.257e+02 2.266e+02 2.267e+02 2.280e+02 2.281e+02\n 2.297e+02 2.315e+02 2.325e+02 2.326e+02 2.327e+02 2.332e+02 2.343e+02\n 2.345e+02 2.350e+02 2.362e+02 2.365e+02 2.366e+02 2.376e+02 2.386e+02\n 2.389e+02 2.408e+02 2.412e+02 2.416e+02 2.426e+02 2.431e+02 2.452e+02\n 2.468e+02 2.475e+02 2.479e+02 2.484e+02 2.489e+02 2.491e+02 2.513e+02\n 2.517e+02 2.528e+02 2.539e+02 2.541e+02 2.543e+02 2.546e+02 2.556e+02\n 2.559e+02 2.563e+02 2.575e+02 2.609e+02 2.619e+02 2.625e+02 2.629e+02\n 2.636e+02 2.643e+02 2.650e+02 2.688e+02 2.698e+02 2.719e+02 2.756e+02\n 2.760e+02 2.800e+02 2.818e+02 2.830e+02 2.841e+02 2.863e+02 2.877e+02\n 2.896e+02 2.985e+02 2.998e+02 3.054e+02 3.074e+02 3.097e+02 3.104e+02\n 3.247e+02 3.335e+02 3.364e+02 3.504e+02 3.685e+02 4.609e+02]",
     "output_type": "error",
     "traceback": [
      "\u001b[1;31m---------------------------------------------------------------------------\u001b[0m",
      "\u001b[1;31mValueError\u001b[0m                                Traceback (most recent call last)",
      "Cell \u001b[1;32mIn[37], line 1\u001b[0m\n\u001b[1;32m----> 1\u001b[0m \u001b[43mxgbc\u001b[49m\u001b[38;5;241;43m.\u001b[39;49m\u001b[43mfit\u001b[49m\u001b[43m(\u001b[49m\u001b[43mx_train\u001b[49m\u001b[43m,\u001b[49m\u001b[43m \u001b[49m\u001b[43my_train\u001b[49m\u001b[43m)\u001b[49m\n",
      "File \u001b[1;32m~\\anaconda3\\envs\\three-nine\\lib\\site-packages\\xgboost\\core.py:620\u001b[0m, in \u001b[0;36mrequire_keyword_args.<locals>.throw_if.<locals>.inner_f\u001b[1;34m(*args, **kwargs)\u001b[0m\n\u001b[0;32m    618\u001b[0m \u001b[38;5;28;01mfor\u001b[39;00m k, arg \u001b[38;5;129;01min\u001b[39;00m \u001b[38;5;28mzip\u001b[39m(sig\u001b[38;5;241m.\u001b[39mparameters, args):\n\u001b[0;32m    619\u001b[0m     kwargs[k] \u001b[38;5;241m=\u001b[39m arg\n\u001b[1;32m--> 620\u001b[0m \u001b[38;5;28;01mreturn\u001b[39;00m func(\u001b[38;5;241m*\u001b[39m\u001b[38;5;241m*\u001b[39mkwargs)\n",
      "File \u001b[1;32m~\\anaconda3\\envs\\three-nine\\lib\\site-packages\\xgboost\\sklearn.py:1440\u001b[0m, in \u001b[0;36mXGBClassifier.fit\u001b[1;34m(self, X, y, sample_weight, base_margin, eval_set, eval_metric, early_stopping_rounds, verbose, xgb_model, sample_weight_eval_set, base_margin_eval_set, feature_weights, callbacks)\u001b[0m\n\u001b[0;32m   1435\u001b[0m     expected_classes \u001b[38;5;241m=\u001b[39m np\u001b[38;5;241m.\u001b[39marange(\u001b[38;5;28mself\u001b[39m\u001b[38;5;241m.\u001b[39mn_classes_)\n\u001b[0;32m   1436\u001b[0m \u001b[38;5;28;01mif\u001b[39;00m (\n\u001b[0;32m   1437\u001b[0m     \u001b[38;5;28mself\u001b[39m\u001b[38;5;241m.\u001b[39mclasses_\u001b[38;5;241m.\u001b[39mshape \u001b[38;5;241m!=\u001b[39m expected_classes\u001b[38;5;241m.\u001b[39mshape\n\u001b[0;32m   1438\u001b[0m     \u001b[38;5;129;01mor\u001b[39;00m \u001b[38;5;129;01mnot\u001b[39;00m (\u001b[38;5;28mself\u001b[39m\u001b[38;5;241m.\u001b[39mclasses_ \u001b[38;5;241m==\u001b[39m expected_classes)\u001b[38;5;241m.\u001b[39mall()\n\u001b[0;32m   1439\u001b[0m ):\n\u001b[1;32m-> 1440\u001b[0m     \u001b[38;5;28;01mraise\u001b[39;00m \u001b[38;5;167;01mValueError\u001b[39;00m(\n\u001b[0;32m   1441\u001b[0m         \u001b[38;5;124mf\u001b[39m\u001b[38;5;124m\"\u001b[39m\u001b[38;5;124mInvalid classes inferred from unique values of `y`.  \u001b[39m\u001b[38;5;124m\"\u001b[39m\n\u001b[0;32m   1442\u001b[0m         \u001b[38;5;124mf\u001b[39m\u001b[38;5;124m\"\u001b[39m\u001b[38;5;124mExpected: \u001b[39m\u001b[38;5;132;01m{\u001b[39;00mexpected_classes\u001b[38;5;132;01m}\u001b[39;00m\u001b[38;5;124m, got \u001b[39m\u001b[38;5;132;01m{\u001b[39;00m\u001b[38;5;28mself\u001b[39m\u001b[38;5;241m.\u001b[39mclasses_\u001b[38;5;132;01m}\u001b[39;00m\u001b[38;5;124m\"\u001b[39m\n\u001b[0;32m   1443\u001b[0m     )\n\u001b[0;32m   1445\u001b[0m params \u001b[38;5;241m=\u001b[39m \u001b[38;5;28mself\u001b[39m\u001b[38;5;241m.\u001b[39mget_xgb_params()\n\u001b[0;32m   1447\u001b[0m \u001b[38;5;28;01mif\u001b[39;00m \u001b[38;5;28mcallable\u001b[39m(\u001b[38;5;28mself\u001b[39m\u001b[38;5;241m.\u001b[39mobjective):\n",
      "\u001b[1;31mValueError\u001b[0m: Invalid classes inferred from unique values of `y`.  Expected: [  0   1   2   3   4   5   6   7   8   9  10  11  12  13  14  15  16  17\n  18  19  20  21  22  23  24  25  26  27  28  29  30  31  32  33  34  35\n  36  37  38  39  40  41  42  43  44  45  46  47  48  49  50  51  52  53\n  54  55  56  57  58  59  60  61  62  63  64  65  66  67  68  69  70  71\n  72  73  74  75  76  77  78  79  80  81  82  83  84  85  86  87  88  89\n  90  91  92  93  94  95  96  97  98  99 100 101 102 103 104 105 106 107\n 108 109 110 111 112 113 114 115 116 117 118 119 120 121 122 123 124 125\n 126 127 128 129 130 131 132 133 134 135 136 137 138 139 140 141 142 143\n 144 145 146 147 148 149 150 151 152 153 154 155 156 157 158 159 160 161\n 162 163 164 165 166 167 168 169 170 171 172 173 174 175 176 177 178 179\n 180 181 182 183 184 185 186 187 188 189 190 191 192 193 194 195 196 197\n 198 199 200 201 202 203 204 205 206 207 208 209 210 211 212 213 214 215\n 216 217 218 219 220 221 222 223 224 225 226 227 228 229 230 231 232 233\n 234 235 236 237 238 239 240 241 242 243 244 245 246 247 248 249 250 251\n 252 253 254 255 256 257 258 259 260 261 262 263 264 265 266 267 268 269\n 270 271 272 273 274 275 276 277 278 279 280 281 282 283 284 285 286 287\n 288 289 290 291 292 293 294 295 296 297 298 299 300 301 302 303 304 305\n 306 307 308 309 310 311 312 313 314 315 316 317 318 319 320 321 322 323\n 324 325 326 327 328 329 330 331 332 333 334 335 336 337 338 339 340 341\n 342 343 344 345 346 347 348 349 350 351 352 353 354 355 356 357 358 359\n 360 361 362 363 364 365 366 367 368 369 370 371 372 373 374 375 376 377\n 378 379 380 381 382 383 384 385 386 387 388 389 390 391 392 393 394 395\n 396 397 398 399 400 401 402 403 404 405 406 407 408 409 410 411 412 413\n 414 415 416 417 418 419 420 421 422 423 424 425 426 427 428 429 430 431\n 432 433 434 435 436 437 438 439 440 441 442 443 444 445 446 447 448 449\n 450 451 452 453 454 455 456 457 458 459 460 461 462 463 464 465 466 467\n 468 469 470 471 472 473 474 475 476 477 478 479 480 481 482 483 484 485\n 486 487 488 489 490 491 492 493 494 495 496 497 498 499 500 501 502 503\n 504 505 506 507 508 509 510 511 512 513 514 515 516 517 518 519 520 521\n 522 523 524 525 526 527 528 529 530 531 532 533 534 535 536 537 538 539\n 540 541 542 543 544 545 546 547 548 549 550 551 552 553 554 555 556 557\n 558 559 560 561 562 563 564 565 566 567 568 569 570 571 572 573 574 575\n 576 577 578 579 580 581 582 583 584 585 586 587 588 589 590 591 592 593\n 594 595 596 597 598 599 600 601 602 603 604 605 606 607 608 609 610 611\n 612 613 614 615 616 617 618 619 620 621 622 623 624 625 626 627 628 629\n 630 631 632 633 634 635 636 637 638 639 640 641 642 643 644 645 646 647\n 648 649 650 651 652 653 654 655 656 657 658 659 660 661 662 663 664 665\n 666 667 668 669 670 671 672 673 674 675 676 677 678 679 680 681 682 683\n 684 685 686 687 688 689 690 691 692 693 694 695 696 697 698 699 700 701\n 702 703 704 705 706 707 708 709 710 711 712 713 714 715 716 717 718 719\n 720 721 722 723 724 725 726], got [0.000e+00 1.000e-01 2.000e-01 3.000e-01 4.000e-01 5.000e-01 6.000e-01\n 7.000e-01 8.000e-01 9.000e-01 1.000e+00 1.100e+00 1.200e+00 1.300e+00\n 1.400e+00 1.500e+00 1.700e+00 1.800e+00 1.900e+00 2.000e+00 2.100e+00\n 2.200e+00 2.300e+00 2.400e+00 2.500e+00 2.600e+00 2.700e+00 2.800e+00\n 2.900e+00 3.000e+00 3.100e+00 3.200e+00 3.400e+00 3.500e+00 3.600e+00\n 3.800e+00 3.900e+00 4.000e+00 4.100e+00 4.200e+00 4.300e+00 4.400e+00\n 4.500e+00 4.600e+00 4.700e+00 4.800e+00 4.900e+00 5.000e+00 5.200e+00\n 5.300e+00 5.400e+00 5.500e+00 5.700e+00 5.800e+00 5.900e+00 6.200e+00\n 6.300e+00 6.500e+00 6.600e+00 6.700e+00 6.800e+00 6.900e+00 7.100e+00\n 7.200e+00 7.300e+00 7.400e+00 7.500e+00 7.600e+00 7.900e+00 8.000e+00\n 8.100e+00 8.300e+00 8.400e+00 8.700e+00 8.900e+00 9.000e+00 9.100e+00\n 9.200e+00 9.400e+00 9.600e+00 9.700e+00 9.800e+00 1.000e+01 1.030e+01\n 1.040e+01 1.050e+01 1.070e+01 1.090e+01 1.110e+01 1.120e+01 1.140e+01\n 1.150e+01 1.160e+01 1.170e+01 1.190e+01 1.210e+01 1.230e+01 1.240e+01\n 1.250e+01 1.270e+01 1.280e+01 1.300e+01 1.310e+01 1.330e+01 1.370e+01\n 1.380e+01 1.390e+01 1.410e+01 1.420e+01 1.430e+01 1.460e+01 1.480e+01\n 1.520e+01 1.550e+01 1.570e+01 1.580e+01 1.590e+01 1.600e+01 1.640e+01\n 1.740e+01 1.760e+01 1.770e+01 1.810e+01 1.830e+01 1.840e+01 1.860e+01\n 1.920e+01 1.940e+01 1.950e+01 1.960e+01 1.980e+01 1.990e+01 2.010e+01\n 2.060e+01 2.090e+01 2.110e+01 2.170e+01 2.180e+01 2.230e+01 2.240e+01\n 2.300e+01 2.340e+01 2.370e+01 2.390e+01 2.400e+01 2.410e+01 2.440e+01\n 2.460e+01 2.470e+01 2.480e+01 2.490e+01 2.500e+01 2.540e+01 2.550e+01\n 2.570e+01 2.580e+01 2.600e+01 2.620e+01 2.630e+01 2.650e+01 2.670e+01\n 2.690e+01 2.700e+01 2.720e+01 2.770e+01 2.840e+01 2.860e+01 2.880e+01\n 2.890e+01 2.930e+01 3.010e+01 3.040e+01 3.060e+01 3.080e+01 3.130e+01\n 3.160e+01 3.180e+01 3.190e+01 3.210e+01 3.230e+01 3.270e+01 3.280e+01\n 3.310e+01 3.330e+01 3.360e+01 3.370e+01 3.440e+01 3.450e+01 3.470e+01\n 3.540e+01 3.580e+01 3.640e+01 3.700e+01 3.750e+01 3.780e+01 3.790e+01\n 3.850e+01 3.870e+01 3.890e+01 3.900e+01 3.980e+01 4.000e+01 4.010e+01\n 4.070e+01 4.090e+01 4.150e+01 4.170e+01 4.200e+01 4.210e+01 4.220e+01\n 4.240e+01 4.290e+01 4.310e+01 4.340e+01 4.350e+01 4.380e+01 4.390e+01\n 4.430e+01 4.440e+01 4.460e+01 4.470e+01 4.500e+01 4.560e+01 4.570e+01\n 4.580e+01 4.610e+01 4.650e+01 4.660e+01 4.700e+01 4.720e+01 4.750e+01\n 4.820e+01 4.830e+01 4.870e+01 4.900e+01 4.950e+01 4.960e+01 4.980e+01\n 5.080e+01 5.100e+01 5.120e+01 5.140e+01 5.160e+01 5.170e+01 5.260e+01\n 5.280e+01 5.340e+01 5.460e+01 5.490e+01 5.500e+01 5.540e+01 5.570e+01\n 5.670e+01 5.690e+01 5.760e+01 5.780e+01 5.840e+01 5.860e+01 5.900e+01\n 5.930e+01 5.960e+01 6.000e+01 6.010e+01 6.020e+01 6.090e+01 6.110e+01\n 6.130e+01 6.170e+01 6.220e+01 6.250e+01 6.260e+01 6.330e+01 6.400e+01\n 6.410e+01 6.420e+01 6.530e+01 6.590e+01 6.610e+01 6.670e+01 6.690e+01\n 6.740e+01 6.750e+01 6.800e+01 6.850e+01 6.940e+01 6.960e+01 7.010e+01\n 7.050e+01 7.070e+01 7.090e+01 7.100e+01 7.140e+01 7.160e+01 7.240e+01\n 7.250e+01 7.260e+01 7.320e+01 7.380e+01 7.470e+01 7.490e+01 7.540e+01\n 7.630e+01 7.650e+01 7.670e+01 7.680e+01 7.700e+01 7.710e+01 7.750e+01\n 7.780e+01 7.790e+01 7.800e+01 7.810e+01 7.840e+01 7.890e+01 7.960e+01\n 7.990e+01 8.020e+01 8.050e+01 8.100e+01 8.130e+01 8.140e+01 8.150e+01\n 8.160e+01 8.180e+01 8.190e+01 8.210e+01 8.230e+01 8.240e+01 8.260e+01\n 8.350e+01 8.400e+01 8.430e+01 8.460e+01 8.470e+01 8.490e+01 8.520e+01\n 8.550e+01 8.690e+01 8.800e+01 8.840e+01 8.850e+01 8.880e+01 8.890e+01\n 8.950e+01 8.960e+01 8.970e+01 8.980e+01 9.060e+01 9.080e+01 9.090e+01\n 9.100e+01 9.120e+01 9.170e+01 9.210e+01 9.220e+01 9.260e+01 9.300e+01\n 9.340e+01 9.490e+01 9.560e+01 9.600e+01 9.620e+01 9.640e+01 9.760e+01\n 9.770e+01 9.780e+01 9.800e+01 9.850e+01 9.870e+01 9.900e+01 9.930e+01\n 9.980e+01 1.000e+02 1.005e+02 1.006e+02 1.009e+02 1.013e+02 1.015e+02\n 1.016e+02 1.019e+02 1.021e+02 1.024e+02 1.027e+02 1.037e+02 1.044e+02\n 1.045e+02 1.052e+02 1.053e+02 1.060e+02 1.061e+02 1.065e+02 1.068e+02\n 1.071e+02 1.078e+02 1.079e+02 1.080e+02 1.084e+02 1.085e+02 1.086e+02\n 1.087e+02 1.089e+02 1.090e+02 1.092e+02 1.095e+02 1.096e+02 1.099e+02\n 1.101e+02 1.112e+02 1.116e+02 1.120e+02 1.128e+02 1.129e+02 1.130e+02\n 1.135e+02 1.139e+02 1.143e+02 1.149e+02 1.151e+02 1.153e+02 1.158e+02\n 1.165e+02 1.168e+02 1.171e+02 1.175e+02 1.177e+02 1.180e+02 1.181e+02\n 1.182e+02 1.185e+02 1.201e+02 1.204e+02 1.215e+02 1.217e+02 1.219e+02\n 1.222e+02 1.223e+02 1.224e+02 1.227e+02 1.231e+02 1.232e+02 1.235e+02\n 1.238e+02 1.245e+02 1.249e+02 1.251e+02 1.253e+02 1.257e+02 1.269e+02\n 1.272e+02 1.281e+02 1.285e+02 1.290e+02 1.291e+02 1.295e+02 1.296e+02\n 1.298e+02 1.301e+02 1.305e+02 1.312e+02 1.319e+02 1.326e+02 1.328e+02\n 1.329e+02 1.330e+02 1.336e+02 1.337e+02 1.344e+02 1.345e+02 1.350e+02\n 1.351e+02 1.352e+02 1.356e+02 1.357e+02 1.359e+02 1.363e+02 1.366e+02\n 1.368e+02 1.371e+02 1.374e+02 1.375e+02 1.381e+02 1.382e+02 1.383e+02\n 1.387e+02 1.388e+02 1.389e+02 1.393e+02 1.397e+02 1.399e+02 1.405e+02\n 1.406e+02 1.408e+02 1.411e+02 1.414e+02 1.423e+02 1.428e+02 1.432e+02\n 1.446e+02 1.447e+02 1.448e+02 1.450e+02 1.455e+02 1.465e+02 1.468e+02\n 1.470e+02 1.472e+02 1.483e+02 1.484e+02 1.485e+02 1.487e+02 1.489e+02\n 1.490e+02 1.491e+02 1.494e+02 1.497e+02 1.498e+02 1.503e+02 1.505e+02\n 1.507e+02 1.510e+02 1.516e+02 1.518e+02 1.520e+02 1.522e+02 1.525e+02\n 1.532e+02 1.538e+02 1.539e+02 1.542e+02 1.545e+02 1.549e+02 1.551e+02\n 1.556e+02 1.557e+02 1.562e+02 1.567e+02 1.573e+02 1.600e+02 1.616e+02\n 1.617e+02 1.618e+02 1.627e+02 1.632e+02 1.641e+02 1.654e+02 1.655e+02\n 1.667e+02 1.671e+02 1.675e+02 1.679e+02 1.681e+02 1.682e+02 1.683e+02\n 1.684e+02 1.685e+02 1.701e+02 1.712e+02 1.722e+02 1.723e+02 1.729e+02\n 1.734e+02 1.735e+02 1.742e+02 1.748e+02 1.749e+02 1.751e+02 1.753e+02\n 1.760e+02 1.762e+02 1.771e+02 1.779e+02 1.787e+02 1.789e+02 1.795e+02\n 1.796e+02 1.798e+02 1.802e+02 1.813e+02 1.835e+02 1.840e+02 1.849e+02\n 1.850e+02 1.852e+02 1.859e+02 1.863e+02 1.865e+02 1.866e+02 1.868e+02\n 1.874e+02 1.881e+02 1.883e+02 1.885e+02 1.886e+02 1.887e+02 1.891e+02\n 1.893e+02 1.894e+02 1.899e+02 1.905e+02 1.915e+02 1.916e+02 1.917e+02\n 1.918e+02 1.925e+02 1.928e+02 1.933e+02 1.938e+02 1.951e+02 1.962e+02\n 1.966e+02 1.971e+02 1.975e+02 1.981e+02 1.992e+02 1.995e+02 2.005e+02\n 2.012e+02 2.024e+02 2.034e+02 2.037e+02 2.044e+02 2.045e+02 2.047e+02\n 2.055e+02 2.057e+02 2.062e+02 2.064e+02 2.066e+02 2.077e+02 2.079e+02\n 2.082e+02 2.096e+02 2.097e+02 2.100e+02 2.101e+02 2.110e+02 2.111e+02\n 2.113e+02 2.149e+02 2.153e+02 2.159e+02 2.163e+02 2.167e+02 2.168e+02\n 2.170e+02 2.176e+02 2.178e+02 2.194e+02 2.213e+02 2.240e+02 2.246e+02\n 2.248e+02 2.250e+02 2.257e+02 2.266e+02 2.267e+02 2.280e+02 2.281e+02\n 2.297e+02 2.315e+02 2.325e+02 2.326e+02 2.327e+02 2.332e+02 2.343e+02\n 2.345e+02 2.350e+02 2.362e+02 2.365e+02 2.366e+02 2.376e+02 2.386e+02\n 2.389e+02 2.408e+02 2.412e+02 2.416e+02 2.426e+02 2.431e+02 2.452e+02\n 2.468e+02 2.475e+02 2.479e+02 2.484e+02 2.489e+02 2.491e+02 2.513e+02\n 2.517e+02 2.528e+02 2.539e+02 2.541e+02 2.543e+02 2.546e+02 2.556e+02\n 2.559e+02 2.563e+02 2.575e+02 2.609e+02 2.619e+02 2.625e+02 2.629e+02\n 2.636e+02 2.643e+02 2.650e+02 2.688e+02 2.698e+02 2.719e+02 2.756e+02\n 2.760e+02 2.800e+02 2.818e+02 2.830e+02 2.841e+02 2.863e+02 2.877e+02\n 2.896e+02 2.985e+02 2.998e+02 3.054e+02 3.074e+02 3.097e+02 3.104e+02\n 3.247e+02 3.335e+02 3.364e+02 3.504e+02 3.685e+02 4.609e+02]"
     ]
    }
   ],
   "source": [
    "xgbc.fit(x_train, y_train)"
   ]
  },
  {
   "cell_type": "code",
   "execution_count": null,
   "id": "a81cbfb7",
   "metadata": {},
   "outputs": [],
   "source": [
    "score = xgbc.score(x_test, y_test)  \n",
    "print(\"Training score: \", score)"
   ]
  },
  {
   "cell_type": "code",
   "execution_count": null,
   "id": "4819e032",
   "metadata": {},
   "outputs": [],
   "source": [
    "y_pred = xgbc.predict(x_test)\n",
    "y_pred"
   ]
  },
  {
   "cell_type": "code",
   "execution_count": null,
   "id": "a0de362c",
   "metadata": {},
   "outputs": [],
   "source": [
    "from sklearn.metrics import mean_squared_error\n",
    "mean_squared_error(y_test,y_pred)"
   ]
  },
  {
   "cell_type": "code",
   "execution_count": null,
   "id": "61412b60",
   "metadata": {},
   "outputs": [],
   "source": [
    "np.sqrt(mean_squared_error(y_test,y_pred))"
   ]
  },
  {
   "cell_type": "code",
   "execution_count": null,
   "id": "3a0d9884",
   "metadata": {},
   "outputs": [],
   "source": [
    "# visualize confusion matrix with seaborn heatmap\n",
    "from sklearn.metrics import confusion_matrix\n",
    "\n",
    "cm = confusion_matrix(y_test, y_pred)\n",
    "\n",
    "print('Confusion matrix\\n\\n', cm)\n",
    "\n",
    "cm_matrix = pd.DataFrame(data=cm, columns=['Actual Positive:1', 'Actual Negative:0'], \n",
    "                                 index=['Predict Positive:1', 'Predict Negative:0'])\n",
    "\n",
    "f, ax=plt.subplots(figsize=(5,5))\n",
    "sns.heatmap(cm_matrix, annot=True, cmap='YlGnBu',square=True, ax=ax, annot_kws={\"fontsize\":16})"
   ]
  },
  {
   "cell_type": "code",
   "execution_count": null,
   "id": "0d297ef3",
   "metadata": {},
   "outputs": [],
   "source": [
    "xgb.plot_importance(xgbc.fit(x_train,y_train))\n",
    "\n",
    "# Feature Importance refers to techniques that calculate a score for all the input features for a given model — the scores simply represent the “importance” of each feature. A higher score means that the specific feature will have a larger effect on the model that is being used to predict a certain variable."
   ]
  },
  {
   "cell_type": "code",
   "execution_count": null,
   "id": "8b85e690",
   "metadata": {
    "scrolled": true
   },
   "outputs": [],
   "source": [
    "df.head()"
   ]
  },
  {
   "cell_type": "code",
   "execution_count": null,
   "id": "89e40518",
   "metadata": {},
   "outputs": [],
   "source": [
    "xgbc.predict([[46,0,13,2,70000,2,2,1,1]])"
   ]
  },
  {
   "cell_type": "code",
   "execution_count": null,
   "id": "816d5b79",
   "metadata": {},
   "outputs": [],
   "source": [
    "import pickle\n",
    "pickle.dump(clf, open('model.pkl','wb'))"
   ]
  },
  {
   "cell_type": "code",
   "execution_count": null,
   "id": "54da9e64",
   "metadata": {},
   "outputs": [],
   "source": [
    "model = pickle.load(open('model.pkl','rb'))\n",
    "print(clf.predict([[1,1,1,1,1,1,1,1,1]]))"
   ]
  }
 ],
 "metadata": {
  "kernelspec": {
   "display_name": "Python 3 (ipykernel)",
   "language": "python",
   "name": "python3"
  },
  "language_info": {
   "codemirror_mode": {
    "name": "ipython",
    "version": 3
   },
   "file_extension": ".py",
   "mimetype": "text/x-python",
   "name": "python",
   "nbconvert_exporter": "python",
   "pygments_lexer": "ipython3",
   "version": "3.9.17"
  }
 },
 "nbformat": 4,
 "nbformat_minor": 5
}
