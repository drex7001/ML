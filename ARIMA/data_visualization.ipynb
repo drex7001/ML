{
 "cells": [
  {
   "cell_type": "code",
   "execution_count": 9,
   "id": "9809830f",
   "metadata": {},
   "outputs": [],
   "source": [
    "import pandas_datareader as pdr\n",
    "import pandas as pd\n",
    "from datetime import datetime"
   ]
  },
  {
   "cell_type": "code",
   "execution_count": 21,
   "id": "3e6ac91d",
   "metadata": {},
   "outputs": [],
   "source": [
    "# import yfinance as yf\n",
    "# yf.pdr_override()\n",
    "# data = pdr.get_data_yahoo(\"SPY\",start=\"2007-01-01\",end=\"2007-12-31\")"
   ]
  },
  {
   "cell_type": "code",
   "execution_count": 32,
   "id": "80d55401",
   "metadata": {},
   "outputs": [
    {
     "name": "stdout",
     "output_type": "stream",
     "text": [
      "[*********************100%***********************]  1 of 1 completed\n"
     ]
    }
   ],
   "source": [
    "import yfinance as yf\n",
    "\n",
    "# Define the stock symbol and the date range\n",
    "symbol = 'TSLA'\n",
    "start_date = '2017-01-01'\n",
    "end_date = '2023-08-12'\n",
    "\n",
    "# Fetch the stock data\n",
    "data = yf.download(symbol, start=start_date, end=end_date)"
   ]
  },
  {
   "cell_type": "code",
   "execution_count": 34,
   "id": "4b410c29",
   "metadata": {},
   "outputs": [
    {
     "data": {
      "text/html": [
       "<div>\n",
       "<style scoped>\n",
       "    .dataframe tbody tr th:only-of-type {\n",
       "        vertical-align: middle;\n",
       "    }\n",
       "\n",
       "    .dataframe tbody tr th {\n",
       "        vertical-align: top;\n",
       "    }\n",
       "\n",
       "    .dataframe thead th {\n",
       "        text-align: right;\n",
       "    }\n",
       "</style>\n",
       "<table border=\"1\" class=\"dataframe\">\n",
       "  <thead>\n",
       "    <tr style=\"text-align: right;\">\n",
       "      <th></th>\n",
       "      <th>Open</th>\n",
       "      <th>High</th>\n",
       "      <th>Low</th>\n",
       "      <th>Close</th>\n",
       "      <th>Adj Close</th>\n",
       "      <th>Volume</th>\n",
       "    </tr>\n",
       "    <tr>\n",
       "      <th>Date</th>\n",
       "      <th></th>\n",
       "      <th></th>\n",
       "      <th></th>\n",
       "      <th></th>\n",
       "      <th></th>\n",
       "      <th></th>\n",
       "    </tr>\n",
       "  </thead>\n",
       "  <tbody>\n",
       "    <tr>\n",
       "      <th>2023-08-07</th>\n",
       "      <td>251.449997</td>\n",
       "      <td>253.649994</td>\n",
       "      <td>242.759995</td>\n",
       "      <td>251.449997</td>\n",
       "      <td>251.449997</td>\n",
       "      <td>111097900</td>\n",
       "    </tr>\n",
       "    <tr>\n",
       "      <th>2023-08-08</th>\n",
       "      <td>247.449997</td>\n",
       "      <td>250.919998</td>\n",
       "      <td>245.009995</td>\n",
       "      <td>249.699997</td>\n",
       "      <td>249.699997</td>\n",
       "      <td>96642200</td>\n",
       "    </tr>\n",
       "    <tr>\n",
       "      <th>2023-08-09</th>\n",
       "      <td>250.869995</td>\n",
       "      <td>251.100006</td>\n",
       "      <td>241.899994</td>\n",
       "      <td>242.190002</td>\n",
       "      <td>242.190002</td>\n",
       "      <td>101596300</td>\n",
       "    </tr>\n",
       "    <tr>\n",
       "      <th>2023-08-10</th>\n",
       "      <td>245.399994</td>\n",
       "      <td>251.800003</td>\n",
       "      <td>243.000000</td>\n",
       "      <td>245.339996</td>\n",
       "      <td>245.339996</td>\n",
       "      <td>109498600</td>\n",
       "    </tr>\n",
       "    <tr>\n",
       "      <th>2023-08-11</th>\n",
       "      <td>241.770004</td>\n",
       "      <td>243.789993</td>\n",
       "      <td>238.020004</td>\n",
       "      <td>242.649994</td>\n",
       "      <td>242.649994</td>\n",
       "      <td>98866600</td>\n",
       "    </tr>\n",
       "  </tbody>\n",
       "</table>\n",
       "</div>"
      ],
      "text/plain": [
       "                  Open        High         Low       Close   Adj Close  \\\n",
       "Date                                                                     \n",
       "2023-08-07  251.449997  253.649994  242.759995  251.449997  251.449997   \n",
       "2023-08-08  247.449997  250.919998  245.009995  249.699997  249.699997   \n",
       "2023-08-09  250.869995  251.100006  241.899994  242.190002  242.190002   \n",
       "2023-08-10  245.399994  251.800003  243.000000  245.339996  245.339996   \n",
       "2023-08-11  241.770004  243.789993  238.020004  242.649994  242.649994   \n",
       "\n",
       "               Volume  \n",
       "Date                   \n",
       "2023-08-07  111097900  \n",
       "2023-08-08   96642200  \n",
       "2023-08-09  101596300  \n",
       "2023-08-10  109498600  \n",
       "2023-08-11   98866600  "
      ]
     },
     "execution_count": 34,
     "metadata": {},
     "output_type": "execute_result"
    }
   ],
   "source": [
    "data.tail()"
   ]
  },
  {
   "cell_type": "code",
   "execution_count": null,
   "id": "9d9f2339",
   "metadata": {},
   "outputs": [],
   "source": []
  }
 ],
 "metadata": {
  "kernelspec": {
   "display_name": "Python 3 (ipykernel)",
   "language": "python",
   "name": "python3"
  },
  "language_info": {
   "codemirror_mode": {
    "name": "ipython",
    "version": 3
   },
   "file_extension": ".py",
   "mimetype": "text/x-python",
   "name": "python",
   "nbconvert_exporter": "python",
   "pygments_lexer": "ipython3",
   "version": "3.9.7"
  }
 },
 "nbformat": 4,
 "nbformat_minor": 5
}
