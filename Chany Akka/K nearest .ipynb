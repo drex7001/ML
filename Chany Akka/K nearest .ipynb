{
 "cells": [
  {
   "cell_type": "code",
   "execution_count": 68,
   "id": "1a32b301",
   "metadata": {},
   "outputs": [],
   "source": [
    "import pandas as pd\n",
    "from sklearn.model_selection import train_test_split\n",
    "from sklearn.neighbors import KNeighborsClassifier\n",
    "from sklearn.metrics import accuracy_score\n",
    "from sklearn.preprocessing import OneHotEncoder, LabelEncoder"
   ]
  },
  {
   "cell_type": "code",
   "execution_count": 69,
   "id": "1c9bd403",
   "metadata": {},
   "outputs": [],
   "source": [
    "# Load the dataset\n",
    "df = pd.read_csv(\"sample_dataset.csv\")"
   ]
  },
  {
   "cell_type": "code",
   "execution_count": 70,
   "id": "0ab833f9",
   "metadata": {},
   "outputs": [],
   "source": [
    "# Split the dataset into features (independent variables) and label (dependent variable)\n",
    "# X = df.drop(columns=['Degree Program'])\n",
    "# y = df['Degree Program']"
   ]
  },
  {
   "cell_type": "code",
   "execution_count": 71,
   "id": "28b93edb",
   "metadata": {},
   "outputs": [],
   "source": [
    "# One-hot encode the categorical variables\n",
    "# encoder = OneHotEncoder()\n",
    "# X_encoded = pd.DataFrame(encoder.fit_transform(X[['Gender', 'A/L Stream', 'Location']]).toarray(), columns=encoder.get_feature_names(['Gender', 'A/L Stream', 'Location']))\n",
    "# X = X.drop(columns=['Gender', 'A/L Stream', 'Location'])\n",
    "# X = pd.concat([X, X_encoded], axis=1)\n",
    "\n",
    "# # Encode the 'Degree Program' column to numeric format\n",
    "# label_encoder = LabelEncoder()\n",
    "# y = label_encoder.fit_transform(y)\n"
   ]
  },
  {
   "cell_type": "code",
   "execution_count": 72,
   "id": "579bfce8",
   "metadata": {},
   "outputs": [
    {
     "data": {
      "text/html": [
       "<div>\n",
       "<style scoped>\n",
       "    .dataframe tbody tr th:only-of-type {\n",
       "        vertical-align: middle;\n",
       "    }\n",
       "\n",
       "    .dataframe tbody tr th {\n",
       "        vertical-align: top;\n",
       "    }\n",
       "\n",
       "    .dataframe thead th {\n",
       "        text-align: right;\n",
       "    }\n",
       "</style>\n",
       "<table border=\"1\" class=\"dataframe\">\n",
       "  <thead>\n",
       "    <tr style=\"text-align: right;\">\n",
       "      <th></th>\n",
       "      <th>Age</th>\n",
       "      <th>Gender</th>\n",
       "      <th>A/L Stream</th>\n",
       "      <th>Career Aspirations</th>\n",
       "      <th>Personal Interests</th>\n",
       "      <th>Location</th>\n",
       "      <th>Financial Resources</th>\n",
       "      <th>Family Background</th>\n",
       "      <th>Extracurricular Activities</th>\n",
       "      <th>Degree Program</th>\n",
       "    </tr>\n",
       "  </thead>\n",
       "  <tbody>\n",
       "    <tr>\n",
       "      <th>0</th>\n",
       "      <td>1</td>\n",
       "      <td>0</td>\n",
       "      <td>3</td>\n",
       "      <td>3</td>\n",
       "      <td>4</td>\n",
       "      <td>0</td>\n",
       "      <td>2</td>\n",
       "      <td>1</td>\n",
       "      <td>4</td>\n",
       "      <td>6</td>\n",
       "    </tr>\n",
       "    <tr>\n",
       "      <th>1</th>\n",
       "      <td>4</td>\n",
       "      <td>1</td>\n",
       "      <td>1</td>\n",
       "      <td>4</td>\n",
       "      <td>2</td>\n",
       "      <td>3</td>\n",
       "      <td>1</td>\n",
       "      <td>2</td>\n",
       "      <td>2</td>\n",
       "      <td>2</td>\n",
       "    </tr>\n",
       "    <tr>\n",
       "      <th>2</th>\n",
       "      <td>0</td>\n",
       "      <td>1</td>\n",
       "      <td>2</td>\n",
       "      <td>2</td>\n",
       "      <td>3</td>\n",
       "      <td>1</td>\n",
       "      <td>0</td>\n",
       "      <td>0</td>\n",
       "      <td>3</td>\n",
       "      <td>1</td>\n",
       "    </tr>\n",
       "    <tr>\n",
       "      <th>3</th>\n",
       "      <td>2</td>\n",
       "      <td>0</td>\n",
       "      <td>0</td>\n",
       "      <td>1</td>\n",
       "      <td>6</td>\n",
       "      <td>2</td>\n",
       "      <td>1</td>\n",
       "      <td>1</td>\n",
       "      <td>7</td>\n",
       "      <td>5</td>\n",
       "    </tr>\n",
       "    <tr>\n",
       "      <th>4</th>\n",
       "      <td>3</td>\n",
       "      <td>1</td>\n",
       "      <td>1</td>\n",
       "      <td>3</td>\n",
       "      <td>1</td>\n",
       "      <td>0</td>\n",
       "      <td>2</td>\n",
       "      <td>1</td>\n",
       "      <td>0</td>\n",
       "      <td>6</td>\n",
       "    </tr>\n",
       "  </tbody>\n",
       "</table>\n",
       "</div>"
      ],
      "text/plain": [
       "   Age  Gender  A/L Stream  Career Aspirations  Personal Interests  Location  \\\n",
       "0    1       0           3                   3                   4         0   \n",
       "1    4       1           1                   4                   2         3   \n",
       "2    0       1           2                   2                   3         1   \n",
       "3    2       0           0                   1                   6         2   \n",
       "4    3       1           1                   3                   1         0   \n",
       "\n",
       "   Financial Resources  Family Background  Extracurricular Activities  \\\n",
       "0                    2                  1                           4   \n",
       "1                    1                  2                           2   \n",
       "2                    0                  0                           3   \n",
       "3                    1                  1                           7   \n",
       "4                    2                  1                           0   \n",
       "\n",
       "   Degree Program  \n",
       "0               6  \n",
       "1               2  \n",
       "2               1  \n",
       "3               5  \n",
       "4               6  "
      ]
     },
     "execution_count": 72,
     "metadata": {},
     "output_type": "execute_result"
    }
   ],
   "source": [
    "cols = ['Age','Gender','A/L Stream','Career Aspirations','Personal Interests','Location','Financial Resources','Family Background','Extracurricular Activities','Degree Program']\n",
    "df[cols] = df[cols].apply(LabelEncoder().fit_transform)\n",
    "df.head()"
   ]
  },
  {
   "cell_type": "code",
   "execution_count": 73,
   "id": "95ce737e",
   "metadata": {},
   "outputs": [],
   "source": [
    "X = df[['Age','Gender','A/L Stream','Career Aspirations','Personal Interests','Location','Financial Resources','Family Background','Extracurricular Activities']].values\n",
    "\n",
    "\n",
    "y = df['Degree Program'].values"
   ]
  },
  {
   "cell_type": "code",
   "execution_count": 74,
   "id": "a801dd55",
   "metadata": {},
   "outputs": [],
   "source": [
    "# Split the dataset into training and testing sets\n",
    "X_train, X_test, y_train, y_test = train_test_split(X, y, test_size=0.3, random_state=42)"
   ]
  },
  {
   "cell_type": "code",
   "execution_count": 75,
   "id": "9d587f7a",
   "metadata": {},
   "outputs": [
    {
     "data": {
      "text/plain": [
       "array([[4, 0, 0, 5, 5, 2, 1, 2, 5],\n",
       "       [0, 1, 2, 2, 3, 1, 0, 0, 3],\n",
       "       [3, 1, 1, 3, 1, 0, 2, 1, 0],\n",
       "       [2, 0, 0, 1, 6, 2, 1, 1, 7],\n",
       "       [0, 1, 2, 0, 0, 1, 0, 0, 1]], dtype=int64)"
      ]
     },
     "execution_count": 75,
     "metadata": {},
     "output_type": "execute_result"
    }
   ],
   "source": [
    "X_train"
   ]
  },
  {
   "cell_type": "code",
   "execution_count": null,
   "id": "596f9ec4",
   "metadata": {},
   "outputs": [],
   "source": []
  },
  {
   "cell_type": "code",
   "execution_count": 76,
   "id": "a69ad0e8",
   "metadata": {},
   "outputs": [
    {
     "name": "stdout",
     "output_type": "stream",
     "text": [
      "Accuracy: 0.0\n"
     ]
    }
   ],
   "source": [
    "# Create a k-nearest neighbors classifier with k=3\n",
    "knn = KNeighborsClassifier(n_neighbors=3)\n",
    "\n",
    "# Fit the classifier to the training data\n",
    "knn.fit(X_train, y_train)\n",
    "\n",
    "# Predict the labels for the testing data\n",
    "y_pred = knn.predict(X_test)\n",
    "\n",
    "# Calculate the accuracy of the classifier on the testing data\n",
    "accuracy = accuracy_score(y_test, y_pred)\n",
    "print(\"Accuracy:\", accuracy)"
   ]
  },
  {
   "cell_type": "code",
   "execution_count": null,
   "id": "4bd0f254",
   "metadata": {},
   "outputs": [],
   "source": []
  }
 ],
 "metadata": {
  "kernelspec": {
   "display_name": "Python 3 (ipykernel)",
   "language": "python",
   "name": "python3"
  },
  "language_info": {
   "codemirror_mode": {
    "name": "ipython",
    "version": 3
   },
   "file_extension": ".py",
   "mimetype": "text/x-python",
   "name": "python",
   "nbconvert_exporter": "python",
   "pygments_lexer": "ipython3",
   "version": "3.9.7"
  }
 },
 "nbformat": 4,
 "nbformat_minor": 5
}
