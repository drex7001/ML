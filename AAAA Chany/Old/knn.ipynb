{
 "cells": [
  {
   "cell_type": "code",
   "execution_count": 474,
   "metadata": {
    "id": "RL73pt1OFo0T"
   },
   "outputs": [],
   "source": [
    "import itertools\n",
    "import numpy as np\n",
    "import matplotlib.pyplot as plt\n",
    "from matplotlib.ticker import NullFormatter\n",
    "import pandas as pd\n",
    "import numpy as np\n",
    "import matplotlib.ticker as ticker\n",
    "from sklearn import preprocessing\n",
    "%matplotlib inline\n",
    "from sklearn.preprocessing import LabelEncoder"
   ]
  },
  {
   "cell_type": "code",
   "execution_count": 475,
   "metadata": {
    "colab": {
     "base_uri": "https://localhost:8080/",
     "height": 206
    },
    "id": "YuiTGMTgGOpd",
    "outputId": "d146fa47-8612-4b6a-d44a-ef7dc55b30a3"
   },
   "outputs": [
    {
     "data": {
      "text/html": [
       "<div>\n",
       "<style scoped>\n",
       "    .dataframe tbody tr th:only-of-type {\n",
       "        vertical-align: middle;\n",
       "    }\n",
       "\n",
       "    .dataframe tbody tr th {\n",
       "        vertical-align: top;\n",
       "    }\n",
       "\n",
       "    .dataframe thead th {\n",
       "        text-align: right;\n",
       "    }\n",
       "</style>\n",
       "<table border=\"1\" class=\"dataframe\">\n",
       "  <thead>\n",
       "    <tr style=\"text-align: right;\">\n",
       "      <th></th>\n",
       "      <th>Age</th>\n",
       "      <th>Married_Status</th>\n",
       "      <th>How_may_money_you_can_get_in_one_month</th>\n",
       "      <th>How_many_hours_can_spend_to_degree_in_once_a_week</th>\n",
       "      <th>Emploment_status</th>\n",
       "      <th>ol_maths</th>\n",
       "      <th>ol_science</th>\n",
       "      <th>ol_history</th>\n",
       "      <th>ol_primary_language</th>\n",
       "      <th>ol_english</th>\n",
       "      <th>...</th>\n",
       "      <th>grade_for_subject03</th>\n",
       "      <th>al_stream</th>\n",
       "      <th>al_english</th>\n",
       "      <th>al_subject1</th>\n",
       "      <th>grade_for_subject1</th>\n",
       "      <th>al_subject2</th>\n",
       "      <th>grade_for_subject2</th>\n",
       "      <th>al_subject3</th>\n",
       "      <th>grade_for_subject3</th>\n",
       "      <th>degree</th>\n",
       "    </tr>\n",
       "  </thead>\n",
       "  <tbody>\n",
       "    <tr>\n",
       "      <th>0</th>\n",
       "      <td>21-30 years</td>\n",
       "      <td>Single</td>\n",
       "      <td>Less than 30,000</td>\n",
       "      <td>More than 20 hours</td>\n",
       "      <td>Unemployed</td>\n",
       "      <td>C</td>\n",
       "      <td>C</td>\n",
       "      <td>B</td>\n",
       "      <td>C</td>\n",
       "      <td>C</td>\n",
       "      <td>...</td>\n",
       "      <td>B</td>\n",
       "      <td>Arts</td>\n",
       "      <td>C</td>\n",
       "      <td>Art</td>\n",
       "      <td>B</td>\n",
       "      <td>Economics</td>\n",
       "      <td>C</td>\n",
       "      <td>Business</td>\n",
       "      <td>C</td>\n",
       "      <td>Bachelor of Industrial Studies Honours – Fashi...</td>\n",
       "    </tr>\n",
       "    <tr>\n",
       "      <th>1</th>\n",
       "      <td>21-30 years</td>\n",
       "      <td>Single</td>\n",
       "      <td>Less than 30,000</td>\n",
       "      <td>More than 20 hours</td>\n",
       "      <td>Unemployed</td>\n",
       "      <td>C</td>\n",
       "      <td>C</td>\n",
       "      <td>B</td>\n",
       "      <td>C</td>\n",
       "      <td>C</td>\n",
       "      <td>...</td>\n",
       "      <td>B</td>\n",
       "      <td>Arts</td>\n",
       "      <td>S</td>\n",
       "      <td>Art</td>\n",
       "      <td>B</td>\n",
       "      <td>Economics</td>\n",
       "      <td>C</td>\n",
       "      <td>Business</td>\n",
       "      <td>C</td>\n",
       "      <td>Bachelor of Industrial Studies Honours – Fashi...</td>\n",
       "    </tr>\n",
       "    <tr>\n",
       "      <th>2</th>\n",
       "      <td>21-30 years</td>\n",
       "      <td>Single</td>\n",
       "      <td>Less than 30,000</td>\n",
       "      <td>More than 20 hours</td>\n",
       "      <td>Unemployed</td>\n",
       "      <td>C</td>\n",
       "      <td>C</td>\n",
       "      <td>B</td>\n",
       "      <td>C</td>\n",
       "      <td>C</td>\n",
       "      <td>...</td>\n",
       "      <td>B</td>\n",
       "      <td>Arts</td>\n",
       "      <td>S</td>\n",
       "      <td>Art</td>\n",
       "      <td>B</td>\n",
       "      <td>Economics</td>\n",
       "      <td>C</td>\n",
       "      <td>Business</td>\n",
       "      <td>C</td>\n",
       "      <td>Bachelor of Industrial Studies Honours – Fashi...</td>\n",
       "    </tr>\n",
       "    <tr>\n",
       "      <th>3</th>\n",
       "      <td>21-30 years</td>\n",
       "      <td>Single</td>\n",
       "      <td>Less than 30,000</td>\n",
       "      <td>More than 20 hours</td>\n",
       "      <td>Unemployed</td>\n",
       "      <td>C</td>\n",
       "      <td>C</td>\n",
       "      <td>B</td>\n",
       "      <td>C</td>\n",
       "      <td>C</td>\n",
       "      <td>...</td>\n",
       "      <td>B</td>\n",
       "      <td>Arts</td>\n",
       "      <td>S</td>\n",
       "      <td>Art</td>\n",
       "      <td>B</td>\n",
       "      <td>Economics</td>\n",
       "      <td>C</td>\n",
       "      <td>Business</td>\n",
       "      <td>C</td>\n",
       "      <td>Bachelor of Industrial Studies Honours – Fashi...</td>\n",
       "    </tr>\n",
       "    <tr>\n",
       "      <th>4</th>\n",
       "      <td>21-30 years</td>\n",
       "      <td>Single</td>\n",
       "      <td>Less than 30,000</td>\n",
       "      <td>More than 20 hours</td>\n",
       "      <td>Unemployed</td>\n",
       "      <td>C</td>\n",
       "      <td>C</td>\n",
       "      <td>B</td>\n",
       "      <td>C</td>\n",
       "      <td>C</td>\n",
       "      <td>...</td>\n",
       "      <td>B</td>\n",
       "      <td>Arts</td>\n",
       "      <td>S</td>\n",
       "      <td>Art</td>\n",
       "      <td>B</td>\n",
       "      <td>Economics</td>\n",
       "      <td>C</td>\n",
       "      <td>Business</td>\n",
       "      <td>C</td>\n",
       "      <td>Bachelor of Industrial Studies Honours – Fashi...</td>\n",
       "    </tr>\n",
       "  </tbody>\n",
       "</table>\n",
       "<p>5 rows × 26 columns</p>\n",
       "</div>"
      ],
      "text/plain": [
       "           Age Married_Status How_may_money_you_can_get_in_one_month  \\\n",
       "0  21-30 years         Single                       Less than 30,000   \n",
       "1  21-30 years         Single                       Less than 30,000   \n",
       "2  21-30 years         Single                       Less than 30,000   \n",
       "3  21-30 years         Single                       Less than 30,000   \n",
       "4  21-30 years         Single                       Less than 30,000   \n",
       "\n",
       "  How_many_hours_can_spend_to_degree_in_once_a_week Emploment_status ol_maths  \\\n",
       "0                                More than 20 hours       Unemployed        C   \n",
       "1                                More than 20 hours       Unemployed        C   \n",
       "2                                More than 20 hours       Unemployed        C   \n",
       "3                                More than 20 hours       Unemployed        C   \n",
       "4                                More than 20 hours       Unemployed        C   \n",
       "\n",
       "  ol_science ol_history ol_primary_language ol_english  ...  \\\n",
       "0          C          B                   C          C  ...   \n",
       "1          C          B                   C          C  ...   \n",
       "2          C          B                   C          C  ...   \n",
       "3          C          B                   C          C  ...   \n",
       "4          C          B                   C          C  ...   \n",
       "\n",
       "  grade_for_subject03 al_stream al_english al_subject1 grade_for_subject1  \\\n",
       "0                   B      Arts          C         Art                  B   \n",
       "1                   B      Arts          S         Art                  B   \n",
       "2                   B      Arts          S         Art                  B   \n",
       "3                   B      Arts          S         Art                  B   \n",
       "4                   B      Arts          S         Art                  B   \n",
       "\n",
       "  al_subject2 grade_for_subject2 al_subject3 grade_for_subject3  \\\n",
       "0   Economics                  C    Business                  C   \n",
       "1   Economics                  C    Business                  C   \n",
       "2   Economics                  C    Business                  C   \n",
       "3   Economics                  C    Business                  C   \n",
       "4   Economics                  C    Business                  C   \n",
       "\n",
       "                                              degree  \n",
       "0  Bachelor of Industrial Studies Honours – Fashi...  \n",
       "1  Bachelor of Industrial Studies Honours – Fashi...  \n",
       "2  Bachelor of Industrial Studies Honours – Fashi...  \n",
       "3  Bachelor of Industrial Studies Honours – Fashi...  \n",
       "4  Bachelor of Industrial Studies Honours – Fashi...  \n",
       "\n",
       "[5 rows x 26 columns]"
      ]
     },
     "execution_count": 475,
     "metadata": {},
     "output_type": "execute_result"
    }
   ],
   "source": [
    "df = pd.read_csv('cs_new.csv',encoding='cp1252')\n",
    "df.head()"
   ]
  },
  {
   "cell_type": "code",
   "execution_count": 476,
   "metadata": {
    "colab": {
     "base_uri": "https://localhost:8080/"
    },
    "id": "eS5vpdoNGTby",
    "outputId": "e32349f5-5e11-4736-8eb5-3decb6f76c37"
   },
   "outputs": [
    {
     "data": {
      "text/plain": [
       "(Index(['Age', 'Married_Status', 'How_may_money_you_can_get_in_one_month',\n",
       "        'How_many_hours_can_spend_to_degree_in_once_a_week', 'Emploment_status',\n",
       "        'ol_maths', 'ol_science', 'ol_history', 'ol_primary_language',\n",
       "        'ol_english', 'ol_religion', 'ol_group01_subject',\n",
       "        'grade_for_subject01', 'ol_group2_subject', 'grade_for_subject02',\n",
       "        'ol_group3_subject', 'grade_for_subject03', 'al_stream', 'al_english',\n",
       "        'al_subject1', 'grade_for_subject1', 'al_subject2',\n",
       "        'grade_for_subject2', 'al_subject3', 'grade_for_subject3', 'degree'],\n",
       "       dtype='object'),\n",
       " (322, 26))"
      ]
     },
     "execution_count": 476,
     "metadata": {},
     "output_type": "execute_result"
    }
   ],
   "source": [
    "df.columns, df.shape"
   ]
  },
  {
   "cell_type": "code",
   "execution_count": 477,
   "metadata": {},
   "outputs": [
    {
     "name": "stdout",
     "output_type": "stream",
     "text": [
      "Labeled values for column 'Age':\n",
      "15-20 years  = 0\n",
      "21-30 years = 1\n",
      "31-40 years = 2\n",
      "41-50 years = 3\n",
      "More than 50 = 4\n",
      "\n",
      "Labeled values for column 'Married_Status':\n",
      "Married = 0\n",
      "Single = 1\n",
      "\n",
      "Labeled values for column 'How_may_money_you_can_get_in_one_month':\n",
      "30,000 - 50,000 = 0\n",
      "50,000 - 70,000 = 1\n",
      "70,000 - 90,000 = 2\n",
      "Less than 30,000 = 3\n",
      "More than 90,000 = 4\n",
      "\n",
      "Labeled values for column 'How_many_hours_can_spend_to_degree_in_once_a_week':\n",
      "1-5 hours = 0\n",
      "11-15 hours = 1\n",
      "16-20 hours = 2\n",
      "6-10 hours = 3\n",
      "More than 20 hours = 4\n",
      "\n",
      "Labeled values for column 'Emploment_status':\n",
      "Employed full-time = 0\n",
      "Employed part-time = 1\n",
      "Unemployed = 2\n",
      "\n",
      "Labeled values for column 'ol_maths':\n",
      "A = 0\n",
      "B = 1\n",
      "C = 2\n",
      "\n",
      "Labeled values for column 'ol_science':\n",
      "A = 0\n",
      "B = 1\n",
      "C = 2\n",
      "S = 3\n",
      "\n",
      "Labeled values for column 'ol_history':\n",
      "A = 0\n",
      "B = 1\n",
      "C = 2\n",
      "S = 3\n",
      "\n",
      "Labeled values for column 'ol_primary_language':\n",
      "A = 0\n",
      "B = 1\n",
      "C = 2\n",
      "\n",
      "Labeled values for column 'ol_english':\n",
      "A = 0\n",
      "B = 1\n",
      "C = 2\n",
      "S = 3\n",
      "\n",
      "Labeled values for column 'ol_religion':\n",
      "A = 0\n",
      "B = 1\n",
      "C = 2\n",
      "\n",
      "Labeled values for column 'ol_group01_subject':\n",
      "Business & Accounting Studies = 0\n",
      "Civic Education = 1\n",
      "French = 2\n",
      "Geography = 3\n",
      "German = 4\n",
      "Japanese = 5\n",
      "Second Language (Tamil) = 6\n",
      "\n",
      "Labeled values for column 'grade_for_subject01':\n",
      "A = 0\n",
      "B = 1\n",
      "C = 2\n",
      "S = 3\n",
      "\n",
      "Labeled values for column 'ol_group2_subject':\n",
      "Appreciation of English Literary Texts = 0\n",
      "Art = 1\n",
      "Dancing (Oriental) = 2\n",
      "Drama and Theatre (Sinhala) = 3\n",
      "Music (Oriental) = 4\n",
      "Music (Western) = 5\n",
      "\n",
      "Labeled values for column 'grade_for_subject02':\n",
      "A = 0\n",
      "B = 1\n",
      "C = 2\n",
      "\n",
      "Labeled values for column 'ol_group3_subject':\n",
      "Agriculture & Food Technology = 0\n",
      "Health & Physical Education = 1\n",
      "Information & Communication Technology = 2\n",
      "\n",
      "Labeled values for column 'grade_for_subject03':\n",
      "A = 0\n",
      "B = 1\n",
      "C = 2\n",
      "\n",
      "Labeled values for column 'al_stream':\n",
      "Arts = 0\n",
      "Commerce = 1\n",
      "Mathematics with Chemistry = 2\n",
      "Mathematics with IT = 3\n",
      "Science = 4\n",
      "\n",
      "Labeled values for column 'al_english':\n",
      "A = 0\n",
      "B = 1\n",
      "C = 2\n",
      "S = 3\n",
      "\n",
      "Labeled values for column 'al_subject1':\n",
      "Agro Technology = 0\n",
      "Art = 1\n",
      "Biology = 2\n",
      "Combine Mathematics = 3\n",
      "Economics = 4\n",
      "\n",
      "Labeled values for column 'grade_for_subject1':\n",
      "A = 0\n",
      "B = 1\n",
      "C = 2\n",
      "S = 3\n",
      "\n",
      "Labeled values for column 'al_subject2':\n",
      "Biology = 0\n",
      "Business = 1\n",
      "Chemistry = 2\n",
      "Economics = 3\n",
      "Physics = 4\n",
      "\n",
      "Labeled values for column 'grade_for_subject2':\n",
      "B = 0\n",
      "C = 1\n",
      "S = 2\n",
      "\n",
      "Labeled values for column 'al_subject3':\n",
      "Accounting = 0\n",
      "Business = 1\n",
      "Chemistry = 2\n",
      "ICT = 3\n",
      "Information & Communication = 4\n",
      "Physics = 5\n",
      "\n",
      "Labeled values for column 'grade_for_subject3':\n",
      "A = 0\n",
      "B = 1\n",
      "C = 2\n",
      "S = 3\n",
      "\n",
      "Labeled values for column 'degree':\n",
      "Bachelor of Industrial Studies Honours - Agriculture = 0\n",
      "Bachelor of Industrial Studies Honours – Apparel Production and Management = 1\n",
      "Bachelor of Industrial Studies Honours – Fashion Design and Product Development = 2\n",
      "Bachelor of Industrial Studies Honours – Textile Manufacture Specialization = 3\n",
      "Bachelor of Software Engineering Honours = 4\n",
      "Bachelor of Technology (BTech) Honours in Agriculture and Plantation Engineering = 5\n",
      "Bachelor of Technology - Civil Engineering = 6\n",
      "Bachelor of Technology - Computer Engineering = 7\n",
      "Bachelor of Technology - Electrical Engineering = 8\n",
      "Bachelor of Technology - Electronic and Communication Engineering = 9\n",
      "Bachelor of Technology - Mechanical Engineering = 10\n",
      "Bachelor of Technology - Mechatronics Engineering = 11\n",
      "Bachelor of Technology Honours in Engineering – Textile & Clothing = 12\n",
      "\n"
     ]
    }
   ],
   "source": [
    "#  for column in df.columns:\n",
    "#     # Check if the column is of object or string type (categorical)\n",
    "#     if df[column].dtype == 'object':\n",
    "#         # Apply label encoding to the column\n",
    "#         df[column] = label_encoder.fit_transform(df[column])\n",
    "\n",
    "# df.head()\n",
    "\n",
    "mapping_info = {}\n",
    "\n",
    "# Apply label encoding to each categorical column\n",
    "for column in df.columns:\n",
    "    # Check if the column is of object or string type (categorical)\n",
    "    if df[column].dtype == 'object':\n",
    "        # Apply label encoding to the column\n",
    "        df[column] = label_encoder.fit_transform(df[column])\n",
    "        # Store the mapping information for the column\n",
    "        mapping_info[column] = dict(zip(label_encoder.classes_, label_encoder.transform(label_encoder.classes_)))\n",
    "\n",
    "# Print the labeled values for each column\n",
    "for column, mapping in mapping_info.items():\n",
    "    print(f\"Labeled values for column '{column}':\")\n",
    "    for category, encoded_value in mapping.items():\n",
    "        print(f\"{category} = {encoded_value}\")\n",
    "    print()"
   ]
  },
  {
   "cell_type": "code",
   "execution_count": 478,
   "metadata": {
    "colab": {
     "base_uri": "https://localhost:8080/"
    },
    "id": "rPxPCYMgGVO3",
    "outputId": "8d14ef7f-2039-4f98-bb07-e4557cc846dd"
   },
   "outputs": [
    {
     "data": {
      "text/plain": [
       "1     46\n",
       "6     37\n",
       "4     36\n",
       "5     34\n",
       "7     30\n",
       "2     26\n",
       "8     26\n",
       "3     18\n",
       "9     18\n",
       "10    16\n",
       "0     13\n",
       "11    12\n",
       "12    10\n",
       "Name: degree, dtype: int64"
      ]
     },
     "execution_count": 478,
     "metadata": {},
     "output_type": "execute_result"
    }
   ],
   "source": [
    "df['degree'].value_counts()"
   ]
  },
  {
   "cell_type": "code",
   "execution_count": 479,
   "metadata": {
    "colab": {
     "base_uri": "https://localhost:8080/",
     "height": 204
    },
    "id": "X_yQ4kRTGXYk",
    "outputId": "b1c90583-dfef-469a-976b-6b072e5a807c"
   },
   "outputs": [
    {
     "data": {
      "text/html": [
       "<div>\n",
       "<style scoped>\n",
       "    .dataframe tbody tr th:only-of-type {\n",
       "        vertical-align: middle;\n",
       "    }\n",
       "\n",
       "    .dataframe tbody tr th {\n",
       "        vertical-align: top;\n",
       "    }\n",
       "\n",
       "    .dataframe thead th {\n",
       "        text-align: right;\n",
       "    }\n",
       "</style>\n",
       "<table border=\"1\" class=\"dataframe\">\n",
       "  <thead>\n",
       "    <tr style=\"text-align: right;\">\n",
       "      <th></th>\n",
       "      <th>Age</th>\n",
       "      <th>Married_Status</th>\n",
       "      <th>How_may_money_you_can_get_in_one_month</th>\n",
       "      <th>How_many_hours_can_spend_to_degree_in_once_a_week</th>\n",
       "      <th>Emploment_status</th>\n",
       "      <th>ol_maths</th>\n",
       "      <th>ol_science</th>\n",
       "      <th>ol_history</th>\n",
       "      <th>ol_primary_language</th>\n",
       "      <th>ol_english</th>\n",
       "      <th>...</th>\n",
       "      <th>ol_group3_subject</th>\n",
       "      <th>grade_for_subject03</th>\n",
       "      <th>al_stream</th>\n",
       "      <th>al_english</th>\n",
       "      <th>al_subject1</th>\n",
       "      <th>grade_for_subject1</th>\n",
       "      <th>al_subject2</th>\n",
       "      <th>grade_for_subject2</th>\n",
       "      <th>al_subject3</th>\n",
       "      <th>grade_for_subject3</th>\n",
       "    </tr>\n",
       "  </thead>\n",
       "  <tbody>\n",
       "    <tr>\n",
       "      <th>0</th>\n",
       "      <td>1</td>\n",
       "      <td>1</td>\n",
       "      <td>3</td>\n",
       "      <td>4</td>\n",
       "      <td>2</td>\n",
       "      <td>2</td>\n",
       "      <td>2</td>\n",
       "      <td>1</td>\n",
       "      <td>2</td>\n",
       "      <td>2</td>\n",
       "      <td>...</td>\n",
       "      <td>0</td>\n",
       "      <td>1</td>\n",
       "      <td>0</td>\n",
       "      <td>2</td>\n",
       "      <td>1</td>\n",
       "      <td>1</td>\n",
       "      <td>3</td>\n",
       "      <td>1</td>\n",
       "      <td>1</td>\n",
       "      <td>2</td>\n",
       "    </tr>\n",
       "    <tr>\n",
       "      <th>1</th>\n",
       "      <td>1</td>\n",
       "      <td>1</td>\n",
       "      <td>3</td>\n",
       "      <td>4</td>\n",
       "      <td>2</td>\n",
       "      <td>2</td>\n",
       "      <td>2</td>\n",
       "      <td>1</td>\n",
       "      <td>2</td>\n",
       "      <td>2</td>\n",
       "      <td>...</td>\n",
       "      <td>0</td>\n",
       "      <td>1</td>\n",
       "      <td>0</td>\n",
       "      <td>3</td>\n",
       "      <td>1</td>\n",
       "      <td>1</td>\n",
       "      <td>3</td>\n",
       "      <td>1</td>\n",
       "      <td>1</td>\n",
       "      <td>2</td>\n",
       "    </tr>\n",
       "    <tr>\n",
       "      <th>2</th>\n",
       "      <td>1</td>\n",
       "      <td>1</td>\n",
       "      <td>3</td>\n",
       "      <td>4</td>\n",
       "      <td>2</td>\n",
       "      <td>2</td>\n",
       "      <td>2</td>\n",
       "      <td>1</td>\n",
       "      <td>2</td>\n",
       "      <td>2</td>\n",
       "      <td>...</td>\n",
       "      <td>0</td>\n",
       "      <td>1</td>\n",
       "      <td>0</td>\n",
       "      <td>3</td>\n",
       "      <td>1</td>\n",
       "      <td>1</td>\n",
       "      <td>3</td>\n",
       "      <td>1</td>\n",
       "      <td>1</td>\n",
       "      <td>2</td>\n",
       "    </tr>\n",
       "    <tr>\n",
       "      <th>3</th>\n",
       "      <td>1</td>\n",
       "      <td>1</td>\n",
       "      <td>3</td>\n",
       "      <td>4</td>\n",
       "      <td>2</td>\n",
       "      <td>2</td>\n",
       "      <td>2</td>\n",
       "      <td>1</td>\n",
       "      <td>2</td>\n",
       "      <td>2</td>\n",
       "      <td>...</td>\n",
       "      <td>0</td>\n",
       "      <td>1</td>\n",
       "      <td>0</td>\n",
       "      <td>3</td>\n",
       "      <td>1</td>\n",
       "      <td>1</td>\n",
       "      <td>3</td>\n",
       "      <td>1</td>\n",
       "      <td>1</td>\n",
       "      <td>2</td>\n",
       "    </tr>\n",
       "    <tr>\n",
       "      <th>4</th>\n",
       "      <td>1</td>\n",
       "      <td>1</td>\n",
       "      <td>3</td>\n",
       "      <td>4</td>\n",
       "      <td>2</td>\n",
       "      <td>2</td>\n",
       "      <td>2</td>\n",
       "      <td>1</td>\n",
       "      <td>2</td>\n",
       "      <td>2</td>\n",
       "      <td>...</td>\n",
       "      <td>0</td>\n",
       "      <td>1</td>\n",
       "      <td>0</td>\n",
       "      <td>3</td>\n",
       "      <td>1</td>\n",
       "      <td>1</td>\n",
       "      <td>3</td>\n",
       "      <td>1</td>\n",
       "      <td>1</td>\n",
       "      <td>2</td>\n",
       "    </tr>\n",
       "    <tr>\n",
       "      <th>...</th>\n",
       "      <td>...</td>\n",
       "      <td>...</td>\n",
       "      <td>...</td>\n",
       "      <td>...</td>\n",
       "      <td>...</td>\n",
       "      <td>...</td>\n",
       "      <td>...</td>\n",
       "      <td>...</td>\n",
       "      <td>...</td>\n",
       "      <td>...</td>\n",
       "      <td>...</td>\n",
       "      <td>...</td>\n",
       "      <td>...</td>\n",
       "      <td>...</td>\n",
       "      <td>...</td>\n",
       "      <td>...</td>\n",
       "      <td>...</td>\n",
       "      <td>...</td>\n",
       "      <td>...</td>\n",
       "      <td>...</td>\n",
       "      <td>...</td>\n",
       "    </tr>\n",
       "    <tr>\n",
       "      <th>295</th>\n",
       "      <td>0</td>\n",
       "      <td>1</td>\n",
       "      <td>3</td>\n",
       "      <td>4</td>\n",
       "      <td>2</td>\n",
       "      <td>0</td>\n",
       "      <td>0</td>\n",
       "      <td>1</td>\n",
       "      <td>1</td>\n",
       "      <td>0</td>\n",
       "      <td>...</td>\n",
       "      <td>2</td>\n",
       "      <td>1</td>\n",
       "      <td>4</td>\n",
       "      <td>1</td>\n",
       "      <td>0</td>\n",
       "      <td>2</td>\n",
       "      <td>0</td>\n",
       "      <td>2</td>\n",
       "      <td>2</td>\n",
       "      <td>3</td>\n",
       "    </tr>\n",
       "    <tr>\n",
       "      <th>296</th>\n",
       "      <td>1</td>\n",
       "      <td>1</td>\n",
       "      <td>2</td>\n",
       "      <td>0</td>\n",
       "      <td>0</td>\n",
       "      <td>1</td>\n",
       "      <td>0</td>\n",
       "      <td>2</td>\n",
       "      <td>0</td>\n",
       "      <td>1</td>\n",
       "      <td>...</td>\n",
       "      <td>2</td>\n",
       "      <td>1</td>\n",
       "      <td>4</td>\n",
       "      <td>2</td>\n",
       "      <td>2</td>\n",
       "      <td>0</td>\n",
       "      <td>2</td>\n",
       "      <td>0</td>\n",
       "      <td>5</td>\n",
       "      <td>2</td>\n",
       "    </tr>\n",
       "    <tr>\n",
       "      <th>297</th>\n",
       "      <td>0</td>\n",
       "      <td>1</td>\n",
       "      <td>3</td>\n",
       "      <td>4</td>\n",
       "      <td>2</td>\n",
       "      <td>0</td>\n",
       "      <td>2</td>\n",
       "      <td>1</td>\n",
       "      <td>1</td>\n",
       "      <td>0</td>\n",
       "      <td>...</td>\n",
       "      <td>2</td>\n",
       "      <td>1</td>\n",
       "      <td>4</td>\n",
       "      <td>1</td>\n",
       "      <td>0</td>\n",
       "      <td>2</td>\n",
       "      <td>0</td>\n",
       "      <td>2</td>\n",
       "      <td>2</td>\n",
       "      <td>3</td>\n",
       "    </tr>\n",
       "    <tr>\n",
       "      <th>298</th>\n",
       "      <td>1</td>\n",
       "      <td>1</td>\n",
       "      <td>2</td>\n",
       "      <td>0</td>\n",
       "      <td>0</td>\n",
       "      <td>1</td>\n",
       "      <td>0</td>\n",
       "      <td>2</td>\n",
       "      <td>0</td>\n",
       "      <td>1</td>\n",
       "      <td>...</td>\n",
       "      <td>2</td>\n",
       "      <td>1</td>\n",
       "      <td>4</td>\n",
       "      <td>2</td>\n",
       "      <td>2</td>\n",
       "      <td>0</td>\n",
       "      <td>2</td>\n",
       "      <td>0</td>\n",
       "      <td>5</td>\n",
       "      <td>2</td>\n",
       "    </tr>\n",
       "    <tr>\n",
       "      <th>299</th>\n",
       "      <td>0</td>\n",
       "      <td>1</td>\n",
       "      <td>3</td>\n",
       "      <td>4</td>\n",
       "      <td>2</td>\n",
       "      <td>0</td>\n",
       "      <td>0</td>\n",
       "      <td>1</td>\n",
       "      <td>1</td>\n",
       "      <td>0</td>\n",
       "      <td>...</td>\n",
       "      <td>2</td>\n",
       "      <td>1</td>\n",
       "      <td>4</td>\n",
       "      <td>1</td>\n",
       "      <td>0</td>\n",
       "      <td>2</td>\n",
       "      <td>0</td>\n",
       "      <td>2</td>\n",
       "      <td>2</td>\n",
       "      <td>3</td>\n",
       "    </tr>\n",
       "  </tbody>\n",
       "</table>\n",
       "<p>300 rows × 25 columns</p>\n",
       "</div>"
      ],
      "text/plain": [
       "     Age  Married_Status  How_may_money_you_can_get_in_one_month  \\\n",
       "0      1               1                                       3   \n",
       "1      1               1                                       3   \n",
       "2      1               1                                       3   \n",
       "3      1               1                                       3   \n",
       "4      1               1                                       3   \n",
       "..   ...             ...                                     ...   \n",
       "295    0               1                                       3   \n",
       "296    1               1                                       2   \n",
       "297    0               1                                       3   \n",
       "298    1               1                                       2   \n",
       "299    0               1                                       3   \n",
       "\n",
       "     How_many_hours_can_spend_to_degree_in_once_a_week  Emploment_status  \\\n",
       "0                                                    4                 2   \n",
       "1                                                    4                 2   \n",
       "2                                                    4                 2   \n",
       "3                                                    4                 2   \n",
       "4                                                    4                 2   \n",
       "..                                                 ...               ...   \n",
       "295                                                  4                 2   \n",
       "296                                                  0                 0   \n",
       "297                                                  4                 2   \n",
       "298                                                  0                 0   \n",
       "299                                                  4                 2   \n",
       "\n",
       "     ol_maths  ol_science  ol_history  ol_primary_language  ol_english  ...  \\\n",
       "0           2           2           1                    2           2  ...   \n",
       "1           2           2           1                    2           2  ...   \n",
       "2           2           2           1                    2           2  ...   \n",
       "3           2           2           1                    2           2  ...   \n",
       "4           2           2           1                    2           2  ...   \n",
       "..        ...         ...         ...                  ...         ...  ...   \n",
       "295         0           0           1                    1           0  ...   \n",
       "296         1           0           2                    0           1  ...   \n",
       "297         0           2           1                    1           0  ...   \n",
       "298         1           0           2                    0           1  ...   \n",
       "299         0           0           1                    1           0  ...   \n",
       "\n",
       "     ol_group3_subject  grade_for_subject03  al_stream  al_english  \\\n",
       "0                    0                    1          0           2   \n",
       "1                    0                    1          0           3   \n",
       "2                    0                    1          0           3   \n",
       "3                    0                    1          0           3   \n",
       "4                    0                    1          0           3   \n",
       "..                 ...                  ...        ...         ...   \n",
       "295                  2                    1          4           1   \n",
       "296                  2                    1          4           2   \n",
       "297                  2                    1          4           1   \n",
       "298                  2                    1          4           2   \n",
       "299                  2                    1          4           1   \n",
       "\n",
       "     al_subject1  grade_for_subject1  al_subject2  grade_for_subject2  \\\n",
       "0              1                   1            3                   1   \n",
       "1              1                   1            3                   1   \n",
       "2              1                   1            3                   1   \n",
       "3              1                   1            3                   1   \n",
       "4              1                   1            3                   1   \n",
       "..           ...                 ...          ...                 ...   \n",
       "295            0                   2            0                   2   \n",
       "296            2                   0            2                   0   \n",
       "297            0                   2            0                   2   \n",
       "298            2                   0            2                   0   \n",
       "299            0                   2            0                   2   \n",
       "\n",
       "     al_subject3  grade_for_subject3  \n",
       "0              1                   2  \n",
       "1              1                   2  \n",
       "2              1                   2  \n",
       "3              1                   2  \n",
       "4              1                   2  \n",
       "..           ...                 ...  \n",
       "295            2                   3  \n",
       "296            5                   2  \n",
       "297            2                   3  \n",
       "298            5                   2  \n",
       "299            2                   3  \n",
       "\n",
       "[300 rows x 25 columns]"
      ]
     },
     "execution_count": 479,
     "metadata": {},
     "output_type": "execute_result"
    }
   ],
   "source": [
    "X = df.drop(['degree'], axis = 1)\n",
    "X.head(300)"
   ]
  },
  {
   "cell_type": "code",
   "execution_count": 480,
   "metadata": {
    "colab": {
     "base_uri": "https://localhost:8080/"
    },
    "id": "Tze7ZUGnGcHS",
    "outputId": "6835ac32-50a3-431b-a429-840b7eeef0fd"
   },
   "outputs": [
    {
     "data": {
      "text/plain": [
       "0    2\n",
       "1    2\n",
       "2    2\n",
       "3    2\n",
       "4    2\n",
       "Name: degree, dtype: int32"
      ]
     },
     "execution_count": 480,
     "metadata": {},
     "output_type": "execute_result"
    }
   ],
   "source": [
    "y = df['degree']\n",
    "y.head()"
   ]
  },
  {
   "cell_type": "code",
   "execution_count": 481,
   "metadata": {
    "colab": {
     "base_uri": "https://localhost:8080/",
     "height": 316
    },
    "id": "IkNpcXxCHPJK",
    "outputId": "5db6493c-66be-44e3-86f8-3289a635305b"
   },
   "outputs": [],
   "source": [
    "# df.hist(column='How_may_money_you_can_get_in_one_month', bins=50)"
   ]
  },
  {
   "cell_type": "markdown",
   "metadata": {
    "id": "-ZQ11IvOHuaW"
   },
   "source": [
    "**Normalize Data**\n",
    "\n",
    "Data Standardization give data zero mean and unit variance, it is good practice, especially for algorithms such as KNN which is based on distance of cases:"
   ]
  },
  {
   "cell_type": "code",
   "execution_count": 482,
   "metadata": {
    "id": "CM5jvzwYHiu7"
   },
   "outputs": [],
   "source": [
    "# X = preprocessing.StandardScaler().fit(X).transform(X.astype(float))"
   ]
  },
  {
   "cell_type": "code",
   "execution_count": 483,
   "metadata": {
    "colab": {
     "base_uri": "https://localhost:8080/"
    },
    "id": "DExU6zmQ2hOe",
    "outputId": "67b871be-5481-4044-e59e-e0ef56288e0d"
   },
   "outputs": [
    {
     "data": {
      "text/html": [
       "<div>\n",
       "<style scoped>\n",
       "    .dataframe tbody tr th:only-of-type {\n",
       "        vertical-align: middle;\n",
       "    }\n",
       "\n",
       "    .dataframe tbody tr th {\n",
       "        vertical-align: top;\n",
       "    }\n",
       "\n",
       "    .dataframe thead th {\n",
       "        text-align: right;\n",
       "    }\n",
       "</style>\n",
       "<table border=\"1\" class=\"dataframe\">\n",
       "  <thead>\n",
       "    <tr style=\"text-align: right;\">\n",
       "      <th></th>\n",
       "      <th>Age</th>\n",
       "      <th>Married_Status</th>\n",
       "      <th>How_may_money_you_can_get_in_one_month</th>\n",
       "      <th>How_many_hours_can_spend_to_degree_in_once_a_week</th>\n",
       "      <th>Emploment_status</th>\n",
       "      <th>ol_maths</th>\n",
       "      <th>ol_science</th>\n",
       "      <th>ol_history</th>\n",
       "      <th>ol_primary_language</th>\n",
       "      <th>ol_english</th>\n",
       "      <th>...</th>\n",
       "      <th>ol_group3_subject</th>\n",
       "      <th>grade_for_subject03</th>\n",
       "      <th>al_stream</th>\n",
       "      <th>al_english</th>\n",
       "      <th>al_subject1</th>\n",
       "      <th>grade_for_subject1</th>\n",
       "      <th>al_subject2</th>\n",
       "      <th>grade_for_subject2</th>\n",
       "      <th>al_subject3</th>\n",
       "      <th>grade_for_subject3</th>\n",
       "    </tr>\n",
       "  </thead>\n",
       "  <tbody>\n",
       "    <tr>\n",
       "      <th>0</th>\n",
       "      <td>1</td>\n",
       "      <td>1</td>\n",
       "      <td>3</td>\n",
       "      <td>4</td>\n",
       "      <td>2</td>\n",
       "      <td>2</td>\n",
       "      <td>2</td>\n",
       "      <td>1</td>\n",
       "      <td>2</td>\n",
       "      <td>2</td>\n",
       "      <td>...</td>\n",
       "      <td>0</td>\n",
       "      <td>1</td>\n",
       "      <td>0</td>\n",
       "      <td>2</td>\n",
       "      <td>1</td>\n",
       "      <td>1</td>\n",
       "      <td>3</td>\n",
       "      <td>1</td>\n",
       "      <td>1</td>\n",
       "      <td>2</td>\n",
       "    </tr>\n",
       "  </tbody>\n",
       "</table>\n",
       "<p>1 rows × 25 columns</p>\n",
       "</div>"
      ],
      "text/plain": [
       "   Age  Married_Status  How_may_money_you_can_get_in_one_month  \\\n",
       "0    1               1                                       3   \n",
       "\n",
       "   How_many_hours_can_spend_to_degree_in_once_a_week  Emploment_status  \\\n",
       "0                                                  4                 2   \n",
       "\n",
       "   ol_maths  ol_science  ol_history  ol_primary_language  ol_english  ...  \\\n",
       "0         2           2           1                    2           2  ...   \n",
       "\n",
       "   ol_group3_subject  grade_for_subject03  al_stream  al_english  al_subject1  \\\n",
       "0                  0                    1          0           2            1   \n",
       "\n",
       "   grade_for_subject1  al_subject2  grade_for_subject2  al_subject3  \\\n",
       "0                   1            3                   1            1   \n",
       "\n",
       "   grade_for_subject3  \n",
       "0                   2  \n",
       "\n",
       "[1 rows x 25 columns]"
      ]
     },
     "execution_count": 483,
     "metadata": {},
     "output_type": "execute_result"
    }
   ],
   "source": [
    "X[0:1]"
   ]
  },
  {
   "cell_type": "code",
   "execution_count": 484,
   "metadata": {
    "colab": {
     "base_uri": "https://localhost:8080/"
    },
    "id": "zHe9OHa_IPHM",
    "outputId": "a23a5f91-b466-4008-a06b-7aa70cfc6632"
   },
   "outputs": [
    {
     "name": "stdout",
     "output_type": "stream",
     "text": [
      "Train set: (257, 25) (257,)\n",
      "Test set: (65, 25) (65,)\n"
     ]
    }
   ],
   "source": [
    "from sklearn.model_selection import train_test_split\n",
    "X_train, X_test, y_train, y_test = train_test_split( X, y, test_size=0.2, random_state=4)\n",
    "print ('Train set:', X_train.shape,  y_train.shape)\n",
    "print ('Test set:', X_test.shape,  y_test.shape)"
   ]
  },
  {
   "cell_type": "code",
   "execution_count": 485,
   "metadata": {
    "id": "h7B39eUNITey"
   },
   "outputs": [],
   "source": [
    "from sklearn.neighbors import KNeighborsClassifier\n",
    "from sklearn import metrics"
   ]
  },
  {
   "cell_type": "markdown",
   "metadata": {
    "id": "yai5KxP8IjH2"
   },
   "source": [
    "**Define and train the KNN model**"
   ]
  },
  {
   "cell_type": "code",
   "execution_count": 486,
   "metadata": {
    "colab": {
     "base_uri": "https://localhost:8080/"
    },
    "id": "3r7UeQKPIWHw",
    "outputId": "b4c09e67-7eb3-4d71-e10a-d73e5e6fcf89"
   },
   "outputs": [
    {
     "data": {
      "text/plain": [
       "KNeighborsClassifier(n_neighbors=4)"
      ]
     },
     "execution_count": 486,
     "metadata": {},
     "output_type": "execute_result"
    }
   ],
   "source": [
    "k = 4\n",
    "#Train Model\n",
    "model = KNeighborsClassifier(n_neighbors = k)\n",
    "model.fit(X_train,y_train)"
   ]
  },
  {
   "cell_type": "markdown",
   "metadata": {
    "id": "FxVonL55IqlH"
   },
   "source": [
    "**Get predictions**"
   ]
  },
  {
   "cell_type": "code",
   "execution_count": 487,
   "metadata": {
    "colab": {
     "base_uri": "https://localhost:8080/"
    },
    "id": "uASXnputIgOc",
    "outputId": "d5a6513c-9d90-4455-ca10-4b06ba37352c"
   },
   "outputs": [
    {
     "name": "stdout",
     "output_type": "stream",
     "text": [
      "Accuracy of model at K=4 is 0.9538461538461539\n"
     ]
    }
   ],
   "source": [
    "Pred_y = model.predict(X_test)\n",
    "print(\"Accuracy of model at K=4 is\",metrics.accuracy_score(y_test, Pred_y))"
   ]
  },
  {
   "cell_type": "code",
   "execution_count": 488,
   "metadata": {
    "colab": {
     "base_uri": "https://localhost:8080/"
    },
    "id": "eQGmkh0PIbBG",
    "outputId": "746e2d5c-f555-4789-f87c-a06d1a8ea5fc"
   },
   "outputs": [
    {
     "data": {
      "text/plain": [
       "array([ 8,  2,  6,  1,  1,  7,  5,  6,  7,  5, 10,  2,  2,  2,  8,  6,  1,\n",
       "        1,  1,  8,  5,  4,  1,  6,  2,  2,  5, 11,  1,  8,  5,  5,  3,  4,\n",
       "       11,  5,  5, 10,  1, 11,  1,  7,  8, 11,  2,  6,  1, 10,  6,  5, 10,\n",
       "        6,  2,  7,  5,  5,  4,  7,  4, 12,  7, 10,  8, 10,  6])"
      ]
     },
     "execution_count": 488,
     "metadata": {},
     "output_type": "execute_result"
    }
   ],
   "source": [
    "Pred_y"
   ]
  },
  {
   "cell_type": "code",
   "execution_count": 489,
   "metadata": {
    "colab": {
     "base_uri": "https://localhost:8080/",
     "height": 421
    },
    "id": "mEP1ntBiJ_W2",
    "outputId": "03000665-a6b2-42a2-8a05-79c8fcd124b1"
   },
   "outputs": [
    {
     "name": "stdout",
     "output_type": "stream",
     "text": [
      "Minimum error:- 0.046153846153846156 at K = 0\n"
     ]
    },
    {
     "data": {
      "image/png": "[encoded data removed]",
      "text/plain": [
       "<Figure size 720x432 with 1 Axes>"
      ]
     },
     "metadata": {
      "needs_background": "light"
     },
     "output_type": "display_data"
    }
   ],
   "source": [
    "Ks = 40\n",
    "error_rate = []\n",
    "# Will take some time\n",
    "for i in range(1,40):\n",
    "\n",
    " knn = KNeighborsClassifier(n_neighbors=i)\n",
    " knn.fit(X_train,y_train)\n",
    " pred_i = knn.predict(X_test)\n",
    " error_rate.append(np.mean(pred_i != y_test))\n",
    "\n",
    "plt.figure(figsize=(10,6))\n",
    "plt.plot(range(1,40),error_rate,color='blue', linestyle='dashed', marker='o',markerfacecolor='red', markersize=10)\n",
    "plt.title('Error Rate vs. K Value')\n",
    "plt.xlabel('K')\n",
    "plt.ylabel('Error Rate')\n",
    "\n",
    "print(\"Minimum error:-\",min(error_rate),\"at K =\",error_rate.index(min(error_rate)))"
   ]
  },
  {
   "cell_type": "code",
   "execution_count": 490,
   "metadata": {
    "colab": {
     "base_uri": "https://localhost:8080/",
     "height": 421
    },
    "id": "beylo5oUKGh9",
    "outputId": "7133d188-a698-4b41-e308-4e6d8db8fc36"
   },
   "outputs": [
    {
     "name": "stdout",
     "output_type": "stream",
     "text": [
      "Maximum accuracy:- 0.9538461538461539 at K = 0\n"
     ]
    },
    {
     "data": {
      "image/png": "[encoded data removed]",
      "text/plain": [
       "<Figure size 720x432 with 1 Axes>"
      ]
     },
     "metadata": {
      "needs_background": "light"
     },
     "output_type": "display_data"
    }
   ],
   "source": [
    "acc = []\n",
    "# Will take some time\n",
    "from sklearn import metrics\n",
    "for i in range(1,100):\n",
    "    neigh = KNeighborsClassifier(n_neighbors = i).fit(X_train,y_train)\n",
    "    yhat = neigh.predict(X_test)\n",
    "    acc.append(metrics.accuracy_score(y_test, yhat))\n",
    "\n",
    "plt.figure(figsize=(10,6))\n",
    "plt.plot(range(1,100),acc,color = 'blue',linestyle='dashed', marker='o',markerfacecolor='red', markersize=10)\n",
    "plt.title('accuracy vs. K Value')\n",
    "plt.xlabel('K')\n",
    "plt.ylabel('Accuracy')\n",
    "\n",
    "print(\"Maximum accuracy:-\",max(acc),\"at K =\",acc.index(max(acc)))"
   ]
  },
  {
   "cell_type": "code",
   "execution_count": 491,
   "metadata": {
    "colab": {
     "base_uri": "https://localhost:8080/"
    },
    "id": "M4C9FH_hKKCs",
    "outputId": "123836da-fdda-431b-d1f7-6f3e99d3d956"
   },
   "outputs": [],
   "source": [
    "# import joblib\n",
    "# from sklearn.externals import joblib\n",
    "# joblib.dump(model, 'model.pkl')\n",
    "\n",
    "import pickle\n",
    "pickle.dump(model, open('model.pkl','wb'))"
   ]
  },
  {
   "cell_type": "code",
   "execution_count": 492,
   "metadata": {},
   "outputs": [
    {
     "name": "stdout",
     "output_type": "stream",
     "text": [
      "[8]\n"
     ]
    }
   ],
   "source": [
    "model = pickle.load(open('model.pkl','rb'))\n",
    "print(model.predict([[1,1,0,4,1,0,1,1,1,3,1,0,1,4,2,2,2,2,3,3,3,4,1,2,3]]))"
   ]
  },
  {
   "cell_type": "code",
   "execution_count": 493,
   "metadata": {},
   "outputs": [
    {
     "name": "stdout",
     "output_type": "stream",
     "text": [
      "[1 1 3 4 2 2 2 1 2 2 1 3 1 1 1 0 1 0 2 1 1 3 1 1 2 2]\n",
      "[1 1 3 4 2 2 2 1 2 2 1 3 1 1 1 0 1 0 3 1 1 3 1 1 2 2]\n",
      "[1 1 3 4 2 2 2 1 2 2 1 3 1 1 1 0 1 0 3 1 1 3 1 1 2 2]\n",
      "[1 1 3 4 2 2 2 1 2 2 1 3 1 1 1 0 1 0 3 1 1 3 1 1 2 2]\n"
     ]
    }
   ],
   "source": [
    "first_row_array0 = df.iloc[0].values\n",
    "first_row_array1 = df.iloc[1].values\n",
    "first_row_array2 = df.iloc[2].values\n",
    "first_row_array3 = df.iloc[3].values\n",
    "print(first_row_array0)\n",
    "print(first_row_array1)\n",
    "print(first_row_array2)\n",
    "print(first_row_array3)"
   ]
  },
  {
   "cell_type": "code",
   "execution_count": 494,
   "metadata": {},
   "outputs": [
    {
     "name": "stdout",
     "output_type": "stream",
     "text": [
      "[8]\n",
      "[2]\n",
      "[5]\n",
      "[6]\n"
     ]
    }
   ],
   "source": [
    "model = pickle.load(open('model.pkl','rb'))\n",
    "print(model.predict([[1,1,0,4,1,0,1,1,1,3,1,0,1,4,2,2,2,2,2,3,3,4,1,2,2]]))\n",
    "print(model.predict([[1,1,3,4,2,2,2,1,2,2,1,3,1,1,1,0,1,0,2,1,1,3,1,1,2]]))\n",
    "print(model.predict([[0,1,3,4,2,0,0,1,1,0,0,0,0,4,0,2,1,3,1,0,2,0,2,2,3]]))\n",
    "print(model.predict([[1,0,2,2,0,0,1,0,1,0,0,0,0,0,2,2,0,2,1,3,3,4,1,2,2]]))"
   ]
  },
  {
   "cell_type": "code",
   "execution_count": 495,
   "metadata": {},
   "outputs": [
    {
     "name": "stdout",
     "output_type": "stream",
     "text": [
      "Number of neighbors: 4\n",
      "Distance metric: minkowski\n"
     ]
    }
   ],
   "source": [
    "# # Get the predicted probabilities for each class\n",
    "# proba_scores = knn.predict_proba(X_test)\n",
    "\n",
    "# Determine the class with the highest probability for each test sample\n",
    "# predictions = []\n",
    "# for sample_probs in proba_scores:\n",
    "#     # Sort the probabilities in descending order and get the corresponding class indices\n",
    "#     sorted_indices = sample_probs.argsort()[::-1]\n",
    "    \n",
    "#     # Select the class with the highest probability\n",
    "#     most_weighted_class = sorted_indices[0]\n",
    "    \n",
    "#     # Append the class to the predictions list\n",
    "#     predictions.append(most_weighted_class)\n",
    "\n",
    "# # Print the predictions\n",
    "# print(predictions)\n",
    "\n",
    "import pickle\n",
    "\n",
    "# Load the pickled model\n",
    "with open('model.pkl', 'rb') as file:\n",
    "    model = pickle.load(file)\n",
    "\n",
    "# Access and print the model's parameters\n",
    "print(\"Number of neighbors:\", model.n_neighbors)\n",
    "print(\"Distance metric:\", model.metric)\n",
    "# Add more attributes as needed"
   ]
  },
  {
   "cell_type": "code",
   "execution_count": 496,
   "metadata": {},
   "outputs": [],
   "source": [
    "# from sklearn.neighbors import KNeighborsClassifier\n",
    "# from sklearn.datasets import load_iris\n",
    "\n",
    "# # new_sample = [[1,0,2,2,0,0,1,0,1,0,0,0,0,0,2,2,0,2,1,3,3,4,1,2,2]]\n",
    "# scaled_inputs_all.iloc[shuffled_indices]\n",
    "\n",
    "# predicted_labels = model.predict([[1,0,2,2,0,0,1,0,1,0,0,0,0,0,2,2,0,2,1,3,3,4,1,2,2]])\n",
    "\n",
    "# # Get the indices of the nearest neighbors\n",
    "# distances, indices = model.kneighbors([[1,0,2,2,0,0,1,0,1,0,0,0,0,0,2,2,0,2,1,3,3,4,1,2,2]])\n",
    "\n",
    "# # # Get the actual samples for the nearest neighbors\n",
    "# nearest_neighbors = X[indices[0]]\n",
    "\n",
    "# # Get the class labels for the nearest neighbors\n",
    "# neighbor_labels = y[indices[0]]\n",
    "\n",
    "# # Print the predicted label and the nearest neighbors' labels\n",
    "# print(\"Predicted Label:\", predicted_labels[0])\n",
    "# print(\"Nearest Neighbors' Labels:\", neighbor_labels)"
   ]
  },
  {
   "cell_type": "code",
   "execution_count": 497,
   "metadata": {},
   "outputs": [],
   "source": [
    "# from sklearn.preprocessing import LabelEncoder\n",
    "# import pandas as pd\n",
    "\n",
    "# # Create a DataFrame\n",
    "# df = pd.DataFrame({\n",
    "#     'Color': ['red', 'blue', 'green', 'red', 'blue'],\n",
    "#     'Size': ['small', 'large', 'medium', 'medium', 'small'],\n",
    "#     'Shape': ['circle', 'square', 'triangle', 'circle', 'square']\n",
    "# })\n",
    "\n",
    "# Create an instance of LabelEncoder\n",
    "# label_encoder = LabelEncoder()\n",
    "\n",
    "# Dictionary to store mapping information for each column\n",
    "# mapping_info = {}\n",
    "\n",
    "# # Apply label encoding to each categorical column\n",
    "# for column in df.columns:\n",
    "#     # Check if the column is of object or string type (categorical)\n",
    "#     if df[column].dtype == 'object':\n",
    "#         # Apply label encoding to the column\n",
    "#         df[column] = label_encoder.fit_transform(df[column])\n",
    "#         # Store the mapping information for the column\n",
    "#         mapping_info[column] = dict(zip(label_encoder.classes_, label_encoder.transform(label_encoder.classes_)))\n",
    "\n",
    "# # Print the labeled values for each column\n",
    "# for column, mapping in mapping_info.items():\n",
    "#     print(f\"Labeled values for column '{column}':\")\n",
    "#     for category, encoded_value in mapping.items():\n",
    "#         print(f\"{category} = {encoded_value}\")\n",
    "#     print()\n"
   ]
  },
  {
   "cell_type": "code",
   "execution_count": null,
   "metadata": {},
   "outputs": [],
   "source": []
  }
 ],
 "metadata": {
  "colab": {
   "provenance": []
  },
  "kernelspec": {
   "display_name": "Python 3 (ipykernel)",
   "language": "python",
   "name": "python3"
  },
  "language_info": {
   "codemirror_mode": {
    "name": "ipython",
    "version": 3
   },
   "file_extension": ".py",
   "mimetype": "text/x-python",
   "name": "python",
   "nbconvert_exporter": "python",
   "pygments_lexer": "ipython3",
   "version": "3.9.7"
  }
 },
 "nbformat": 4,
 "nbformat_minor": 1
}
